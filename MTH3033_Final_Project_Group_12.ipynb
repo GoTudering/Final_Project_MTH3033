{
  "cells": [
    {
      "cell_type": "markdown",
      "metadata": {
        "id": "view-in-github",
        "colab_type": "text"
      },
      "source": [
        "<a href=\"https://colab.research.google.com/github/GoTudering/Final_Project_MTH3033/blob/main/MTH3033_Final_Project_Group_12.ipynb\" target=\"_parent\"><img src=\"https://colab.research.google.com/assets/colab-badge.svg\" alt=\"Open In Colab\"/></a>"
      ]
    },
    {
      "cell_type": "code",
      "execution_count": 1,
      "metadata": {
        "id": "58AogOtdL4Gy"
      },
      "outputs": [],
      "source": [
        "import os\n",
        "import torch\n",
        "import torch.nn as nn\n",
        "import torch.optim as optim\n",
        "import torch.nn.functional as F\n",
        "from torch.utils import data\n",
        "import torchvision.datasets as datasets\n",
        "import torchvision.transforms as transforms\n",
        "from tqdm import tqdm\n",
        "import numpy as np\n",
        "from glob import glob\n",
        "try:\n",
        "    import cv2\n",
        "    from google. colab.patches import cv2_imshow\n",
        "except:\n",
        "    pass\n",
        "from time import time"
      ]
    },
    {
      "cell_type": "code",
      "execution_count": null,
      "metadata": {
        "id": "rcQn4RAfRfGg"
      },
      "outputs": [],
      "source": [
        "device = 'cuda' if torch.cuda.is_available() else 'cpu'\n",
        "\n",
        "# for reproducibility\n",
        "torch.manual_seed(777)\n",
        "if device == 'cuda':\n",
        "    torch.cuda.manual_seed_all(777)"
      ]
    },
    {
      "cell_type": "markdown",
      "metadata": {
        "id": "6aV87bwlRkVC"
      },
      "source": [
        "# Lenet"
      ]
    },
    {
      "cell_type": "markdown",
      "metadata": {
        "id": "DC0ZIputXjMo"
      },
      "source": [
        "Hpyerparameters\n",
        "- learning_rate = 0.001\n",
        "- training_epochs = 30\n",
        "- batch_size = 100\n",
        "- \\[Epoch:   30\\] cost = 0.323462397\n",
        "- Accuracy: 83.7%"
      ]
    },
    {
      "cell_type": "code",
      "execution_count": null,
      "metadata": {
        "id": "iY_0d8R_Rp7N"
      },
      "outputs": [],
      "source": [
        "# parameters\n",
        "learning_rate = 0.001\n",
        "training_epochs = 30\n",
        "batch_size = 100"
      ]
    },
    {
      "cell_type": "code",
      "execution_count": null,
      "metadata": {
        "id": "Ohm3y7CDRrzA"
      },
      "outputs": [],
      "source": [
        "Fashion_mnist_train = datasets.FashionMNIST(root='FashionMNIST_data/',\n",
        "                          train=True,\n",
        "                          transform=transforms.ToTensor(),\n",
        "                          download=True)\n",
        "\n",
        "Fashion_mnist_test = datasets.FashionMNIST(root='FashionMNIST_data/',\n",
        "                         train=False,\n",
        "                         transform=transforms.ToTensor(),\n",
        "                         download=True)"
      ]
    },
    {
      "cell_type": "code",
      "execution_count": null,
      "metadata": {
        "id": "sfAq3xNMRtZ8"
      },
      "outputs": [],
      "source": [
        "# dataset loader\n",
        "data_loader = torch.utils.data.DataLoader(dataset=Fashion_mnist_train,\n",
        "                                          batch_size=batch_size,\n",
        "                                          shuffle=True,\n",
        "                                          drop_last=True)"
      ]
    },
    {
      "cell_type": "code",
      "execution_count": null,
      "metadata": {
        "id": "GXhnAfWYRvQ5"
      },
      "outputs": [],
      "source": [
        "# Lenet Model\n",
        "class Lenet(torch.nn.Module):\n",
        "\n",
        "    def __init__(self):\n",
        "        super(Lenet, self).__init__()\n",
        "        self.keep_prob = 0.5 # for dropout\n",
        "        # L1 ImgIn shape=(?, 28, 28, 1)\n",
        "        #    Conv     -> (?, 28, 28, 6)\n",
        "        #    Pool     -> (?, 14, 14, 6)\n",
        "        self.layer1 = torch.nn.Sequential(\n",
        "            torch.nn.Conv2d(1, 6, kernel_size=5, stride=1, padding=2),\n",
        "            torch.nn.Sigmoid(),\n",
        "            torch.nn.AvgPool2d(kernel_size=2, stride=2))\n",
        "        # L2 ImgIn shape=(?, 14, 14, 6)\n",
        "        #    Conv      ->(?, 10, 10, 16)\n",
        "        #    Pool      ->(?, 5, 5, 16)\n",
        "        self.layer2 = torch.nn.Sequential(\n",
        "            torch.nn.Conv2d(6, 16, kernel_size=5, stride=1),\n",
        "            torch.nn.Sigmoid(),\n",
        "            torch.nn.AvgPool2d(kernel_size=2, stride=2))\n",
        "        # L3 ImgIn shape=(?, 5, 5, 16)\n",
        "        #    Conv      ->(?, 1, 1, 120)\n",
        "        self.layer3 = torch.nn.Sequential(\n",
        "            torch.nn.Conv2d(16, 120, kernel_size=5, stride=1),\n",
        "            torch.nn.Sigmoid(),\n",
        "            torch.nn.AvgPool2d(1,stride = 1))\n",
        "\n",
        "        # L4 FC 1x1x120 inputs -> 84 outputs\n",
        "        self.fc1 = torch.nn.Linear(1 * 1 * 120, 84, bias=True)\n",
        "        torch.nn.init.xavier_uniform_(self.fc1.weight)\n",
        "        self.layer4 = torch.nn.Sequential(\n",
        "            self.fc1,\n",
        "            torch.nn.Sigmoid(),\n",
        "            torch.nn.Dropout(p=1 - self.keep_prob))\n",
        "        # L5 Final FC 84 inputs -> 10 outputs\n",
        "        self.fc2 = torch.nn.Linear(84, 10, bias=True)\n",
        "        torch.nn.init.xavier_uniform_(self.fc2.weight)\n",
        "\n",
        "    def forward(self, x):\n",
        "        out = self.layer1(x)\n",
        "        out = self.layer2(out)\n",
        "        out = self.layer3(out)\n",
        "        out = out.view(out.size(0), -1)   # Flatten them for FC\n",
        "        out = self.layer4(out)\n",
        "        out = self.fc2(out)\n",
        "        return out"
      ]
    },
    {
      "cell_type": "code",
      "execution_count": null,
      "metadata": {
        "id": "V-P1FcVZSMkS"
      },
      "outputs": [],
      "source": [
        "# instantiate Lenet model\n",
        "model = Lenet().to(device)"
      ]
    },
    {
      "cell_type": "code",
      "execution_count": null,
      "metadata": {
        "id": "MA9lyBaYUz7N"
      },
      "outputs": [],
      "source": [
        "# define cost/loss & optimizer\n",
        "criterion = torch.nn.CrossEntropyLoss().to(device)\n",
        "optimizer = torch.optim.Adam(model.parameters(), lr=learning_rate)"
      ]
    },
    {
      "cell_type": "code",
      "execution_count": null,
      "metadata": {
        "colab": {
          "base_uri": "https://localhost:8080/"
        },
        "id": "mGRl2sYgVHxf",
        "outputId": "aebae7dd-af4a-44e5-942f-341df7f14694"
      },
      "outputs": [
        {
          "name": "stdout",
          "output_type": "stream",
          "text": [
            "Learning started. It takes sometime.\n",
            "[Epoch:    1] cost = 2.30245304 time = 3.35\n",
            "[Epoch:    2] cost = 0.972696006 time = 3.33\n",
            "[Epoch:    3] cost = 0.693885922 time = 3.34\n",
            "[Epoch:    4] cost = 0.623212457 time = 3.35\n",
            "[Epoch:    5] cost = 0.573274791 time = 3.34\n",
            "[Epoch:    6] cost = 0.538884699 time = 3.35\n",
            "[Epoch:    7] cost = 0.51257056 time = 3.34\n",
            "[Epoch:    8] cost = 0.49055469 time = 3.34\n",
            "[Epoch:    9] cost = 0.471953303 time = 3.34\n",
            "[Epoch:   10] cost = 0.455652952 time = 3.35\n",
            "[Epoch:   11] cost = 0.442127824 time = 3.35\n",
            "[Epoch:   12] cost = 0.429072708 time = 3.36\n",
            "[Epoch:   13] cost = 0.417727262 time = 3.36\n",
            "[Epoch:   14] cost = 0.409175932 time = 3.36\n",
            "[Epoch:   15] cost = 0.400433272 time = 3.36\n",
            "[Epoch:   16] cost = 0.39276728 time = 3.36\n",
            "[Epoch:   17] cost = 0.383944124 time = 3.36\n",
            "[Epoch:   18] cost = 0.378917217 time = 3.36\n",
            "[Epoch:   19] cost = 0.371140301 time = 3.36\n",
            "[Epoch:   20] cost = 0.363427758 time = 3.33\n",
            "[Epoch:   21] cost = 0.359794617 time = 3.33\n",
            "[Epoch:   22] cost = 0.35398984 time = 3.32\n",
            "[Epoch:   23] cost = 0.351800352 time = 3.32\n",
            "[Epoch:   24] cost = 0.344941556 time = 3.33\n",
            "[Epoch:   25] cost = 0.34290567 time = 3.33\n",
            "[Epoch:   26] cost = 0.337796718 time = 3.39\n",
            "[Epoch:   27] cost = 0.335869402 time = 3.37\n",
            "[Epoch:   28] cost = 0.333348513 time = 3.38\n",
            "[Epoch:   29] cost = 0.326170504 time = 3.38\n",
            "[Epoch:   30] cost = 0.323462367 time = 3.37\n",
            "Learning Finished!\n"
          ]
        }
      ],
      "source": [
        "# train my model\n",
        "total_batch = len(data_loader)\n",
        "model.train()    # set the model to train mode (dropout=True)\n",
        "print('Learning started. It takes sometime.')\n",
        "for epoch in range(training_epochs):\n",
        "    start_time = time()\n",
        "    avg_cost = 0\n",
        "\n",
        "    for X, Y in data_loader:\n",
        "        # image is already size of (28x28), no reshape\n",
        "        # label is not one-hot encoded\n",
        "        X = X.to(device)\n",
        "        Y = Y.to(device)\n",
        "\n",
        "        optimizer.zero_grad()\n",
        "        hypothesis = model(X)\n",
        "        cost = criterion(hypothesis, Y)\n",
        "        cost.backward()\n",
        "        optimizer.step()\n",
        "\n",
        "        avg_cost += cost / total_batch\n",
        "    t_int = time() - start_time\n",
        "\n",
        "    print('[Epoch: {:>4}] cost = {:>.9} time = {:>.3}'.format(epoch + 1, avg_cost, t_int))\n",
        "\n",
        "print('Learning Finished!')"
      ]
    },
    {
      "cell_type": "code",
      "execution_count": null,
      "metadata": {
        "id": "kse4SUs2QR8C",
        "outputId": "1f4d38fd-ef91-4bff-c5dc-4bba62e472c8"
      },
      "outputs": [
        {
          "name": "stdout",
          "output_type": "stream",
          "text": [
            "61706\n"
          ]
        }
      ],
      "source": [
        "total_params = sum(p.numel() for p in model.parameters())\n",
        "print(total_params)"
      ]
    },
    {
      "cell_type": "code",
      "execution_count": null,
      "metadata": {
        "colab": {
          "base_uri": "https://localhost:8080/"
        },
        "id": "bpZpf6ALVMeC",
        "outputId": "1c362916-cec1-49d1-cd19-43d4faf4f74b"
      },
      "outputs": [
        {
          "name": "stdout",
          "output_type": "stream",
          "text": [
            "Accuracy: 0.8366000056266785\n"
          ]
        },
        {
          "name": "stderr",
          "output_type": "stream",
          "text": [
            "/apps/vv137/conda/envs/torch/lib/python3.10/site-packages/torchvision/datasets/mnist.py:80: UserWarning: test_data has been renamed data\n",
            "  warnings.warn(\"test_data has been renamed data\")\n",
            "/apps/vv137/conda/envs/torch/lib/python3.10/site-packages/torchvision/datasets/mnist.py:70: UserWarning: test_labels has been renamed targets\n",
            "  warnings.warn(\"test_labels has been renamed targets\")\n"
          ]
        }
      ],
      "source": [
        "# Test model and check accuracy\n",
        "with torch.no_grad():\n",
        "    model.eval()    # set the model to evaluation mode (dropout=False)\n",
        "\n",
        "    X_test = Fashion_mnist_test.test_data.view(len(Fashion_mnist_test), 1, 28, 28).float().to(device)\n",
        "    Y_test = Fashion_mnist_test.test_labels.to(device)\n",
        "\n",
        "    prediction = model(X_test)\n",
        "    correct_prediction = torch.argmax(prediction, 1) == Y_test\n",
        "    accuracy = correct_prediction.float().mean()\n",
        "    print('Accuracy:', accuracy.item())"
      ]
    },
    {
      "cell_type": "markdown",
      "metadata": {
        "id": "2MQJOVSvXKRY"
      },
      "source": [
        "## New hyperparameters\n",
        "- learning_rate = 0.0001\n",
        "- training_epochs = 30\n",
        "- batch_size = 100\n",
        "- \\[Epoch:   30\\] cost = 0.623933136\n",
        "- Accuracy: 55.26%"
      ]
    },
    {
      "cell_type": "code",
      "execution_count": null,
      "metadata": {
        "id": "5t3A1fsnXTmX"
      },
      "outputs": [],
      "source": [
        "# parameters\n",
        "learning_rate = 0.0001\n",
        "training_epochs = 30\n",
        "batch_size = 100"
      ]
    },
    {
      "cell_type": "code",
      "execution_count": null,
      "metadata": {
        "id": "odvDvbgMXsYH"
      },
      "outputs": [],
      "source": [
        "# instantiate Lenet model\n",
        "model = Lenet().to(device)"
      ]
    },
    {
      "cell_type": "code",
      "execution_count": null,
      "metadata": {
        "id": "4meL05pLXwUv"
      },
      "outputs": [],
      "source": [
        "# define cost/loss & optimizer\n",
        "criterion = torch.nn.CrossEntropyLoss().to(device)\n",
        "optimizer = torch.optim.Adam(model.parameters(), lr=learning_rate)"
      ]
    },
    {
      "cell_type": "code",
      "execution_count": null,
      "metadata": {
        "colab": {
          "base_uri": "https://localhost:8080/"
        },
        "id": "ZLULEkGXXyrT",
        "outputId": "53a3dfd6-0644-4154-f43e-fa622217fff1"
      },
      "outputs": [
        {
          "name": "stdout",
          "output_type": "stream",
          "text": [
            "Learning started. It takes sometime.\n",
            "[Epoch:    1] cost = 2.39497805 time = 3.35\n",
            "[Epoch:    2] cost = 2.31842113 time = 3.34\n",
            "[Epoch:    3] cost = 2.30986357 time = 3.34\n",
            "[Epoch:    4] cost = 2.30571485 time = 3.33\n",
            "[Epoch:    5] cost = 2.30316877 time = 3.33\n",
            "[Epoch:    6] cost = 2.06571651 time = 3.31\n",
            "[Epoch:    7] cost = 1.47964871 time = 3.31\n",
            "[Epoch:    8] cost = 1.2263447 time = 3.41\n",
            "[Epoch:    9] cost = 1.0897001 time = 3.36\n",
            "[Epoch:   10] cost = 0.998242676 time = 3.38\n",
            "[Epoch:   11] cost = 0.933161914 time = 3.36\n",
            "[Epoch:   12] cost = 0.887539804 time = 3.35\n",
            "[Epoch:   13] cost = 0.851607561 time = 3.35\n",
            "[Epoch:   14] cost = 0.822056592 time = 3.35\n",
            "[Epoch:   15] cost = 0.796923995 time = 3.35\n",
            "[Epoch:   16] cost = 0.775072277 time = 3.35\n",
            "[Epoch:   17] cost = 0.754238248 time = 3.35\n",
            "[Epoch:   18] cost = 0.735512674 time = 3.32\n",
            "[Epoch:   19] cost = 0.723216832 time = 3.32\n",
            "[Epoch:   20] cost = 0.711005986 time = 3.33\n",
            "[Epoch:   21] cost = 0.698223233 time = 3.31\n",
            "[Epoch:   22] cost = 0.686553776 time = 3.31\n",
            "[Epoch:   23] cost = 0.676157475 time = 3.32\n",
            "[Epoch:   24] cost = 0.667972147 time = 3.4\n",
            "[Epoch:   25] cost = 0.659668386 time = 3.36\n",
            "[Epoch:   26] cost = 0.652582765 time = 3.39\n",
            "[Epoch:   27] cost = 0.642806292 time = 3.38\n",
            "[Epoch:   28] cost = 0.636498094 time = 3.37\n",
            "[Epoch:   29] cost = 0.630700946 time = 3.37\n",
            "[Epoch:   30] cost = 0.623933256 time = 3.37\n",
            "Learning Finished!\n"
          ]
        }
      ],
      "source": [
        "# train my model\n",
        "total_batch = len(data_loader)\n",
        "model.train()    # set the model to train mode (dropout=True)\n",
        "print('Learning started. It takes sometime.')\n",
        "for epoch in range(training_epochs):\n",
        "    start_time = time()\n",
        "    avg_cost = 0\n",
        "\n",
        "    for X, Y in data_loader:\n",
        "        # image is already size of (28x28), no reshape\n",
        "        # label is not one-hot encoded\n",
        "        X = X.to(device)\n",
        "        Y = Y.to(device)\n",
        "\n",
        "        optimizer.zero_grad()\n",
        "        hypothesis = model(X)\n",
        "        cost = criterion(hypothesis, Y)\n",
        "        cost.backward()\n",
        "        optimizer.step()\n",
        "\n",
        "        avg_cost += cost / total_batch\n",
        "    t_int = time() - start_time\n",
        "\n",
        "    print('[Epoch: {:>4}] cost = {:>.9} time = {:>.3}'.format(epoch + 1, avg_cost, t_int))\n",
        "\n",
        "print('Learning Finished!')"
      ]
    },
    {
      "cell_type": "code",
      "execution_count": null,
      "metadata": {
        "colab": {
          "base_uri": "https://localhost:8080/"
        },
        "id": "I44bq2tZX1Pt",
        "outputId": "d3b2a4a5-718b-4e64-c852-47bc97cfb40c"
      },
      "outputs": [
        {
          "name": "stdout",
          "output_type": "stream",
          "text": [
            "Accuracy: 0.5525999665260315\n"
          ]
        }
      ],
      "source": [
        "# Test model and check accuracy\n",
        "with torch.no_grad():\n",
        "    model.eval()    # set the model to evaluation mode (dropout=False)\n",
        "\n",
        "    X_test = Fashion_mnist_test.test_data.view(len(Fashion_mnist_test), 1, 28, 28).float().to(device)\n",
        "    Y_test = Fashion_mnist_test.test_labels.to(device)\n",
        "\n",
        "    prediction = model(X_test)\n",
        "    correct_prediction = torch.argmax(prediction, 1) == Y_test\n",
        "    accuracy = correct_prediction.float().mean()\n",
        "    print('Accuracy:', accuracy.item())"
      ]
    },
    {
      "cell_type": "markdown",
      "metadata": {
        "id": "WHtMcnfJX3T5"
      },
      "source": [
        "# Another new hyperparameters\n",
        "- learning_rate = 0.01\n",
        "- training_epochs = 30\n",
        "- batch_size = 100\n",
        "- \\[Epoch:   30\\] cost = 0.231829226\n",
        "- Accuracy: 85.71%"
      ]
    },
    {
      "cell_type": "code",
      "execution_count": null,
      "metadata": {
        "id": "hkpDXtCYX5pj"
      },
      "outputs": [],
      "source": [
        "# parameters\n",
        "learning_rate = 0.01\n",
        "training_epochs = 30\n",
        "batch_size = 100"
      ]
    },
    {
      "cell_type": "code",
      "execution_count": null,
      "metadata": {
        "id": "7K7UNBCPX7Im"
      },
      "outputs": [],
      "source": [
        "# instantiate Lenet model\n",
        "model = Lenet().to(device)"
      ]
    },
    {
      "cell_type": "code",
      "execution_count": null,
      "metadata": {
        "id": "7a6KTMOzX9Cq"
      },
      "outputs": [],
      "source": [
        "# define cost/loss & optimizer\n",
        "criterion = torch.nn.CrossEntropyLoss().to(device)    # Softmax is internally computed.\n",
        "optimizer = torch.optim.Adam(model.parameters(), lr=learning_rate)"
      ]
    },
    {
      "cell_type": "code",
      "execution_count": null,
      "metadata": {
        "colab": {
          "base_uri": "https://localhost:8080/"
        },
        "id": "kR8PZxnLX-O-",
        "outputId": "5afa79ff-c500-4d9e-da96-297b1de3c14e"
      },
      "outputs": [
        {
          "name": "stdout",
          "output_type": "stream",
          "text": [
            "Learning started. It takes sometime.\n",
            "[Epoch:    1] cost = 1.131513\n",
            "[Epoch:    2] cost = 0.53677702\n",
            "[Epoch:    3] cost = 0.457695514\n",
            "[Epoch:    4] cost = 0.414591968\n",
            "[Epoch:    5] cost = 0.389568269\n",
            "[Epoch:    6] cost = 0.370916426\n",
            "[Epoch:    7] cost = 0.349738061\n",
            "[Epoch:    8] cost = 0.33857277\n",
            "[Epoch:    9] cost = 0.326101571\n",
            "[Epoch:   10] cost = 0.316689432\n",
            "[Epoch:   11] cost = 0.309548616\n",
            "[Epoch:   12] cost = 0.305716395\n",
            "[Epoch:   13] cost = 0.297814995\n",
            "[Epoch:   14] cost = 0.290650666\n",
            "[Epoch:   15] cost = 0.286495715\n",
            "[Epoch:   16] cost = 0.276740432\n",
            "[Epoch:   17] cost = 0.273112804\n",
            "[Epoch:   18] cost = 0.271924317\n",
            "[Epoch:   19] cost = 0.263724089\n",
            "[Epoch:   20] cost = 0.261057198\n",
            "[Epoch:   21] cost = 0.258934826\n",
            "[Epoch:   22] cost = 0.257813811\n",
            "[Epoch:   23] cost = 0.251692116\n",
            "[Epoch:   24] cost = 0.250494868\n",
            "[Epoch:   25] cost = 0.2454779\n",
            "[Epoch:   26] cost = 0.242721602\n",
            "[Epoch:   27] cost = 0.238347575\n",
            "[Epoch:   28] cost = 0.237292781\n",
            "[Epoch:   29] cost = 0.235936657\n",
            "[Epoch:   30] cost = 0.228381082\n",
            "Learning Finished!\n"
          ]
        }
      ],
      "source": [
        "# train my model\n",
        "total_batch = len(data_loader)\n",
        "model.train()    # set the model to train mode (dropout=True)\n",
        "print('Learning started. It takes sometime.')\n",
        "for epoch in range(training_epochs):\n",
        "    avg_cost = 0\n",
        "\n",
        "    for X, Y in data_loader:\n",
        "        # image is already size of (28x28), no reshape\n",
        "        # label is not one-hot encoded\n",
        "        X = X.to(device)\n",
        "        Y = Y.to(device)\n",
        "\n",
        "        optimizer.zero_grad()\n",
        "        hypothesis = model(X)\n",
        "        cost = criterion(hypothesis, Y)\n",
        "        cost.backward()\n",
        "        optimizer.step()\n",
        "\n",
        "        avg_cost += cost / total_batch\n",
        "\n",
        "    print('[Epoch: {:>4}] cost = {:>.9}'.format(epoch + 1, avg_cost))\n",
        "\n",
        "print('Learning Finished!')"
      ]
    },
    {
      "cell_type": "code",
      "execution_count": null,
      "metadata": {
        "colab": {
          "base_uri": "https://localhost:8080/"
        },
        "id": "_x1OU3UIX_P_",
        "outputId": "3d58b4c1-7660-44c4-c987-0876ddd274ea"
      },
      "outputs": [
        {
          "name": "stdout",
          "output_type": "stream",
          "text": [
            "Accuracy: 0.8570999503135681\n"
          ]
        }
      ],
      "source": [
        "# Test model and check accuracy\n",
        "with torch.no_grad():\n",
        "    model.eval()    # set the model to evaluation mode (dropout=False)\n",
        "\n",
        "    X_test = Fashion_mnist_test.test_data.view(len(Fashion_mnist_test), 1, 28, 28).float().to(device)\n",
        "    Y_test = Fashion_mnist_test.test_labels.to(device)\n",
        "\n",
        "    prediction = model(X_test)\n",
        "    correct_prediction = torch.argmax(prediction, 1) == Y_test\n",
        "    accuracy = correct_prediction.float().mean()\n",
        "    print('Accuracy:', accuracy.item())"
      ]
    },
    {
      "cell_type": "markdown",
      "metadata": {
        "id": "q2IsaGS0YAcJ"
      },
      "source": [
        "# Alexnet"
      ]
    },
    {
      "cell_type": "markdown",
      "metadata": {
        "id": "Cve6Y7VjQR8H"
      },
      "source": [
        "- Acc: 91.33%"
      ]
    },
    {
      "cell_type": "code",
      "execution_count": null,
      "metadata": {
        "id": "_J12e-8WYv9t"
      },
      "outputs": [],
      "source": [
        "NUM_EPOCHS = 20\n",
        "BATCH_SIZE = 128\n",
        "\n",
        "CHECKPOINTS_DIR = './Alexmodels'\n",
        "os.makedirs(CHECKPOINTS_DIR, exist_ok=True)"
      ]
    },
    {
      "cell_type": "markdown",
      "metadata": {
        "id": "uWnjRBUkD3PM"
      },
      "source": [
        "다음 링크를 다운 받아 `Alexmodels` 디렉터리에 넣어주시기 바랍니다.\n",
        "\n",
        "https://drive.google.com/file/d/1pYgMjH1yVlPwbidALENfeAo2aqBNxeHS/view?usp=share_link"
      ]
    },
    {
      "cell_type": "markdown",
      "metadata": {
        "id": "M0P3r9CzCYB-"
      },
      "source": [
        "한 Epoch 당 Colab으로 2시간이 걸려 지인의 RTX 4090 GPU를 빌려 학습을 수행하였습니다.\n",
        "\n",
        "해당 GPU로 돌리니 한 Epoch 당 20초밖에 걸리지 않아 충분한 횟수의 학습을 진행하였습니다.\n",
        "\n",
        "이를 통해 얻은 최선의 가중치 결과 파일을 첨부하였습니다."
      ]
    },
    {
      "cell_type": "code",
      "execution_count": null,
      "metadata": {
        "id": "Yyn9WmU4Ywjf"
      },
      "outputs": [],
      "source": [
        "normalize = transforms.Normalize(mean=[0.485, 0.456, 0.406],\n",
        "                                std=[0.229, 0.224, 0.225])\n",
        "to_rgb = transforms.Lambda(lambda image: image.convert('RGB'))\n",
        "resize = transforms.Resize((224, 224))\n",
        "oh_my_eyes_transform = transforms.Compose([resize, to_rgb, transforms.ToTensor(), normalize])\n",
        "\n",
        "train_set = datasets.FashionMNIST(root='FashionMNIST_data/',\n",
        "                                  train=True,\n",
        "                                  transform=oh_my_eyes_transform,\n",
        "                                  download=True)\n",
        "test_set = datasets.FashionMNIST(root='FashionMNIST_data/',\n",
        "                                 train=False,\n",
        "                                 transform=oh_my_eyes_transform,\n",
        "                                 download=True)"
      ]
    },
    {
      "cell_type": "code",
      "execution_count": null,
      "metadata": {
        "id": "Poe7V7ZWY7vZ"
      },
      "outputs": [],
      "source": [
        "class AlexNet(nn.Module):\n",
        "    def __init__(self) -> None:\n",
        "        super().__init__()\n",
        "\n",
        "        self.num_classes: int = 10\n",
        "        dropout: float = 0.5\n",
        "\n",
        "        # Input: (N, 3, 224, 224)\n",
        "        self.features = nn.Sequential(\n",
        "            nn.Conv2d(3, 96, kernel_size=11, stride=4, padding=0),  # (N, 54, 54, 96)\n",
        "            nn.ReLU(inplace=True),\n",
        "            nn.MaxPool2d(kernel_size=3, stride=2, padding=0),  # (N, 26, 26, 96)\n",
        "            nn.Conv2d(96, 256, kernel_size=5, stride=1, padding=2),  # (N, 26, 26, 256)\n",
        "            nn.ReLU(inplace=True),\n",
        "            nn.MaxPool2d(kernel_size=3, stride=2, padding=0),  # (N, 12, 12, 256)\n",
        "            nn.Conv2d(256, 384, kernel_size=3, stride=1, padding=1),  # (N, 12, 12, 384)\n",
        "            nn.ReLU(inplace=True),\n",
        "            nn.Conv2d(384, 384, kernel_size=3, stride=1, padding=1),  # (N, 12, 12, 384)\n",
        "            nn.ReLU(inplace=True),\n",
        "            nn.Conv2d(384, 256, kernel_size=3, stride=1, padding=1),  # (N, 12, 12, 384)\n",
        "            nn.ReLU(inplace=True),\n",
        "            nn.MaxPool2d(kernel_size=3, stride=2, padding=0),  # (N, 5, 5, 256)\n",
        "        ) # Output: (N, 256)\n",
        "\n",
        "        # Input: (N, 256)\n",
        "        self.classifier = nn.Sequential(\n",
        "            nn.Dropout(p=dropout),\n",
        "            nn.Linear(256 * 5 * 5, 4096),\n",
        "            nn.ReLU(inplace=True),\n",
        "            nn.Dropout(p=dropout),\n",
        "            nn.Linear(4096, 4096),\n",
        "            nn.ReLU(inplace=True),\n",
        "            nn.Linear(4096, self.num_classes),\n",
        "        ) # Output: (N, 1000)\n",
        "\n",
        "    def _initialize(self):\n",
        "        for layer in self.features:\n",
        "            if isinstance(layer, nn.Conv2d):\n",
        "                nn.init.normal_(layer.weigh, mean=0, std=0.01)\n",
        "                nn.init.constant_(layer.bias, 0)\n",
        "        for i in (3, 8, 10):\n",
        "            nn.init.constant_(self.features[i].bias, 1)\n",
        "\n",
        "    def forward(self, x: torch.Tensor) -> torch.Tensor:\n",
        "        x = self.features(x)\n",
        "        x = x.view(-1, 5 * 5 * 256)\n",
        "        x = self.classifier(x)\n",
        "        return x"
      ]
    },
    {
      "cell_type": "code",
      "execution_count": null,
      "metadata": {
        "colab": {
          "base_uri": "https://localhost:8080/"
        },
        "id": "mtALpu_O7r94",
        "outputId": "09e8156a-9cd2-4d22-e991-78c523c0c281"
      },
      "outputs": [
        {
          "name": "stdout",
          "output_type": "stream",
          "text": [
            "Seed: 777\n"
          ]
        }
      ],
      "source": [
        "seed = torch.initial_seed()\n",
        "print(f\"Seed: {seed}\")\n",
        "\n",
        "model = AlexNet().to(device)\n",
        "\n",
        "optimizer = optim.Adam(model.parameters(), lr=0.001, betas=(0.9, 0.999))\n",
        "lr_scheduler = optim.lr_scheduler.StepLR(optimizer, step_size=30, gamma=0.1)\n",
        "train_loader = data.DataLoader(train_set, shuffle=True,\n",
        "                               pin_memory=True, num_workers=2,\n",
        "                               drop_last=True, batch_size=BATCH_SIZE)"
      ]
    },
    {
      "cell_type": "code",
      "execution_count": null,
      "metadata": {
        "id": "rivSyQXPQR8I",
        "outputId": "01c79116-6065-40ff-d9b0-e0ec737a8f31"
      },
      "outputs": [
        {
          "name": "stdout",
          "output_type": "stream",
          "text": [
            "46787978\n"
          ]
        }
      ],
      "source": [
        "total_params = sum(p.numel() for p in model.parameters())\n",
        "print(total_params)"
      ]
    },
    {
      "cell_type": "code",
      "execution_count": null,
      "metadata": {
        "id": "WyuIGPaTZUHe",
        "outputId": "f6e76a44-93f5-4800-a30b-68346133fe21"
      },
      "outputs": [
        {
          "name": "stdout",
          "output_type": "stream",
          "text": [
            "Start training...\n"
          ]
        },
        {
          "name": "stderr",
          "output_type": "stream",
          "text": [
            "100%|#########################################| 468/468 [00:19<00:00, 24.08it/s]\n"
          ]
        },
        {
          "name": "stdout",
          "output_type": "stream",
          "text": [
            "Epoch: 1 \tStep: 469 \tLoss: 0.7336\n"
          ]
        },
        {
          "name": "stderr",
          "output_type": "stream",
          "text": [
            "100%|#########################################| 468/468 [00:19<00:00, 24.11it/s]\n"
          ]
        },
        {
          "name": "stdout",
          "output_type": "stream",
          "text": [
            "Epoch: 2 \tStep: 937 \tLoss: 0.4224\n"
          ]
        },
        {
          "name": "stderr",
          "output_type": "stream",
          "text": [
            "100%|#########################################| 468/468 [00:19<00:00, 23.98it/s]\n"
          ]
        },
        {
          "name": "stdout",
          "output_type": "stream",
          "text": [
            "Epoch: 3 \tStep: 1405 \tLoss: 0.3683\n"
          ]
        },
        {
          "name": "stderr",
          "output_type": "stream",
          "text": [
            "100%|#########################################| 468/468 [00:19<00:00, 24.07it/s]\n"
          ]
        },
        {
          "name": "stdout",
          "output_type": "stream",
          "text": [
            "Epoch: 4 \tStep: 1873 \tLoss: 0.3453\n"
          ]
        },
        {
          "name": "stderr",
          "output_type": "stream",
          "text": [
            "100%|#########################################| 468/468 [00:19<00:00, 23.97it/s]\n"
          ]
        },
        {
          "name": "stdout",
          "output_type": "stream",
          "text": [
            "Epoch: 5 \tStep: 2341 \tLoss: 0.3245\n"
          ]
        },
        {
          "name": "stderr",
          "output_type": "stream",
          "text": [
            "100%|#########################################| 468/468 [00:19<00:00, 23.87it/s]\n"
          ]
        },
        {
          "name": "stdout",
          "output_type": "stream",
          "text": [
            "Epoch: 6 \tStep: 2809 \tLoss: 0.3069\n"
          ]
        },
        {
          "name": "stderr",
          "output_type": "stream",
          "text": [
            "100%|#########################################| 468/468 [00:19<00:00, 23.90it/s]\n"
          ]
        },
        {
          "name": "stdout",
          "output_type": "stream",
          "text": [
            "Epoch: 7 \tStep: 3277 \tLoss: 0.2916\n"
          ]
        },
        {
          "name": "stderr",
          "output_type": "stream",
          "text": [
            "100%|#########################################| 468/468 [00:19<00:00, 23.64it/s]\n"
          ]
        },
        {
          "name": "stdout",
          "output_type": "stream",
          "text": [
            "Epoch: 8 \tStep: 3745 \tLoss: 0.2810\n"
          ]
        },
        {
          "name": "stderr",
          "output_type": "stream",
          "text": [
            "100%|#########################################| 468/468 [00:19<00:00, 23.82it/s]\n"
          ]
        },
        {
          "name": "stdout",
          "output_type": "stream",
          "text": [
            "Epoch: 9 \tStep: 4213 \tLoss: 0.2739\n"
          ]
        },
        {
          "name": "stderr",
          "output_type": "stream",
          "text": [
            "100%|#########################################| 468/468 [00:19<00:00, 24.31it/s]\n"
          ]
        },
        {
          "name": "stdout",
          "output_type": "stream",
          "text": [
            "Epoch: 10 \tStep: 4681 \tLoss: 0.2564\n"
          ]
        },
        {
          "name": "stderr",
          "output_type": "stream",
          "text": [
            "100%|#########################################| 468/468 [00:19<00:00, 23.54it/s]\n"
          ]
        },
        {
          "name": "stdout",
          "output_type": "stream",
          "text": [
            "Epoch: 11 \tStep: 5149 \tLoss: 0.2474\n"
          ]
        },
        {
          "name": "stderr",
          "output_type": "stream",
          "text": [
            "100%|#########################################| 468/468 [00:19<00:00, 23.91it/s]\n"
          ]
        },
        {
          "name": "stdout",
          "output_type": "stream",
          "text": [
            "Epoch: 12 \tStep: 5617 \tLoss: 0.2470\n"
          ]
        },
        {
          "name": "stderr",
          "output_type": "stream",
          "text": [
            "100%|#########################################| 468/468 [00:19<00:00, 24.11it/s]\n"
          ]
        },
        {
          "name": "stdout",
          "output_type": "stream",
          "text": [
            "Epoch: 13 \tStep: 6085 \tLoss: 0.2382\n"
          ]
        },
        {
          "name": "stderr",
          "output_type": "stream",
          "text": [
            "100%|#########################################| 468/468 [00:19<00:00, 24.22it/s]\n"
          ]
        },
        {
          "name": "stdout",
          "output_type": "stream",
          "text": [
            "Epoch: 14 \tStep: 6553 \tLoss: 0.2316\n"
          ]
        },
        {
          "name": "stderr",
          "output_type": "stream",
          "text": [
            "100%|#########################################| 468/468 [00:19<00:00, 23.77it/s]\n"
          ]
        },
        {
          "name": "stdout",
          "output_type": "stream",
          "text": [
            "Epoch: 15 \tStep: 7021 \tLoss: 0.2233\n"
          ]
        },
        {
          "name": "stderr",
          "output_type": "stream",
          "text": [
            "100%|#########################################| 468/468 [00:19<00:00, 23.89it/s]\n"
          ]
        },
        {
          "name": "stdout",
          "output_type": "stream",
          "text": [
            "Epoch: 16 \tStep: 7489 \tLoss: 0.2231\n"
          ]
        },
        {
          "name": "stderr",
          "output_type": "stream",
          "text": [
            "100%|#########################################| 468/468 [00:19<00:00, 24.02it/s]\n"
          ]
        },
        {
          "name": "stdout",
          "output_type": "stream",
          "text": [
            "Epoch: 17 \tStep: 7957 \tLoss: 0.2103\n"
          ]
        },
        {
          "name": "stderr",
          "output_type": "stream",
          "text": [
            "100%|#########################################| 468/468 [00:19<00:00, 23.56it/s]\n"
          ]
        },
        {
          "name": "stdout",
          "output_type": "stream",
          "text": [
            "Epoch: 18 \tStep: 8425 \tLoss: 0.2078\n"
          ]
        },
        {
          "name": "stderr",
          "output_type": "stream",
          "text": [
            "100%|#########################################| 468/468 [00:19<00:00, 23.91it/s]\n"
          ]
        },
        {
          "name": "stdout",
          "output_type": "stream",
          "text": [
            "Epoch: 19 \tStep: 8893 \tLoss: 0.2041\n"
          ]
        },
        {
          "name": "stderr",
          "output_type": "stream",
          "text": [
            "100%|#########################################| 468/468 [00:19<00:00, 23.91it/s]\n"
          ]
        },
        {
          "name": "stdout",
          "output_type": "stream",
          "text": [
            "Epoch: 20 \tStep: 9361 \tLoss: 0.2039\n"
          ]
        }
      ],
      "source": [
        "print(\"Start training...\")\n",
        "total_steps = 1\n",
        "for epoch in range(NUM_EPOCHS):\n",
        "    pbar = tqdm(train_loader, ascii=True, ncols=80)\n",
        "    loss_records = []\n",
        "    for imgs, classes in pbar:\n",
        "        imgs, classes = imgs.to(device), classes.to(device)\n",
        "\n",
        "        # Calculate the loss\n",
        "        output = model(imgs)\n",
        "        loss = F.cross_entropy(output, classes)\n",
        "\n",
        "        # Update the parameters\n",
        "        optimizer.zero_grad()\n",
        "        loss.backward()\n",
        "        optimizer.step()\n",
        "        \n",
        "        loss_records.append(loss.item())\n",
        "\n",
        "        # Log\n",
        "#         if total_steps % 50 == 0:\n",
        "#             with torch.no_grad():\n",
        "#                 model.eval()\n",
        "#                 _, preds = torch.max(output, 1)\n",
        "#                 accuracy = torch.sum(preds == classes)\n",
        "\n",
        "#                 print(f\"Epoch: {epoch + 1} \\tStep: {total_steps} \\tLoss: {loss.item():.4f} \\tAcc: {accuracy.item()}/{BATCH_SIZE}\")\n",
        "#                 model.train()\n",
        "        total_steps += 1\n",
        "    loss_mean = np.mean(loss_records)\n",
        "    print(f\"Epoch: {epoch + 1} \\tStep: {total_steps} \\tLoss: {loss_mean:.4f}\")\n",
        "    lr_scheduler.step()\n",
        "\n",
        "    checkpoint_path = os.path.join(CHECKPOINTS_DIR, f\"alexnet_states_e{epoch + 1:04d}.pkl\")\n",
        "    state = {\n",
        "        'epoch': epoch,\n",
        "        'total_steps': total_steps,\n",
        "        'optimizer': optimizer.state_dict(),\n",
        "        'model': model.state_dict(),\n",
        "        'seed': seed,\n",
        "    }\n",
        "    torch.save(state, checkpoint_path)"
      ]
    },
    {
      "cell_type": "code",
      "execution_count": null,
      "metadata": {
        "id": "uniV-vn8ZWNN"
      },
      "outputs": [],
      "source": [
        "test_loader = data.DataLoader(test_set, shuffle=True,\n",
        "                              pin_memory=True, num_workers=2,\n",
        "                              batch_size=BATCH_SIZE)"
      ]
    },
    {
      "cell_type": "code",
      "execution_count": null,
      "metadata": {
        "colab": {
          "base_uri": "https://localhost:8080/"
        },
        "id": "_ReMsD8temPv",
        "outputId": "4ca67914-7e12-4d04-ea4e-7331b16627e6"
      },
      "outputs": [
        {
          "name": "stdout",
          "output_type": "stream",
          "text": [
            "./Alexmodels/alexnet_states_e0001.pkl\n"
          ]
        },
        {
          "name": "stderr",
          "output_type": "stream",
          "text": [
            "  1%|3                                       | 79/10000 [00:03<07:01, 23.56it/s]\n"
          ]
        },
        {
          "name": "stdout",
          "output_type": "stream",
          "text": [
            "Epoch: 1 \tAcc: 8313/10000\n",
            "./Alexmodels/alexnet_states_e0002.pkl\n"
          ]
        },
        {
          "name": "stderr",
          "output_type": "stream",
          "text": [
            "  1%|3                                       | 79/10000 [00:03<07:09, 23.12it/s]\n"
          ]
        },
        {
          "name": "stdout",
          "output_type": "stream",
          "text": [
            "Epoch: 2 \tAcc: 8690/10000\n",
            "./Alexmodels/alexnet_states_e0003.pkl\n"
          ]
        },
        {
          "name": "stderr",
          "output_type": "stream",
          "text": [
            "  1%|3                                       | 79/10000 [00:03<07:04, 23.36it/s]\n"
          ]
        },
        {
          "name": "stdout",
          "output_type": "stream",
          "text": [
            "Epoch: 3 \tAcc: 8746/10000\n",
            "./Alexmodels/alexnet_states_e0004.pkl\n"
          ]
        },
        {
          "name": "stderr",
          "output_type": "stream",
          "text": [
            "  1%|3                                       | 79/10000 [00:03<07:10, 23.06it/s]\n"
          ]
        },
        {
          "name": "stdout",
          "output_type": "stream",
          "text": [
            "Epoch: 4 \tAcc: 8859/10000\n",
            "./Alexmodels/alexnet_states_e0005.pkl\n"
          ]
        },
        {
          "name": "stderr",
          "output_type": "stream",
          "text": [
            "  1%|3                                       | 79/10000 [00:03<07:09, 23.11it/s]\n"
          ]
        },
        {
          "name": "stdout",
          "output_type": "stream",
          "text": [
            "Epoch: 5 \tAcc: 8864/10000\n",
            "./Alexmodels/alexnet_states_e0006.pkl\n"
          ]
        },
        {
          "name": "stderr",
          "output_type": "stream",
          "text": [
            "  1%|3                                       | 79/10000 [00:03<07:07, 23.22it/s]\n"
          ]
        },
        {
          "name": "stdout",
          "output_type": "stream",
          "text": [
            "Epoch: 6 \tAcc: 8873/10000\n",
            "./Alexmodels/alexnet_states_e0007.pkl\n"
          ]
        },
        {
          "name": "stderr",
          "output_type": "stream",
          "text": [
            "  1%|3                                       | 79/10000 [00:03<07:09, 23.07it/s]\n"
          ]
        },
        {
          "name": "stdout",
          "output_type": "stream",
          "text": [
            "Epoch: 7 \tAcc: 8923/10000\n",
            "./Alexmodels/alexnet_states_e0008.pkl\n"
          ]
        },
        {
          "name": "stderr",
          "output_type": "stream",
          "text": [
            "  1%|3                                       | 79/10000 [00:03<07:10, 23.05it/s]\n"
          ]
        },
        {
          "name": "stdout",
          "output_type": "stream",
          "text": [
            "Epoch: 8 \tAcc: 9008/10000\n",
            "./Alexmodels/alexnet_states_e0009.pkl\n"
          ]
        },
        {
          "name": "stderr",
          "output_type": "stream",
          "text": [
            "  1%|3                                       | 79/10000 [00:03<07:09, 23.10it/s]\n"
          ]
        },
        {
          "name": "stdout",
          "output_type": "stream",
          "text": [
            "Epoch: 9 \tAcc: 8913/10000\n",
            "./Alexmodels/alexnet_states_e0010.pkl\n"
          ]
        },
        {
          "name": "stderr",
          "output_type": "stream",
          "text": [
            "  1%|3                                       | 79/10000 [00:03<07:10, 23.06it/s]\n"
          ]
        },
        {
          "name": "stdout",
          "output_type": "stream",
          "text": [
            "Epoch: 10 \tAcc: 9093/10000\n",
            "./Alexmodels/alexnet_states_e0011.pkl\n"
          ]
        },
        {
          "name": "stderr",
          "output_type": "stream",
          "text": [
            "  1%|3                                       | 79/10000 [00:03<07:10, 23.07it/s]\n"
          ]
        },
        {
          "name": "stdout",
          "output_type": "stream",
          "text": [
            "Epoch: 11 \tAcc: 9088/10000\n",
            "./Alexmodels/alexnet_states_e0012.pkl\n"
          ]
        },
        {
          "name": "stderr",
          "output_type": "stream",
          "text": [
            "  1%|3                                       | 79/10000 [00:03<07:10, 23.04it/s]\n"
          ]
        },
        {
          "name": "stdout",
          "output_type": "stream",
          "text": [
            "Epoch: 12 \tAcc: 9046/10000\n",
            "./Alexmodels/alexnet_states_e0013.pkl\n"
          ]
        },
        {
          "name": "stderr",
          "output_type": "stream",
          "text": [
            "  1%|3                                       | 79/10000 [00:03<07:09, 23.12it/s]\n"
          ]
        },
        {
          "name": "stdout",
          "output_type": "stream",
          "text": [
            "Epoch: 13 \tAcc: 9037/10000\n",
            "./Alexmodels/alexnet_states_e0014.pkl\n"
          ]
        },
        {
          "name": "stderr",
          "output_type": "stream",
          "text": [
            "  1%|3                                       | 79/10000 [00:03<07:19, 22.56it/s]\n"
          ]
        },
        {
          "name": "stdout",
          "output_type": "stream",
          "text": [
            "Epoch: 14 \tAcc: 9117/10000\n",
            "./Alexmodels/alexnet_states_e0015.pkl\n"
          ]
        },
        {
          "name": "stderr",
          "output_type": "stream",
          "text": [
            "  1%|3                                       | 79/10000 [00:03<07:11, 23.01it/s]\n"
          ]
        },
        {
          "name": "stdout",
          "output_type": "stream",
          "text": [
            "Epoch: 15 \tAcc: 9019/10000\n",
            "./Alexmodels/alexnet_states_e0016.pkl\n"
          ]
        },
        {
          "name": "stderr",
          "output_type": "stream",
          "text": [
            "  1%|3                                       | 79/10000 [00:03<07:12, 22.94it/s]\n"
          ]
        },
        {
          "name": "stdout",
          "output_type": "stream",
          "text": [
            "Epoch: 16 \tAcc: 9101/10000\n",
            "./Alexmodels/alexnet_states_e0017.pkl\n"
          ]
        },
        {
          "name": "stderr",
          "output_type": "stream",
          "text": [
            "  1%|3                                       | 79/10000 [00:03<07:14, 22.82it/s]\n"
          ]
        },
        {
          "name": "stdout",
          "output_type": "stream",
          "text": [
            "Epoch: 17 \tAcc: 9100/10000\n",
            "./Alexmodels/alexnet_states_e0018.pkl\n"
          ]
        },
        {
          "name": "stderr",
          "output_type": "stream",
          "text": [
            "  1%|3                                       | 79/10000 [00:03<07:18, 22.63it/s]\n"
          ]
        },
        {
          "name": "stdout",
          "output_type": "stream",
          "text": [
            "Epoch: 18 \tAcc: 9126/10000\n",
            "./Alexmodels/alexnet_states_e0019.pkl\n"
          ]
        },
        {
          "name": "stderr",
          "output_type": "stream",
          "text": [
            "  1%|3                                       | 79/10000 [00:03<07:13, 22.89it/s]\n"
          ]
        },
        {
          "name": "stdout",
          "output_type": "stream",
          "text": [
            "Epoch: 19 \tAcc: 9115/10000\n",
            "./Alexmodels/alexnet_states_e0020.pkl\n"
          ]
        },
        {
          "name": "stderr",
          "output_type": "stream",
          "text": [
            "  1%|3                                       | 79/10000 [00:03<07:10, 23.05it/s]"
          ]
        },
        {
          "name": "stdout",
          "output_type": "stream",
          "text": [
            "Epoch: 20 \tAcc: 9133/10000\n",
            "[{'epoch': 20, 'correct': 9133, 'path': './Alexmodels/alexnet_states_e0020.pkl'}, {'epoch': 18, 'correct': 9126, 'path': './Alexmodels/alexnet_states_e0018.pkl'}, {'epoch': 14, 'correct': 9117, 'path': './Alexmodels/alexnet_states_e0014.pkl'}, {'epoch': 19, 'correct': 9115, 'path': './Alexmodels/alexnet_states_e0019.pkl'}, {'epoch': 16, 'correct': 9101, 'path': './Alexmodels/alexnet_states_e0016.pkl'}, {'epoch': 17, 'correct': 9100, 'path': './Alexmodels/alexnet_states_e0017.pkl'}, {'epoch': 10, 'correct': 9093, 'path': './Alexmodels/alexnet_states_e0010.pkl'}, {'epoch': 11, 'correct': 9088, 'path': './Alexmodels/alexnet_states_e0011.pkl'}, {'epoch': 12, 'correct': 9046, 'path': './Alexmodels/alexnet_states_e0012.pkl'}, {'epoch': 13, 'correct': 9037, 'path': './Alexmodels/alexnet_states_e0013.pkl'}, {'epoch': 15, 'correct': 9019, 'path': './Alexmodels/alexnet_states_e0015.pkl'}, {'epoch': 8, 'correct': 9008, 'path': './Alexmodels/alexnet_states_e0008.pkl'}, {'epoch': 7, 'correct': 8923, 'path': './Alexmodels/alexnet_states_e0007.pkl'}, {'epoch': 9, 'correct': 8913, 'path': './Alexmodels/alexnet_states_e0009.pkl'}, {'epoch': 6, 'correct': 8873, 'path': './Alexmodels/alexnet_states_e0006.pkl'}, {'epoch': 5, 'correct': 8864, 'path': './Alexmodels/alexnet_states_e0005.pkl'}, {'epoch': 4, 'correct': 8859, 'path': './Alexmodels/alexnet_states_e0004.pkl'}, {'epoch': 3, 'correct': 8746, 'path': './Alexmodels/alexnet_states_e0003.pkl'}, {'epoch': 2, 'correct': 8690, 'path': './Alexmodels/alexnet_states_e0002.pkl'}, {'epoch': 1, 'correct': 8313, 'path': './Alexmodels/alexnet_states_e0001.pkl'}]\n"
          ]
        },
        {
          "name": "stderr",
          "output_type": "stream",
          "text": [
            "\n"
          ]
        }
      ],
      "source": [
        "model_paths = glob(os.path.join(CHECKPOINTS_DIR, 'alexnet_states_e????.pkl'))\n",
        "model_paths.sort()\n",
        "\n",
        "accuracy_records = []\n",
        "\n",
        "for model_path in model_paths:\n",
        "    print(model_path)\n",
        "    chk = torch.load(model_path)\n",
        "    epoch = chk['epoch']\n",
        "    \n",
        "    model = AlexNet()\n",
        "    model.load_state_dict(chk['model'])  # Load parameters from the checkpoint\n",
        "    model = model.to(device)\n",
        "  \n",
        "    correct_coutner = 0\n",
        "    pbar = tqdm(test_loader, ascii=True, ncols=80, total=len(test_set))\n",
        "    for imgs, labels in pbar:\n",
        "        imgs, labels = imgs.to(device), labels.to(device)\n",
        "        \n",
        "        with torch.no_grad():\n",
        "            output = model(imgs)\n",
        "            model.eval()\n",
        "            _, preds = torch.max(output, 1)\n",
        "            accuracy = torch.sum(preds == labels)\n",
        "            correct_coutner += accuracy.item()\n",
        "        pbar.update(BATCH_SIZE)\n",
        "\n",
        "    print(f\"Epoch: {epoch + 1} \\tAcc: {correct_coutner}/{len(test_set)}\")\n",
        "    accuracy_records.append(dict(epoch=(epoch + 1), correct = correct_coutner, path=model_path))\n",
        "\n",
        "accuracy_records.sort(reverse=True, key=lambda x: x['correct'])\n",
        "print(accuracy_records)    "
      ]
    },
    {
      "cell_type": "markdown",
      "metadata": {
        "id": "mAIFJBXjmEV8"
      },
      "source": [
        "# Simplyified Alexnet"
      ]
    },
    {
      "cell_type": "code",
      "execution_count": null,
      "metadata": {
        "id": "cd_7muibz0Co"
      },
      "outputs": [],
      "source": [
        "NUM_EPOCHS = 20\n",
        "BATCH_SIZE = 128"
      ]
    },
    {
      "cell_type": "code",
      "execution_count": null,
      "metadata": {
        "id": "-8PhzyI9mDHT"
      },
      "outputs": [],
      "source": [
        "train_set = datasets.FashionMNIST(root='FashionMNIST_data/',\n",
        "                                  train=True,\n",
        "                                  transform=transforms.ToTensor(),\n",
        "                                  download=True)\n",
        "test_set = datasets.FashionMNIST(root='FashionMNIST_data/',\n",
        "                                 train=False,\n",
        "                                 transform=transforms.ToTensor(),\n",
        "                                 download=True)"
      ]
    },
    {
      "cell_type": "markdown",
      "metadata": {
        "id": "ayW_MyG3mJwp"
      },
      "source": [
        "# Simplified Alexnet 1\n",
        "- Acc: 89.21% (13)"
      ]
    },
    {
      "cell_type": "code",
      "execution_count": null,
      "metadata": {
        "id": "5JDFnBFpnGmA"
      },
      "outputs": [],
      "source": [
        "CHECKPOINTS_DIR = './SAlexmodels.1'\n",
        "os.makedirs(CHECKPOINTS_DIR, exist_ok=True)"
      ]
    },
    {
      "cell_type": "code",
      "execution_count": null,
      "metadata": {
        "id": "wtwyhc8omMy-"
      },
      "outputs": [],
      "source": [
        "class SAlexNet1(nn.Module):\n",
        "    def __init__(self) -> None:\n",
        "        super().__init__()\n",
        "\n",
        "        num_classes: int = 10\n",
        "        dropout: float = 0.5\n",
        "\n",
        "        # Input: (N, 1, 28, 28)\n",
        "        self.features = nn.Sequential(\n",
        "            nn.Conv2d(1, 32, kernel_size=6, stride=2, padding=0),  # (N, 12, 12, 32)\n",
        "            nn.ReLU(inplace=True),\n",
        "            nn.MaxPool2d(kernel_size=5, stride=1, padding=0),  # (N, 8, 8, 32)\n",
        "            nn.Conv2d(32, 96, kernel_size=5, stride=1, padding=2),  # (N, 8, 8, 96)\n",
        "            nn.ReLU(inplace=True),\n",
        "            nn.MaxPool2d(kernel_size=4, stride=1, padding=0),  # (N, 5, 5, 32)\n",
        "            nn.Conv2d(96, 128, kernel_size=3, stride=1, padding=1),  # (N, 5, 5, 128)\n",
        "            nn.ReLU(inplace=True),\n",
        "            nn.Conv2d(128, 128, kernel_size=3, stride=1, padding=1),  # (N, 5, 5, 128)\n",
        "            nn.ReLU(inplace=True),\n",
        "            nn.Conv2d(128, 96, kernel_size=3, stride=1, padding=1),  # (N, 5, 5, 96)\n",
        "            nn.ReLU(inplace=True),\n",
        "            nn.MaxPool2d(kernel_size=3, stride=2, padding=0),  # (N, 2, 2, 96)\n",
        "        ) # Output: (N, 2, 2, 96)\n",
        "\n",
        "        # Input: (N, 2, 2, 96)\n",
        "        self.classifier = nn.Sequential(\n",
        "            nn.Dropout(p=dropout),\n",
        "            nn.Linear(96 * 2 * 2, 256),\n",
        "            nn.ReLU(inplace=True),\n",
        "            nn.Dropout(p=dropout),\n",
        "            nn.Linear(256, 256),\n",
        "            nn.ReLU(inplace=True),\n",
        "            nn.Linear(256, num_classes),\n",
        "        ) # Output: (N, 100)\n",
        "\n",
        "    def _initialize(self):\n",
        "        for layer in self.features:\n",
        "            if isinstance(layer, nn.Conv2d):\n",
        "                nn.init.normal_(layer.weigh, mean=0, std=0.01)\n",
        "                nn.init.constant_(layer.bias, 0)\n",
        "        for i in (3, 8, 10):\n",
        "            nn.init.constant_(self.features[i].bias, 1)\n",
        "\n",
        "    def forward(self, x: torch.Tensor) -> torch.Tensor:\n",
        "        x = self.features(x)\n",
        "        x = x.view(-1, 2 * 2 * 96)\n",
        "        x = self.classifier(x)\n",
        "        return x"
      ]
    },
    {
      "cell_type": "code",
      "execution_count": null,
      "metadata": {
        "id": "oLo-dQkpmVnJ",
        "outputId": "2f85ae85-fad6-4633-8ae4-c94585233ae6"
      },
      "outputs": [
        {
          "name": "stdout",
          "output_type": "stream",
          "text": [
            "Seed: 777\n",
            "613994\n",
            "Start training...\n"
          ]
        },
        {
          "name": "stderr",
          "output_type": "stream",
          "text": [
            "100%|########################################| 468/468 [00:01<00:00, 290.70it/s]\n"
          ]
        },
        {
          "name": "stdout",
          "output_type": "stream",
          "text": [
            "Epoch: 1 \tStep: 469 \tLoss: 0.9148\n"
          ]
        },
        {
          "name": "stderr",
          "output_type": "stream",
          "text": [
            "100%|########################################| 468/468 [00:01<00:00, 305.97it/s]\n"
          ]
        },
        {
          "name": "stdout",
          "output_type": "stream",
          "text": [
            "Epoch: 2 \tStep: 937 \tLoss: 0.5058\n"
          ]
        },
        {
          "name": "stderr",
          "output_type": "stream",
          "text": [
            "100%|########################################| 468/468 [00:01<00:00, 280.77it/s]\n"
          ]
        },
        {
          "name": "stdout",
          "output_type": "stream",
          "text": [
            "Epoch: 3 \tStep: 1405 \tLoss: 0.4170\n"
          ]
        },
        {
          "name": "stderr",
          "output_type": "stream",
          "text": [
            "100%|########################################| 468/468 [00:01<00:00, 300.73it/s]\n"
          ]
        },
        {
          "name": "stdout",
          "output_type": "stream",
          "text": [
            "Epoch: 4 \tStep: 1873 \tLoss: 0.3784\n"
          ]
        },
        {
          "name": "stderr",
          "output_type": "stream",
          "text": [
            "100%|########################################| 468/468 [00:01<00:00, 293.57it/s]\n"
          ]
        },
        {
          "name": "stdout",
          "output_type": "stream",
          "text": [
            "Epoch: 5 \tStep: 2341 \tLoss: 0.3520\n"
          ]
        },
        {
          "name": "stderr",
          "output_type": "stream",
          "text": [
            "100%|########################################| 468/468 [00:01<00:00, 305.49it/s]\n"
          ]
        },
        {
          "name": "stdout",
          "output_type": "stream",
          "text": [
            "Epoch: 6 \tStep: 2809 \tLoss: 0.3305\n"
          ]
        },
        {
          "name": "stderr",
          "output_type": "stream",
          "text": [
            "100%|########################################| 468/468 [00:01<00:00, 297.64it/s]\n"
          ]
        },
        {
          "name": "stdout",
          "output_type": "stream",
          "text": [
            "Epoch: 7 \tStep: 3277 \tLoss: 0.3192\n"
          ]
        },
        {
          "name": "stderr",
          "output_type": "stream",
          "text": [
            "100%|########################################| 468/468 [00:01<00:00, 319.38it/s]\n"
          ]
        },
        {
          "name": "stdout",
          "output_type": "stream",
          "text": [
            "Epoch: 8 \tStep: 3745 \tLoss: 0.3019\n"
          ]
        },
        {
          "name": "stderr",
          "output_type": "stream",
          "text": [
            "100%|########################################| 468/468 [00:01<00:00, 299.17it/s]\n"
          ]
        },
        {
          "name": "stdout",
          "output_type": "stream",
          "text": [
            "Epoch: 9 \tStep: 4213 \tLoss: 0.2902\n"
          ]
        },
        {
          "name": "stderr",
          "output_type": "stream",
          "text": [
            "100%|########################################| 468/468 [00:01<00:00, 297.64it/s]\n"
          ]
        },
        {
          "name": "stdout",
          "output_type": "stream",
          "text": [
            "Epoch: 10 \tStep: 4681 \tLoss: 0.2823\n"
          ]
        },
        {
          "name": "stderr",
          "output_type": "stream",
          "text": [
            "100%|########################################| 468/468 [00:01<00:00, 304.38it/s]\n"
          ]
        },
        {
          "name": "stdout",
          "output_type": "stream",
          "text": [
            "Epoch: 11 \tStep: 5149 \tLoss: 0.2741\n"
          ]
        },
        {
          "name": "stderr",
          "output_type": "stream",
          "text": [
            "100%|########################################| 468/468 [00:01<00:00, 304.14it/s]\n"
          ]
        },
        {
          "name": "stdout",
          "output_type": "stream",
          "text": [
            "Epoch: 12 \tStep: 5617 \tLoss: 0.2657\n"
          ]
        },
        {
          "name": "stderr",
          "output_type": "stream",
          "text": [
            "100%|########################################| 468/468 [00:01<00:00, 304.50it/s]\n"
          ]
        },
        {
          "name": "stdout",
          "output_type": "stream",
          "text": [
            "Epoch: 13 \tStep: 6085 \tLoss: 0.2576\n"
          ]
        },
        {
          "name": "stderr",
          "output_type": "stream",
          "text": [
            "100%|########################################| 468/468 [00:01<00:00, 294.75it/s]\n"
          ]
        },
        {
          "name": "stdout",
          "output_type": "stream",
          "text": [
            "Epoch: 14 \tStep: 6553 \tLoss: 0.2476\n"
          ]
        },
        {
          "name": "stderr",
          "output_type": "stream",
          "text": [
            "100%|########################################| 468/468 [00:01<00:00, 304.71it/s]\n"
          ]
        },
        {
          "name": "stdout",
          "output_type": "stream",
          "text": [
            "Epoch: 15 \tStep: 7021 \tLoss: 0.2413\n"
          ]
        },
        {
          "name": "stderr",
          "output_type": "stream",
          "text": [
            "100%|########################################| 468/468 [00:01<00:00, 308.38it/s]\n"
          ]
        },
        {
          "name": "stdout",
          "output_type": "stream",
          "text": [
            "Epoch: 16 \tStep: 7489 \tLoss: 0.2331\n"
          ]
        },
        {
          "name": "stderr",
          "output_type": "stream",
          "text": [
            "100%|########################################| 468/468 [00:01<00:00, 307.26it/s]\n"
          ]
        },
        {
          "name": "stdout",
          "output_type": "stream",
          "text": [
            "Epoch: 17 \tStep: 7957 \tLoss: 0.2270\n"
          ]
        },
        {
          "name": "stderr",
          "output_type": "stream",
          "text": [
            "100%|########################################| 468/468 [00:01<00:00, 302.98it/s]\n"
          ]
        },
        {
          "name": "stdout",
          "output_type": "stream",
          "text": [
            "Epoch: 18 \tStep: 8425 \tLoss: 0.2204\n"
          ]
        },
        {
          "name": "stderr",
          "output_type": "stream",
          "text": [
            "100%|########################################| 468/468 [00:01<00:00, 301.57it/s]\n"
          ]
        },
        {
          "name": "stdout",
          "output_type": "stream",
          "text": [
            "Epoch: 19 \tStep: 8893 \tLoss: 0.2159\n"
          ]
        },
        {
          "name": "stderr",
          "output_type": "stream",
          "text": [
            "100%|########################################| 468/468 [00:01<00:00, 300.27it/s]"
          ]
        },
        {
          "name": "stdout",
          "output_type": "stream",
          "text": [
            "Epoch: 20 \tStep: 9361 \tLoss: 0.2060\n"
          ]
        },
        {
          "name": "stderr",
          "output_type": "stream",
          "text": [
            "\n"
          ]
        }
      ],
      "source": [
        "seed = torch.initial_seed()\n",
        "print(f\"Seed: {seed}\")\n",
        "\n",
        "model = SAlexNet1().to(device)\n",
        "\n",
        "total_params = sum(p.numel() for p in model.parameters())\n",
        "print(total_params)\n",
        "\n",
        "optimizer = optim.Adam(model.parameters(), lr=0.001, betas=(0.9, 0.999))\n",
        "lr_scheduler = optim.lr_scheduler.StepLR(optimizer, step_size=30, gamma=0.1)\n",
        "train_loader = data.DataLoader(train_set, shuffle=True,\n",
        "                               pin_memory=True, num_workers=2,\n",
        "                               drop_last=True, batch_size=BATCH_SIZE)\n",
        "\n",
        "print(\"Start training...\")\n",
        "total_steps = 1\n",
        "for epoch in range(NUM_EPOCHS):\n",
        "    pbar = tqdm(train_loader, ascii=True, ncols=80)\n",
        "    loss_records = []\n",
        "    for imgs, classes in pbar:\n",
        "        imgs, classes = imgs.to(device), classes.to(device)\n",
        "\n",
        "        # Calculate the loss\n",
        "        output = model(imgs)\n",
        "        loss = F.cross_entropy(output, classes)\n",
        "\n",
        "        # Update the parameters\n",
        "        optimizer.zero_grad()\n",
        "        loss.backward()\n",
        "        optimizer.step()\n",
        "        \n",
        "        loss_records.append(loss.item())\n",
        "\n",
        "        # Log\n",
        "#         if total_steps % 50 == 0:\n",
        "#             with torch.no_grad():\n",
        "#                 model.eval()\n",
        "#                 _, preds = torch.max(output, 1)\n",
        "#                 accuracy = torch.sum(preds == classes)\n",
        "\n",
        "#                 print(f\"Epoch: {epoch + 1} \\tStep: {total_steps} \\tLoss: {loss.item():.4f} \\tAcc: {accuracy.item()}/{BATCH_SIZE}\")\n",
        "#                 model.train()\n",
        "        total_steps += 1\n",
        "    loss_mean = np.mean(loss_records)\n",
        "    print(f\"Epoch: {epoch + 1} \\tStep: {total_steps} \\tLoss: {loss_mean:.4f}\")\n",
        "    lr_scheduler.step()\n",
        "\n",
        "    checkpoint_path = os.path.join(CHECKPOINTS_DIR, f\"salexnet_states1_e{epoch + 1:04d}.pkl\")\n",
        "    state = {\n",
        "        'epoch': epoch,\n",
        "        'total_steps': total_steps,\n",
        "        'optimizer': optimizer.state_dict(),\n",
        "        'model': model.state_dict(),\n",
        "        'seed': seed,\n",
        "    }\n",
        "    torch.save(state, checkpoint_path)"
      ]
    },
    {
      "cell_type": "code",
      "execution_count": null,
      "metadata": {
        "id": "RluTlRlBmXMs",
        "outputId": "796c2553-ca0a-4c39-bb69-52edb416ee30"
      },
      "outputs": [
        {
          "name": "stderr",
          "output_type": "stream",
          "text": [
            "  1%|3                                      | 79/10000 [00:00<00:38, 256.63it/s]\n"
          ]
        },
        {
          "name": "stdout",
          "output_type": "stream",
          "text": [
            "Epoch: 1 \tAcc: 7927/10000\n"
          ]
        },
        {
          "name": "stderr",
          "output_type": "stream",
          "text": [
            "  1%|3                                      | 79/10000 [00:00<00:39, 248.94it/s]\n"
          ]
        },
        {
          "name": "stdout",
          "output_type": "stream",
          "text": [
            "Epoch: 2 \tAcc: 8325/10000\n"
          ]
        },
        {
          "name": "stderr",
          "output_type": "stream",
          "text": [
            "  1%|3                                      | 79/10000 [00:00<00:41, 241.77it/s]\n"
          ]
        },
        {
          "name": "stdout",
          "output_type": "stream",
          "text": [
            "Epoch: 3 \tAcc: 8485/10000\n"
          ]
        },
        {
          "name": "stderr",
          "output_type": "stream",
          "text": [
            "  1%|3                                      | 79/10000 [00:00<00:41, 239.71it/s]\n"
          ]
        },
        {
          "name": "stdout",
          "output_type": "stream",
          "text": [
            "Epoch: 4 \tAcc: 8652/10000\n"
          ]
        },
        {
          "name": "stderr",
          "output_type": "stream",
          "text": [
            "  1%|3                                      | 79/10000 [00:00<00:40, 244.00it/s]\n"
          ]
        },
        {
          "name": "stdout",
          "output_type": "stream",
          "text": [
            "Epoch: 5 \tAcc: 8587/10000\n"
          ]
        },
        {
          "name": "stderr",
          "output_type": "stream",
          "text": [
            "  1%|3                                      | 79/10000 [00:00<00:46, 212.53it/s]\n"
          ]
        },
        {
          "name": "stdout",
          "output_type": "stream",
          "text": [
            "Epoch: 6 \tAcc: 8740/10000\n"
          ]
        },
        {
          "name": "stderr",
          "output_type": "stream",
          "text": [
            "  1%|3                                      | 79/10000 [00:00<00:43, 227.23it/s]\n"
          ]
        },
        {
          "name": "stdout",
          "output_type": "stream",
          "text": [
            "Epoch: 7 \tAcc: 8612/10000\n"
          ]
        },
        {
          "name": "stderr",
          "output_type": "stream",
          "text": [
            "  1%|3                                      | 79/10000 [00:00<00:40, 245.66it/s]\n"
          ]
        },
        {
          "name": "stdout",
          "output_type": "stream",
          "text": [
            "Epoch: 8 \tAcc: 8770/10000\n"
          ]
        },
        {
          "name": "stderr",
          "output_type": "stream",
          "text": [
            "  1%|3                                      | 79/10000 [00:00<00:44, 220.73it/s]\n"
          ]
        },
        {
          "name": "stdout",
          "output_type": "stream",
          "text": [
            "Epoch: 9 \tAcc: 8776/10000\n"
          ]
        },
        {
          "name": "stderr",
          "output_type": "stream",
          "text": [
            "  1%|3                                      | 79/10000 [00:00<00:45, 219.37it/s]\n"
          ]
        },
        {
          "name": "stdout",
          "output_type": "stream",
          "text": [
            "Epoch: 10 \tAcc: 8812/10000\n"
          ]
        },
        {
          "name": "stderr",
          "output_type": "stream",
          "text": [
            "  1%|3                                      | 79/10000 [00:00<00:46, 211.28it/s]\n"
          ]
        },
        {
          "name": "stdout",
          "output_type": "stream",
          "text": [
            "Epoch: 11 \tAcc: 8777/10000\n"
          ]
        },
        {
          "name": "stderr",
          "output_type": "stream",
          "text": [
            "  1%|3                                      | 79/10000 [00:00<00:42, 235.58it/s]\n"
          ]
        },
        {
          "name": "stdout",
          "output_type": "stream",
          "text": [
            "Epoch: 12 \tAcc: 8849/10000\n"
          ]
        },
        {
          "name": "stderr",
          "output_type": "stream",
          "text": [
            "  1%|3                                      | 79/10000 [00:00<00:45, 219.40it/s]\n"
          ]
        },
        {
          "name": "stdout",
          "output_type": "stream",
          "text": [
            "Epoch: 13 \tAcc: 8921/10000\n"
          ]
        },
        {
          "name": "stderr",
          "output_type": "stream",
          "text": [
            "  1%|3                                      | 79/10000 [00:00<00:38, 256.04it/s]\n"
          ]
        },
        {
          "name": "stdout",
          "output_type": "stream",
          "text": [
            "Epoch: 14 \tAcc: 8841/10000\n"
          ]
        },
        {
          "name": "stderr",
          "output_type": "stream",
          "text": [
            "  1%|3                                      | 79/10000 [00:00<00:46, 212.21it/s]\n"
          ]
        },
        {
          "name": "stdout",
          "output_type": "stream",
          "text": [
            "Epoch: 15 \tAcc: 8832/10000\n"
          ]
        },
        {
          "name": "stderr",
          "output_type": "stream",
          "text": [
            "  1%|3                                      | 79/10000 [00:00<00:41, 239.82it/s]\n"
          ]
        },
        {
          "name": "stdout",
          "output_type": "stream",
          "text": [
            "Epoch: 16 \tAcc: 8838/10000\n"
          ]
        },
        {
          "name": "stderr",
          "output_type": "stream",
          "text": [
            "  1%|3                                      | 79/10000 [00:00<00:46, 211.70it/s]\n"
          ]
        },
        {
          "name": "stdout",
          "output_type": "stream",
          "text": [
            "Epoch: 17 \tAcc: 8885/10000\n"
          ]
        },
        {
          "name": "stderr",
          "output_type": "stream",
          "text": [
            "  1%|3                                      | 79/10000 [00:00<00:42, 236.15it/s]\n"
          ]
        },
        {
          "name": "stdout",
          "output_type": "stream",
          "text": [
            "Epoch: 18 \tAcc: 8882/10000\n"
          ]
        },
        {
          "name": "stderr",
          "output_type": "stream",
          "text": [
            "  1%|3                                      | 79/10000 [00:00<00:44, 221.28it/s]\n"
          ]
        },
        {
          "name": "stdout",
          "output_type": "stream",
          "text": [
            "Epoch: 19 \tAcc: 8879/10000\n"
          ]
        },
        {
          "name": "stderr",
          "output_type": "stream",
          "text": [
            "  1%|3                                      | 79/10000 [00:00<00:41, 236.45it/s]"
          ]
        },
        {
          "name": "stdout",
          "output_type": "stream",
          "text": [
            "Epoch: 20 \tAcc: 8910/10000\n",
            "{'epoch': 13, 'correct': 8921, 'path': './SAlexmodels.1/salexnet_states1_e0013.pkl'}\n"
          ]
        },
        {
          "name": "stderr",
          "output_type": "stream",
          "text": [
            "\n"
          ]
        }
      ],
      "source": [
        "test_loader = data.DataLoader(test_set, shuffle=True,\n",
        "                              pin_memory=True, num_workers=2,\n",
        "                              batch_size=BATCH_SIZE)\n",
        "model_paths = glob(os.path.join(CHECKPOINTS_DIR, 'salexnet_states1_e????.pkl'))\n",
        "model_paths.sort()\n",
        "\n",
        "accuracy_records = []\n",
        "\n",
        "for model_path in model_paths:\n",
        "    chk = torch.load(model_path)\n",
        "    epoch = chk['epoch']\n",
        "    \n",
        "    model = SAlexNet1()\n",
        "    model.load_state_dict(chk['model'])  # Load parameters from the checkpoint\n",
        "    model = model.to(device)\n",
        "  \n",
        "    correct_coutner = 0\n",
        "    pbar = tqdm(test_loader, ascii=True, ncols=80, total=len(test_set))\n",
        "    for imgs, labels in pbar:\n",
        "        imgs, labels = imgs.to(device), labels.to(device)\n",
        "        \n",
        "        with torch.no_grad():\n",
        "            output = model(imgs)\n",
        "            model.eval()\n",
        "            _, preds = torch.max(output, 1)\n",
        "            accuracy = torch.sum(preds == labels)\n",
        "            correct_coutner += accuracy.item()\n",
        "        pbar.update(BATCH_SIZE)\n",
        "\n",
        "    print(f\"Epoch: {epoch + 1} \\tAcc: {correct_coutner}/{len(test_set)}\")\n",
        "    accuracy_records.append(dict(epoch=(epoch + 1), correct = correct_coutner, path=model_path))\n",
        "\n",
        "accuracy_records.sort(reverse=True, key=lambda x: x['correct'])\n",
        "print(accuracy_records[0])    "
      ]
    },
    {
      "cell_type": "markdown",
      "metadata": {
        "id": "v7icp7wmivWM"
      },
      "source": [
        "# Simplified Alexnet 2\n",
        "- Acc: 87.86% (20)"
      ]
    },
    {
      "cell_type": "code",
      "execution_count": null,
      "metadata": {
        "id": "3lRi5QfNngry"
      },
      "outputs": [],
      "source": [
        "CHECKPOINTS_DIR = './Salexmodels.2'\n",
        "os.makedirs(CHECKPOINTS_DIR, exist_ok=True)"
      ]
    },
    {
      "cell_type": "code",
      "execution_count": null,
      "metadata": {
        "id": "5CzoTKy6lo8u"
      },
      "outputs": [],
      "source": [
        "class SAlexNet2(nn.Module):\n",
        "    def __init__(self) -> None:\n",
        "        super().__init__()\n",
        "\n",
        "        num_classes: int = 10\n",
        "        dropout: float = 0.5\n",
        "\n",
        "        # Input: (N, 1, 28, 28)\n",
        "        self.features = nn.Sequential(\n",
        "            nn.Conv2d(1, 16, kernel_size=6, stride=2, padding=0),  # (N, 12, 12, 16)\n",
        "            nn.ReLU(inplace=True),\n",
        "            nn.MaxPool2d(kernel_size=5, stride=1, padding=0),  # (N, 8, 8, 16)\n",
        "            nn.Conv2d(16, 32, kernel_size=5, stride=1, padding=2),  # (N, 8, 8, 32)\n",
        "            nn.ReLU(inplace=True),\n",
        "            nn.MaxPool2d(kernel_size=4, stride=1, padding=0),  # (N, 5, 5, 32)\n",
        "            nn.Conv2d(32, 64, kernel_size=3, stride=1, padding=1),  # (N, 5, 5, 64)\n",
        "            nn.ReLU(inplace=True),\n",
        "            nn.Conv2d(64, 64, kernel_size=3, stride=1, padding=1),  # (N, 5, 5, 64)\n",
        "            nn.ReLU(inplace=True),\n",
        "            nn.Conv2d(64, 32, kernel_size=3, stride=1, padding=1),  # (N, 5, 5, 32)\n",
        "            nn.ReLU(inplace=True),\n",
        "            nn.MaxPool2d(kernel_size=3, stride=2, padding=0),  # (N, 2, 2, 32)\n",
        "        ) # Output: (N, 32)\n",
        "\n",
        "        # Input: (N, 32)\n",
        "        self.classifier = nn.Sequential(\n",
        "            nn.Dropout(p=dropout),\n",
        "            nn.Linear(32 * 2 * 2, 512),\n",
        "            nn.ReLU(inplace=True),\n",
        "            nn.Dropout(p=dropout),\n",
        "            nn.Linear(512, 512),\n",
        "            nn.ReLU(inplace=True),\n",
        "            nn.Linear(512, num_classes),\n",
        "        ) # Output: (N, 100)\n",
        "\n",
        "    def _initialize(self):\n",
        "        for layer in self.features:\n",
        "            if isinstance(layer, nn.Conv2d):\n",
        "                nn.init.normal_(layer.weigh, mean=0, std=0.01)\n",
        "                nn.init.constant_(layer.bias, 0)\n",
        "        for i in (3, 8, 10):\n",
        "            nn.init.constant_(self.features[i].bias, 1)\n",
        "\n",
        "    def forward(self, x: torch.Tensor) -> torch.Tensor:\n",
        "        x = self.features(x)\n",
        "        x = x.view(-1, 2 * 2 * 32)\n",
        "        x = self.classifier(x)\n",
        "        return x"
      ]
    },
    {
      "cell_type": "code",
      "execution_count": null,
      "metadata": {
        "id": "nwrXC_oFltAl",
        "outputId": "eb6e56db-aa64-47c6-9bd0-1a8535dd48d7"
      },
      "outputs": [
        {
          "name": "stdout",
          "output_type": "stream",
          "text": [
            "Seed: 777\n",
            "Start training...\n"
          ]
        },
        {
          "name": "stderr",
          "output_type": "stream",
          "text": [
            "100%|########################################| 468/468 [00:01<00:00, 312.64it/s]\n"
          ]
        },
        {
          "name": "stdout",
          "output_type": "stream",
          "text": [
            "Epoch: 1 \tStep: 469 \tLoss: 1.0727\n"
          ]
        },
        {
          "name": "stderr",
          "output_type": "stream",
          "text": [
            "100%|########################################| 468/468 [00:01<00:00, 298.95it/s]\n"
          ]
        },
        {
          "name": "stdout",
          "output_type": "stream",
          "text": [
            "Epoch: 2 \tStep: 937 \tLoss: 0.5631\n"
          ]
        },
        {
          "name": "stderr",
          "output_type": "stream",
          "text": [
            "100%|########################################| 468/468 [00:01<00:00, 308.79it/s]\n"
          ]
        },
        {
          "name": "stdout",
          "output_type": "stream",
          "text": [
            "Epoch: 3 \tStep: 1405 \tLoss: 0.4774\n"
          ]
        },
        {
          "name": "stderr",
          "output_type": "stream",
          "text": [
            "100%|########################################| 468/468 [00:01<00:00, 296.72it/s]\n"
          ]
        },
        {
          "name": "stdout",
          "output_type": "stream",
          "text": [
            "Epoch: 4 \tStep: 1873 \tLoss: 0.4329\n"
          ]
        },
        {
          "name": "stderr",
          "output_type": "stream",
          "text": [
            "100%|########################################| 468/468 [00:01<00:00, 305.58it/s]\n"
          ]
        },
        {
          "name": "stdout",
          "output_type": "stream",
          "text": [
            "Epoch: 5 \tStep: 2341 \tLoss: 0.4118\n"
          ]
        },
        {
          "name": "stderr",
          "output_type": "stream",
          "text": [
            "100%|########################################| 468/468 [00:01<00:00, 301.86it/s]\n"
          ]
        },
        {
          "name": "stdout",
          "output_type": "stream",
          "text": [
            "Epoch: 6 \tStep: 2809 \tLoss: 0.3843\n"
          ]
        },
        {
          "name": "stderr",
          "output_type": "stream",
          "text": [
            "100%|########################################| 468/468 [00:01<00:00, 296.65it/s]\n"
          ]
        },
        {
          "name": "stdout",
          "output_type": "stream",
          "text": [
            "Epoch: 7 \tStep: 3277 \tLoss: 0.3670\n"
          ]
        },
        {
          "name": "stderr",
          "output_type": "stream",
          "text": [
            "100%|########################################| 468/468 [00:01<00:00, 299.10it/s]\n"
          ]
        },
        {
          "name": "stdout",
          "output_type": "stream",
          "text": [
            "Epoch: 8 \tStep: 3745 \tLoss: 0.3585\n"
          ]
        },
        {
          "name": "stderr",
          "output_type": "stream",
          "text": [
            "100%|########################################| 468/468 [00:01<00:00, 298.16it/s]\n"
          ]
        },
        {
          "name": "stdout",
          "output_type": "stream",
          "text": [
            "Epoch: 9 \tStep: 4213 \tLoss: 0.3498\n"
          ]
        },
        {
          "name": "stderr",
          "output_type": "stream",
          "text": [
            "100%|########################################| 468/468 [00:01<00:00, 303.70it/s]\n"
          ]
        },
        {
          "name": "stdout",
          "output_type": "stream",
          "text": [
            "Epoch: 10 \tStep: 4681 \tLoss: 0.3409\n"
          ]
        },
        {
          "name": "stderr",
          "output_type": "stream",
          "text": [
            "100%|########################################| 468/468 [00:01<00:00, 304.23it/s]\n"
          ]
        },
        {
          "name": "stdout",
          "output_type": "stream",
          "text": [
            "Epoch: 11 \tStep: 5149 \tLoss: 0.3322\n"
          ]
        },
        {
          "name": "stderr",
          "output_type": "stream",
          "text": [
            "100%|########################################| 468/468 [00:01<00:00, 300.29it/s]\n"
          ]
        },
        {
          "name": "stdout",
          "output_type": "stream",
          "text": [
            "Epoch: 12 \tStep: 5617 \tLoss: 0.3197\n"
          ]
        },
        {
          "name": "stderr",
          "output_type": "stream",
          "text": [
            "100%|########################################| 468/468 [00:01<00:00, 308.68it/s]\n"
          ]
        },
        {
          "name": "stdout",
          "output_type": "stream",
          "text": [
            "Epoch: 13 \tStep: 6085 \tLoss: 0.3129\n"
          ]
        },
        {
          "name": "stderr",
          "output_type": "stream",
          "text": [
            "100%|########################################| 468/468 [00:01<00:00, 307.86it/s]\n"
          ]
        },
        {
          "name": "stdout",
          "output_type": "stream",
          "text": [
            "Epoch: 14 \tStep: 6553 \tLoss: 0.3073\n"
          ]
        },
        {
          "name": "stderr",
          "output_type": "stream",
          "text": [
            "100%|########################################| 468/468 [00:01<00:00, 299.83it/s]\n"
          ]
        },
        {
          "name": "stdout",
          "output_type": "stream",
          "text": [
            "Epoch: 15 \tStep: 7021 \tLoss: 0.3026\n"
          ]
        },
        {
          "name": "stderr",
          "output_type": "stream",
          "text": [
            "100%|########################################| 468/468 [00:01<00:00, 303.98it/s]\n"
          ]
        },
        {
          "name": "stdout",
          "output_type": "stream",
          "text": [
            "Epoch: 16 \tStep: 7489 \tLoss: 0.2933\n"
          ]
        },
        {
          "name": "stderr",
          "output_type": "stream",
          "text": [
            "100%|########################################| 468/468 [00:01<00:00, 307.55it/s]\n"
          ]
        },
        {
          "name": "stdout",
          "output_type": "stream",
          "text": [
            "Epoch: 17 \tStep: 7957 \tLoss: 0.2906\n"
          ]
        },
        {
          "name": "stderr",
          "output_type": "stream",
          "text": [
            "100%|########################################| 468/468 [00:01<00:00, 294.29it/s]\n"
          ]
        },
        {
          "name": "stdout",
          "output_type": "stream",
          "text": [
            "Epoch: 18 \tStep: 8425 \tLoss: 0.2882\n"
          ]
        },
        {
          "name": "stderr",
          "output_type": "stream",
          "text": [
            "100%|########################################| 468/468 [00:01<00:00, 302.62it/s]\n"
          ]
        },
        {
          "name": "stdout",
          "output_type": "stream",
          "text": [
            "Epoch: 19 \tStep: 8893 \tLoss: 0.2787\n"
          ]
        },
        {
          "name": "stderr",
          "output_type": "stream",
          "text": [
            "100%|########################################| 468/468 [00:01<00:00, 304.18it/s]"
          ]
        },
        {
          "name": "stdout",
          "output_type": "stream",
          "text": [
            "Epoch: 20 \tStep: 9361 \tLoss: 0.2759\n"
          ]
        },
        {
          "name": "stderr",
          "output_type": "stream",
          "text": [
            "\n"
          ]
        }
      ],
      "source": [
        "seed = torch.initial_seed()\n",
        "print(f\"Seed: {seed}\")\n",
        "\n",
        "model = SAlexNet2()\n",
        "model = model.to(device)\n",
        "\n",
        "optimizer = optim.Adam(model.parameters(), lr=0.001, betas=(0.9, 0.999))\n",
        "lr_scheduler = optim.lr_scheduler.StepLR(optimizer, step_size=30, gamma=0.1)\n",
        "train_loader = data.DataLoader(train_set, shuffle=True,\n",
        "                               pin_memory=True, num_workers=2,\n",
        "                               drop_last=True, batch_size=BATCH_SIZE)\n",
        "\n",
        "print(\"Start training...\")\n",
        "total_steps = 1\n",
        "for epoch in range(NUM_EPOCHS):\n",
        "    pbar = tqdm(train_loader, ascii=True, ncols=80)\n",
        "    loss_records = []\n",
        "    for imgs, classes in pbar:\n",
        "        imgs, classes = imgs.to(device), classes.to(device)\n",
        "\n",
        "        # Calculate the loss\n",
        "        output = model(imgs)\n",
        "        loss = F.cross_entropy(output, classes)\n",
        "\n",
        "        # Update the parameters\n",
        "        optimizer.zero_grad()\n",
        "        loss.backward()\n",
        "        optimizer.step()\n",
        "        \n",
        "        loss_records.append(loss.item())\n",
        "\n",
        "        # Log\n",
        "#         if total_steps % 50 == 0:\n",
        "#             with torch.no_grad():\n",
        "#                 model.eval()\n",
        "#                 _, preds = torch.max(output, 1)\n",
        "#                 accuracy = torch.sum(preds == classes)\n",
        "\n",
        "#                 print(f\"Epoch: {epoch + 1} \\tStep: {total_steps} \\tLoss: {loss.item():.4f} \\tAcc: {accuracy.item()}/{BATCH_SIZE}\")\n",
        "#                 model.train()\n",
        "        total_steps += 1\n",
        "    loss_mean = np.mean(loss_records)\n",
        "    print(f\"Epoch: {epoch + 1} \\tStep: {total_steps} \\tLoss: {loss_mean:.4f}\")\n",
        "    lr_scheduler.step()\n",
        "\n",
        "    checkpoint_path = os.path.join(CHECKPOINTS_DIR, f\"salexnet_states2_e{epoch + 1:04d}.pkl\")\n",
        "    state = {\n",
        "        'epoch': epoch,\n",
        "        'total_steps': total_steps,\n",
        "        'optimizer': optimizer.state_dict(),\n",
        "        'model': model.state_dict(),\n",
        "        'seed': seed,\n",
        "    }\n",
        "    torch.save(state, checkpoint_path)"
      ]
    },
    {
      "cell_type": "code",
      "execution_count": null,
      "metadata": {
        "id": "s98LgCUMQR8N",
        "outputId": "515b5713-5842-4eed-8a51-4b862121bc97"
      },
      "outputs": [
        {
          "name": "stdout",
          "output_type": "stream",
          "text": [
            "421146\n"
          ]
        }
      ],
      "source": [
        "total_params = sum(p.numel() for p in model.parameters())\n",
        "print(total_params)"
      ]
    },
    {
      "cell_type": "code",
      "execution_count": null,
      "metadata": {
        "id": "k3-tRHcRl98_",
        "outputId": "7e4aba28-fcaa-4013-d7e4-44e74151e0ae"
      },
      "outputs": [
        {
          "name": "stderr",
          "output_type": "stream",
          "text": [
            "  1%|3                                      | 79/10000 [00:00<00:39, 251.97it/s]\n"
          ]
        },
        {
          "name": "stdout",
          "output_type": "stream",
          "text": [
            "Epoch: 1 \tAcc: 7803/10000\n"
          ]
        },
        {
          "name": "stderr",
          "output_type": "stream",
          "text": [
            "  1%|3                                      | 79/10000 [00:00<00:46, 215.53it/s]\n"
          ]
        },
        {
          "name": "stdout",
          "output_type": "stream",
          "text": [
            "Epoch: 2 \tAcc: 8153/10000\n"
          ]
        },
        {
          "name": "stderr",
          "output_type": "stream",
          "text": [
            "  1%|3                                      | 79/10000 [00:00<00:41, 237.97it/s]\n"
          ]
        },
        {
          "name": "stdout",
          "output_type": "stream",
          "text": [
            "Epoch: 3 \tAcc: 8346/10000\n"
          ]
        },
        {
          "name": "stderr",
          "output_type": "stream",
          "text": [
            "  1%|3                                      | 79/10000 [00:00<00:40, 247.02it/s]\n"
          ]
        },
        {
          "name": "stdout",
          "output_type": "stream",
          "text": [
            "Epoch: 4 \tAcc: 8455/10000\n"
          ]
        },
        {
          "name": "stderr",
          "output_type": "stream",
          "text": [
            "  1%|3                                      | 79/10000 [00:00<00:42, 235.65it/s]\n"
          ]
        },
        {
          "name": "stdout",
          "output_type": "stream",
          "text": [
            "Epoch: 5 \tAcc: 8393/10000\n"
          ]
        },
        {
          "name": "stderr",
          "output_type": "stream",
          "text": [
            "  1%|3                                      | 79/10000 [00:00<00:43, 229.09it/s]\n"
          ]
        },
        {
          "name": "stdout",
          "output_type": "stream",
          "text": [
            "Epoch: 6 \tAcc: 8548/10000\n"
          ]
        },
        {
          "name": "stderr",
          "output_type": "stream",
          "text": [
            "  1%|3                                      | 79/10000 [00:00<00:40, 245.43it/s]\n"
          ]
        },
        {
          "name": "stdout",
          "output_type": "stream",
          "text": [
            "Epoch: 7 \tAcc: 8597/10000\n"
          ]
        },
        {
          "name": "stderr",
          "output_type": "stream",
          "text": [
            "  1%|3                                      | 79/10000 [00:00<00:44, 222.56it/s]\n"
          ]
        },
        {
          "name": "stdout",
          "output_type": "stream",
          "text": [
            "Epoch: 8 \tAcc: 8619/10000\n"
          ]
        },
        {
          "name": "stderr",
          "output_type": "stream",
          "text": [
            "  1%|3                                      | 79/10000 [00:00<00:45, 216.58it/s]\n"
          ]
        },
        {
          "name": "stdout",
          "output_type": "stream",
          "text": [
            "Epoch: 9 \tAcc: 8650/10000\n"
          ]
        },
        {
          "name": "stderr",
          "output_type": "stream",
          "text": [
            "  1%|3                                      | 79/10000 [00:00<00:43, 227.18it/s]\n"
          ]
        },
        {
          "name": "stdout",
          "output_type": "stream",
          "text": [
            "Epoch: 10 \tAcc: 8517/10000\n"
          ]
        },
        {
          "name": "stderr",
          "output_type": "stream",
          "text": [
            "  1%|3                                      | 79/10000 [00:00<00:39, 250.71it/s]\n"
          ]
        },
        {
          "name": "stdout",
          "output_type": "stream",
          "text": [
            "Epoch: 11 \tAcc: 8679/10000\n"
          ]
        },
        {
          "name": "stderr",
          "output_type": "stream",
          "text": [
            "  1%|3                                      | 79/10000 [00:00<00:43, 226.22it/s]\n"
          ]
        },
        {
          "name": "stdout",
          "output_type": "stream",
          "text": [
            "Epoch: 12 \tAcc: 8636/10000\n"
          ]
        },
        {
          "name": "stderr",
          "output_type": "stream",
          "text": [
            "  1%|3                                      | 79/10000 [00:00<00:42, 234.50it/s]\n"
          ]
        },
        {
          "name": "stdout",
          "output_type": "stream",
          "text": [
            "Epoch: 13 \tAcc: 8676/10000\n"
          ]
        },
        {
          "name": "stderr",
          "output_type": "stream",
          "text": [
            "  1%|3                                      | 79/10000 [00:00<00:40, 244.83it/s]\n"
          ]
        },
        {
          "name": "stdout",
          "output_type": "stream",
          "text": [
            "Epoch: 14 \tAcc: 8718/10000\n"
          ]
        },
        {
          "name": "stderr",
          "output_type": "stream",
          "text": [
            "  1%|3                                      | 79/10000 [00:00<00:42, 232.36it/s]\n"
          ]
        },
        {
          "name": "stdout",
          "output_type": "stream",
          "text": [
            "Epoch: 15 \tAcc: 8735/10000\n"
          ]
        },
        {
          "name": "stderr",
          "output_type": "stream",
          "text": [
            "  1%|3                                      | 79/10000 [00:00<00:45, 215.96it/s]\n"
          ]
        },
        {
          "name": "stdout",
          "output_type": "stream",
          "text": [
            "Epoch: 16 \tAcc: 8754/10000\n"
          ]
        },
        {
          "name": "stderr",
          "output_type": "stream",
          "text": [
            "  1%|3                                      | 79/10000 [00:00<00:44, 224.47it/s]\n"
          ]
        },
        {
          "name": "stdout",
          "output_type": "stream",
          "text": [
            "Epoch: 17 \tAcc: 8688/10000\n"
          ]
        },
        {
          "name": "stderr",
          "output_type": "stream",
          "text": [
            "  1%|3                                      | 79/10000 [00:00<00:42, 234.72it/s]\n"
          ]
        },
        {
          "name": "stdout",
          "output_type": "stream",
          "text": [
            "Epoch: 18 \tAcc: 8700/10000\n"
          ]
        },
        {
          "name": "stderr",
          "output_type": "stream",
          "text": [
            "  1%|3                                      | 79/10000 [00:00<00:41, 238.24it/s]\n"
          ]
        },
        {
          "name": "stdout",
          "output_type": "stream",
          "text": [
            "Epoch: 19 \tAcc: 8767/10000\n"
          ]
        },
        {
          "name": "stderr",
          "output_type": "stream",
          "text": [
            "  1%|3                                      | 79/10000 [00:00<00:42, 234.01it/s]"
          ]
        },
        {
          "name": "stdout",
          "output_type": "stream",
          "text": [
            "Epoch: 20 \tAcc: 8786/10000\n",
            "{'epoch': 20, 'correct': 8786, 'path': './Salexmodels.2/salexnet_states2_e0020.pkl'}\n"
          ]
        },
        {
          "name": "stderr",
          "output_type": "stream",
          "text": [
            "\n"
          ]
        }
      ],
      "source": [
        "test_loader = data.DataLoader(test_set, shuffle=True,\n",
        "                              pin_memory=True, num_workers=2,\n",
        "                              batch_size=BATCH_SIZE)\n",
        "model_paths = glob(os.path.join(CHECKPOINTS_DIR, 'salexnet_states2_e????.pkl'))\n",
        "model_paths.sort()\n",
        "\n",
        "accuracy_records = []\n",
        "\n",
        "for model_path in model_paths:\n",
        "    chk = torch.load(model_path)\n",
        "    epoch = chk['epoch']\n",
        "    \n",
        "    model = SAlexNet2()\n",
        "    model.load_state_dict(chk['model'])  # Load parameters from the checkpoint\n",
        "    model = model.to(device)\n",
        "  \n",
        "    correct_coutner = 0\n",
        "    pbar = tqdm(test_loader, ascii=True, ncols=80, total=len(test_set))\n",
        "    for imgs, labels in pbar:\n",
        "        imgs, labels = imgs.to(device), labels.to(device)\n",
        "        \n",
        "        with torch.no_grad():\n",
        "            output = model(imgs)\n",
        "            model.eval()\n",
        "            _, preds = torch.max(output, 1)\n",
        "            accuracy = torch.sum(preds == labels)\n",
        "            correct_coutner += accuracy.item()\n",
        "        pbar.update(BATCH_SIZE)\n",
        "\n",
        "    print(f\"Epoch: {epoch + 1} \\tAcc: {correct_coutner}/{len(test_set)}\")\n",
        "    accuracy_records.append(dict(epoch=(epoch + 1), correct = correct_coutner, path=model_path))\n",
        "\n",
        "accuracy_records.sort(reverse=True, key=lambda x: x['correct'])\n",
        "print(accuracy_records[0])    "
      ]
    },
    {
      "cell_type": "markdown",
      "metadata": {
        "id": "QfLihiyABxt6"
      },
      "source": [
        "# Architecture"
      ]
    },
    {
      "cell_type": "code",
      "source": [],
      "metadata": {
        "id": "kya3qHlnRlIZ"
      },
      "execution_count": null,
      "outputs": []
    },
    {
      "cell_type": "code",
      "execution_count": 11,
      "metadata": {
        "id": "hUSOVndX3k1b"
      },
      "outputs": [],
      "source": [
        "img  ='./Alexnet.PNG'\n",
        "img2 ='./Salexnet_1.PNG'\n",
        "img3 ='./Salexnet_2.PNG'"
      ]
    },
    {
      "cell_type": "code",
      "execution_count": 12,
      "metadata": {
        "id": "C4TcOwLN3md0"
      },
      "outputs": [],
      "source": [
        "im = cv2.imread(img)\n",
        "im2 = cv2.imread(img2)\n",
        "im3 = cv2.imread(img3)"
      ]
    },
    {
      "cell_type": "code",
      "execution_count": 13,
      "metadata": {
        "colab": {
          "base_uri": "https://localhost:8080/",
          "height": 1000
        },
        "id": "bVWworly4Y58",
        "outputId": "193b245a-3325-45d0-c9b3-2af6fcca8ad7"
      },
      "outputs": [
        {
          "output_type": "display_data",
          "data": {
            "text/plain": [
              "<PIL.Image.Image image mode=RGB size=1134x1058 at 0x7F37663B2880>"
            ],
            "image/png": "[encoded data removed]"
          },
          "metadata": {}
        }
      ],
      "source": [
        "cv2_imshow(cv2.hconcat([im, im2, im3]))"
      ]
    },
    {
      "cell_type": "markdown",
      "metadata": {
        "id": "fV49Kin9GuU7"
      },
      "source": [
        "# Summary\n",
        "\n",
        "저희는 `Lenet`을 구현하여 약 6만개의 가중치를 사용하여 약 85%의 정확도를 달성하였습니다.\n",
        "이를 `Alexnet`과 비교하였을 때 정확도는 낮지만 약 0.1%의 가중치만을 사용하였다는 것을 감안하면 충분히 의미있는 결과라고 생각됩니다.\n",
        "\n",
        "저희는 `Alexnet`을 단순화한 모형을 두 가지 제안하였습니다.\n",
        "그 결과 0.6%의 가중치만을 사용하여 약 87%의 정확도를 달성하였습니다.\n",
        "이는 원본의 약 91%의 정확도와 비교하여 정확도를 희생한 것에 비하여 가중치를 획기적으로 줄인 것이라 생각됩니다."
      ]
    }
  ],
  "metadata": {
    "accelerator": "GPU",
    "colab": {
      "provenance": [],
      "include_colab_link": true
    },
    "gpuClass": "standard",
    "kernelspec": {
      "display_name": "Python 3",
      "name": "python3"
    },
    "language_info": {
      "name": "python"
    }
  },
  "nbformat": 4,
  "nbformat_minor": 0
}