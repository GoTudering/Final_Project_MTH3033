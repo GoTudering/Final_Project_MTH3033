{
  "nbformat": 4,
  "nbformat_minor": 0,
  "metadata": {
    "colab": {
      "provenance": [],
      "authorship_tag": "ABX9TyN8GtDD57hWhviEjrUda9dF",
      "include_colab_link": true
    },
    "kernelspec": {
      "name": "python3",
      "display_name": "Python 3"
    },
    "language_info": {
      "name": "python"
    },
    "accelerator": "GPU",
    "gpuClass": "standard",
    "widgets": {
      "application/vnd.jupyter.widget-state+json": {
        "a4f9d3f99ac54b5c942a4578c64c4ded": {
          "model_module": "@jupyter-widgets/controls",
          "model_name": "HBoxModel",
          "model_module_version": "1.5.0",
          "state": {
            "_dom_classes": [],
            "_model_module": "@jupyter-widgets/controls",
            "_model_module_version": "1.5.0",
            "_model_name": "HBoxModel",
            "_view_count": null,
            "_view_module": "@jupyter-widgets/controls",
            "_view_module_version": "1.5.0",
            "_view_name": "HBoxView",
            "box_style": "",
            "children": [
              "IPY_MODEL_dd99089b96c74eaf99c75dc301a81db9",
              "IPY_MODEL_75a8af0aa92b4e7bb56d70b140e9db81",
              "IPY_MODEL_bb0d285330d04a979fd24382ee7e7e7d"
            ],
            "layout": "IPY_MODEL_d399140c19db4598ac30a0a5a81427a2"
          }
        },
        "dd99089b96c74eaf99c75dc301a81db9": {
          "model_module": "@jupyter-widgets/controls",
          "model_name": "HTMLModel",
          "model_module_version": "1.5.0",
          "state": {
            "_dom_classes": [],
            "_model_module": "@jupyter-widgets/controls",
            "_model_module_version": "1.5.0",
            "_model_name": "HTMLModel",
            "_view_count": null,
            "_view_module": "@jupyter-widgets/controls",
            "_view_module_version": "1.5.0",
            "_view_name": "HTMLView",
            "description": "",
            "description_tooltip": null,
            "layout": "IPY_MODEL_7ad6e2e16c494503bab5a2014a59aa2b",
            "placeholder": "​",
            "style": "IPY_MODEL_5f7121c12ec841b9889f283ffabe2425",
            "value": "100%"
          }
        },
        "75a8af0aa92b4e7bb56d70b140e9db81": {
          "model_module": "@jupyter-widgets/controls",
          "model_name": "FloatProgressModel",
          "model_module_version": "1.5.0",
          "state": {
            "_dom_classes": [],
            "_model_module": "@jupyter-widgets/controls",
            "_model_module_version": "1.5.0",
            "_model_name": "FloatProgressModel",
            "_view_count": null,
            "_view_module": "@jupyter-widgets/controls",
            "_view_module_version": "1.5.0",
            "_view_name": "ProgressView",
            "bar_style": "success",
            "description": "",
            "description_tooltip": null,
            "layout": "IPY_MODEL_5d654460159b496ea3746e13e1edecb2",
            "max": 26421880,
            "min": 0,
            "orientation": "horizontal",
            "style": "IPY_MODEL_ef94c34afcce4683ad9a93ad36f85923",
            "value": 26421880
          }
        },
        "bb0d285330d04a979fd24382ee7e7e7d": {
          "model_module": "@jupyter-widgets/controls",
          "model_name": "HTMLModel",
          "model_module_version": "1.5.0",
          "state": {
            "_dom_classes": [],
            "_model_module": "@jupyter-widgets/controls",
            "_model_module_version": "1.5.0",
            "_model_name": "HTMLModel",
            "_view_count": null,
            "_view_module": "@jupyter-widgets/controls",
            "_view_module_version": "1.5.0",
            "_view_name": "HTMLView",
            "description": "",
            "description_tooltip": null,
            "layout": "IPY_MODEL_5cf8cd0e162b43068a81fcc3cfa8931b",
            "placeholder": "​",
            "style": "IPY_MODEL_0e972a1cc0ca4eb081b9346735e2c837",
            "value": " 26421880/26421880 [00:00&lt;00:00, 132511642.40it/s]"
          }
        },
        "d399140c19db4598ac30a0a5a81427a2": {
          "model_module": "@jupyter-widgets/base",
          "model_name": "LayoutModel",
          "model_module_version": "1.2.0",
          "state": {
            "_model_module": "@jupyter-widgets/base",
            "_model_module_version": "1.2.0",
            "_model_name": "LayoutModel",
            "_view_count": null,
            "_view_module": "@jupyter-widgets/base",
            "_view_module_version": "1.2.0",
            "_view_name": "LayoutView",
            "align_content": null,
            "align_items": null,
            "align_self": null,
            "border": null,
            "bottom": null,
            "display": null,
            "flex": null,
            "flex_flow": null,
            "grid_area": null,
            "grid_auto_columns": null,
            "grid_auto_flow": null,
            "grid_auto_rows": null,
            "grid_column": null,
            "grid_gap": null,
            "grid_row": null,
            "grid_template_areas": null,
            "grid_template_columns": null,
            "grid_template_rows": null,
            "height": null,
            "justify_content": null,
            "justify_items": null,
            "left": null,
            "margin": null,
            "max_height": null,
            "max_width": null,
            "min_height": null,
            "min_width": null,
            "object_fit": null,
            "object_position": null,
            "order": null,
            "overflow": null,
            "overflow_x": null,
            "overflow_y": null,
            "padding": null,
            "right": null,
            "top": null,
            "visibility": null,
            "width": null
          }
        },
        "7ad6e2e16c494503bab5a2014a59aa2b": {
          "model_module": "@jupyter-widgets/base",
          "model_name": "LayoutModel",
          "model_module_version": "1.2.0",
          "state": {
            "_model_module": "@jupyter-widgets/base",
            "_model_module_version": "1.2.0",
            "_model_name": "LayoutModel",
            "_view_count": null,
            "_view_module": "@jupyter-widgets/base",
            "_view_module_version": "1.2.0",
            "_view_name": "LayoutView",
            "align_content": null,
            "align_items": null,
            "align_self": null,
            "border": null,
            "bottom": null,
            "display": null,
            "flex": null,
            "flex_flow": null,
            "grid_area": null,
            "grid_auto_columns": null,
            "grid_auto_flow": null,
            "grid_auto_rows": null,
            "grid_column": null,
            "grid_gap": null,
            "grid_row": null,
            "grid_template_areas": null,
            "grid_template_columns": null,
            "grid_template_rows": null,
            "height": null,
            "justify_content": null,
            "justify_items": null,
            "left": null,
            "margin": null,
            "max_height": null,
            "max_width": null,
            "min_height": null,
            "min_width": null,
            "object_fit": null,
            "object_position": null,
            "order": null,
            "overflow": null,
            "overflow_x": null,
            "overflow_y": null,
            "padding": null,
            "right": null,
            "top": null,
            "visibility": null,
            "width": null
          }
        },
        "5f7121c12ec841b9889f283ffabe2425": {
          "model_module": "@jupyter-widgets/controls",
          "model_name": "DescriptionStyleModel",
          "model_module_version": "1.5.0",
          "state": {
            "_model_module": "@jupyter-widgets/controls",
            "_model_module_version": "1.5.0",
            "_model_name": "DescriptionStyleModel",
            "_view_count": null,
            "_view_module": "@jupyter-widgets/base",
            "_view_module_version": "1.2.0",
            "_view_name": "StyleView",
            "description_width": ""
          }
        },
        "5d654460159b496ea3746e13e1edecb2": {
          "model_module": "@jupyter-widgets/base",
          "model_name": "LayoutModel",
          "model_module_version": "1.2.0",
          "state": {
            "_model_module": "@jupyter-widgets/base",
            "_model_module_version": "1.2.0",
            "_model_name": "LayoutModel",
            "_view_count": null,
            "_view_module": "@jupyter-widgets/base",
            "_view_module_version": "1.2.0",
            "_view_name": "LayoutView",
            "align_content": null,
            "align_items": null,
            "align_self": null,
            "border": null,
            "bottom": null,
            "display": null,
            "flex": null,
            "flex_flow": null,
            "grid_area": null,
            "grid_auto_columns": null,
            "grid_auto_flow": null,
            "grid_auto_rows": null,
            "grid_column": null,
            "grid_gap": null,
            "grid_row": null,
            "grid_template_areas": null,
            "grid_template_columns": null,
            "grid_template_rows": null,
            "height": null,
            "justify_content": null,
            "justify_items": null,
            "left": null,
            "margin": null,
            "max_height": null,
            "max_width": null,
            "min_height": null,
            "min_width": null,
            "object_fit": null,
            "object_position": null,
            "order": null,
            "overflow": null,
            "overflow_x": null,
            "overflow_y": null,
            "padding": null,
            "right": null,
            "top": null,
            "visibility": null,
            "width": null
          }
        },
        "ef94c34afcce4683ad9a93ad36f85923": {
          "model_module": "@jupyter-widgets/controls",
          "model_name": "ProgressStyleModel",
          "model_module_version": "1.5.0",
          "state": {
            "_model_module": "@jupyter-widgets/controls",
            "_model_module_version": "1.5.0",
            "_model_name": "ProgressStyleModel",
            "_view_count": null,
            "_view_module": "@jupyter-widgets/base",
            "_view_module_version": "1.2.0",
            "_view_name": "StyleView",
            "bar_color": null,
            "description_width": ""
          }
        },
        "5cf8cd0e162b43068a81fcc3cfa8931b": {
          "model_module": "@jupyter-widgets/base",
          "model_name": "LayoutModel",
          "model_module_version": "1.2.0",
          "state": {
            "_model_module": "@jupyter-widgets/base",
            "_model_module_version": "1.2.0",
            "_model_name": "LayoutModel",
            "_view_count": null,
            "_view_module": "@jupyter-widgets/base",
            "_view_module_version": "1.2.0",
            "_view_name": "LayoutView",
            "align_content": null,
            "align_items": null,
            "align_self": null,
            "border": null,
            "bottom": null,
            "display": null,
            "flex": null,
            "flex_flow": null,
            "grid_area": null,
            "grid_auto_columns": null,
            "grid_auto_flow": null,
            "grid_auto_rows": null,
            "grid_column": null,
            "grid_gap": null,
            "grid_row": null,
            "grid_template_areas": null,
            "grid_template_columns": null,
            "grid_template_rows": null,
            "height": null,
            "justify_content": null,
            "justify_items": null,
            "left": null,
            "margin": null,
            "max_height": null,
            "max_width": null,
            "min_height": null,
            "min_width": null,
            "object_fit": null,
            "object_position": null,
            "order": null,
            "overflow": null,
            "overflow_x": null,
            "overflow_y": null,
            "padding": null,
            "right": null,
            "top": null,
            "visibility": null,
            "width": null
          }
        },
        "0e972a1cc0ca4eb081b9346735e2c837": {
          "model_module": "@jupyter-widgets/controls",
          "model_name": "DescriptionStyleModel",
          "model_module_version": "1.5.0",
          "state": {
            "_model_module": "@jupyter-widgets/controls",
            "_model_module_version": "1.5.0",
            "_model_name": "DescriptionStyleModel",
            "_view_count": null,
            "_view_module": "@jupyter-widgets/base",
            "_view_module_version": "1.2.0",
            "_view_name": "StyleView",
            "description_width": ""
          }
        },
        "833ff04e9f6b4241a2a149c0b775f2b1": {
          "model_module": "@jupyter-widgets/controls",
          "model_name": "HBoxModel",
          "model_module_version": "1.5.0",
          "state": {
            "_dom_classes": [],
            "_model_module": "@jupyter-widgets/controls",
            "_model_module_version": "1.5.0",
            "_model_name": "HBoxModel",
            "_view_count": null,
            "_view_module": "@jupyter-widgets/controls",
            "_view_module_version": "1.5.0",
            "_view_name": "HBoxView",
            "box_style": "",
            "children": [
              "IPY_MODEL_9c0622601bf349c78502f1d1238259d3",
              "IPY_MODEL_849e710437b54fdcb92baef571382469",
              "IPY_MODEL_de21f82b346d495e839e58530f2caca8"
            ],
            "layout": "IPY_MODEL_94935177a61e43dca27441278f820757"
          }
        },
        "9c0622601bf349c78502f1d1238259d3": {
          "model_module": "@jupyter-widgets/controls",
          "model_name": "HTMLModel",
          "model_module_version": "1.5.0",
          "state": {
            "_dom_classes": [],
            "_model_module": "@jupyter-widgets/controls",
            "_model_module_version": "1.5.0",
            "_model_name": "HTMLModel",
            "_view_count": null,
            "_view_module": "@jupyter-widgets/controls",
            "_view_module_version": "1.5.0",
            "_view_name": "HTMLView",
            "description": "",
            "description_tooltip": null,
            "layout": "IPY_MODEL_eae7511f5c714d8882a4f301241f77fd",
            "placeholder": "​",
            "style": "IPY_MODEL_c9b1daf3bf9e4598b6d3f118fd3d3d9b",
            "value": "100%"
          }
        },
        "849e710437b54fdcb92baef571382469": {
          "model_module": "@jupyter-widgets/controls",
          "model_name": "FloatProgressModel",
          "model_module_version": "1.5.0",
          "state": {
            "_dom_classes": [],
            "_model_module": "@jupyter-widgets/controls",
            "_model_module_version": "1.5.0",
            "_model_name": "FloatProgressModel",
            "_view_count": null,
            "_view_module": "@jupyter-widgets/controls",
            "_view_module_version": "1.5.0",
            "_view_name": "ProgressView",
            "bar_style": "success",
            "description": "",
            "description_tooltip": null,
            "layout": "IPY_MODEL_b8b68f547ec6416d824056f0f184b597",
            "max": 29515,
            "min": 0,
            "orientation": "horizontal",
            "style": "IPY_MODEL_f9877d066f16446ba3f223e9fb52eb00",
            "value": 29515
          }
        },
        "de21f82b346d495e839e58530f2caca8": {
          "model_module": "@jupyter-widgets/controls",
          "model_name": "HTMLModel",
          "model_module_version": "1.5.0",
          "state": {
            "_dom_classes": [],
            "_model_module": "@jupyter-widgets/controls",
            "_model_module_version": "1.5.0",
            "_model_name": "HTMLModel",
            "_view_count": null,
            "_view_module": "@jupyter-widgets/controls",
            "_view_module_version": "1.5.0",
            "_view_name": "HTMLView",
            "description": "",
            "description_tooltip": null,
            "layout": "IPY_MODEL_8b822a67e9894566a083a34be2447ab3",
            "placeholder": "​",
            "style": "IPY_MODEL_d87ca6bead464dac8ed6208d0a43eaea",
            "value": " 29515/29515 [00:00&lt;00:00, 857418.10it/s]"
          }
        },
        "94935177a61e43dca27441278f820757": {
          "model_module": "@jupyter-widgets/base",
          "model_name": "LayoutModel",
          "model_module_version": "1.2.0",
          "state": {
            "_model_module": "@jupyter-widgets/base",
            "_model_module_version": "1.2.0",
            "_model_name": "LayoutModel",
            "_view_count": null,
            "_view_module": "@jupyter-widgets/base",
            "_view_module_version": "1.2.0",
            "_view_name": "LayoutView",
            "align_content": null,
            "align_items": null,
            "align_self": null,
            "border": null,
            "bottom": null,
            "display": null,
            "flex": null,
            "flex_flow": null,
            "grid_area": null,
            "grid_auto_columns": null,
            "grid_auto_flow": null,
            "grid_auto_rows": null,
            "grid_column": null,
            "grid_gap": null,
            "grid_row": null,
            "grid_template_areas": null,
            "grid_template_columns": null,
            "grid_template_rows": null,
            "height": null,
            "justify_content": null,
            "justify_items": null,
            "left": null,
            "margin": null,
            "max_height": null,
            "max_width": null,
            "min_height": null,
            "min_width": null,
            "object_fit": null,
            "object_position": null,
            "order": null,
            "overflow": null,
            "overflow_x": null,
            "overflow_y": null,
            "padding": null,
            "right": null,
            "top": null,
            "visibility": null,
            "width": null
          }
        },
        "eae7511f5c714d8882a4f301241f77fd": {
          "model_module": "@jupyter-widgets/base",
          "model_name": "LayoutModel",
          "model_module_version": "1.2.0",
          "state": {
            "_model_module": "@jupyter-widgets/base",
            "_model_module_version": "1.2.0",
            "_model_name": "LayoutModel",
            "_view_count": null,
            "_view_module": "@jupyter-widgets/base",
            "_view_module_version": "1.2.0",
            "_view_name": "LayoutView",
            "align_content": null,
            "align_items": null,
            "align_self": null,
            "border": null,
            "bottom": null,
            "display": null,
            "flex": null,
            "flex_flow": null,
            "grid_area": null,
            "grid_auto_columns": null,
            "grid_auto_flow": null,
            "grid_auto_rows": null,
            "grid_column": null,
            "grid_gap": null,
            "grid_row": null,
            "grid_template_areas": null,
            "grid_template_columns": null,
            "grid_template_rows": null,
            "height": null,
            "justify_content": null,
            "justify_items": null,
            "left": null,
            "margin": null,
            "max_height": null,
            "max_width": null,
            "min_height": null,
            "min_width": null,
            "object_fit": null,
            "object_position": null,
            "order": null,
            "overflow": null,
            "overflow_x": null,
            "overflow_y": null,
            "padding": null,
            "right": null,
            "top": null,
            "visibility": null,
            "width": null
          }
        },
        "c9b1daf3bf9e4598b6d3f118fd3d3d9b": {
          "model_module": "@jupyter-widgets/controls",
          "model_name": "DescriptionStyleModel",
          "model_module_version": "1.5.0",
          "state": {
            "_model_module": "@jupyter-widgets/controls",
            "_model_module_version": "1.5.0",
            "_model_name": "DescriptionStyleModel",
            "_view_count": null,
            "_view_module": "@jupyter-widgets/base",
            "_view_module_version": "1.2.0",
            "_view_name": "StyleView",
            "description_width": ""
          }
        },
        "b8b68f547ec6416d824056f0f184b597": {
          "model_module": "@jupyter-widgets/base",
          "model_name": "LayoutModel",
          "model_module_version": "1.2.0",
          "state": {
            "_model_module": "@jupyter-widgets/base",
            "_model_module_version": "1.2.0",
            "_model_name": "LayoutModel",
            "_view_count": null,
            "_view_module": "@jupyter-widgets/base",
            "_view_module_version": "1.2.0",
            "_view_name": "LayoutView",
            "align_content": null,
            "align_items": null,
            "align_self": null,
            "border": null,
            "bottom": null,
            "display": null,
            "flex": null,
            "flex_flow": null,
            "grid_area": null,
            "grid_auto_columns": null,
            "grid_auto_flow": null,
            "grid_auto_rows": null,
            "grid_column": null,
            "grid_gap": null,
            "grid_row": null,
            "grid_template_areas": null,
            "grid_template_columns": null,
            "grid_template_rows": null,
            "height": null,
            "justify_content": null,
            "justify_items": null,
            "left": null,
            "margin": null,
            "max_height": null,
            "max_width": null,
            "min_height": null,
            "min_width": null,
            "object_fit": null,
            "object_position": null,
            "order": null,
            "overflow": null,
            "overflow_x": null,
            "overflow_y": null,
            "padding": null,
            "right": null,
            "top": null,
            "visibility": null,
            "width": null
          }
        },
        "f9877d066f16446ba3f223e9fb52eb00": {
          "model_module": "@jupyter-widgets/controls",
          "model_name": "ProgressStyleModel",
          "model_module_version": "1.5.0",
          "state": {
            "_model_module": "@jupyter-widgets/controls",
            "_model_module_version": "1.5.0",
            "_model_name": "ProgressStyleModel",
            "_view_count": null,
            "_view_module": "@jupyter-widgets/base",
            "_view_module_version": "1.2.0",
            "_view_name": "StyleView",
            "bar_color": null,
            "description_width": ""
          }
        },
        "8b822a67e9894566a083a34be2447ab3": {
          "model_module": "@jupyter-widgets/base",
          "model_name": "LayoutModel",
          "model_module_version": "1.2.0",
          "state": {
            "_model_module": "@jupyter-widgets/base",
            "_model_module_version": "1.2.0",
            "_model_name": "LayoutModel",
            "_view_count": null,
            "_view_module": "@jupyter-widgets/base",
            "_view_module_version": "1.2.0",
            "_view_name": "LayoutView",
            "align_content": null,
            "align_items": null,
            "align_self": null,
            "border": null,
            "bottom": null,
            "display": null,
            "flex": null,
            "flex_flow": null,
            "grid_area": null,
            "grid_auto_columns": null,
            "grid_auto_flow": null,
            "grid_auto_rows": null,
            "grid_column": null,
            "grid_gap": null,
            "grid_row": null,
            "grid_template_areas": null,
            "grid_template_columns": null,
            "grid_template_rows": null,
            "height": null,
            "justify_content": null,
            "justify_items": null,
            "left": null,
            "margin": null,
            "max_height": null,
            "max_width": null,
            "min_height": null,
            "min_width": null,
            "object_fit": null,
            "object_position": null,
            "order": null,
            "overflow": null,
            "overflow_x": null,
            "overflow_y": null,
            "padding": null,
            "right": null,
            "top": null,
            "visibility": null,
            "width": null
          }
        },
        "d87ca6bead464dac8ed6208d0a43eaea": {
          "model_module": "@jupyter-widgets/controls",
          "model_name": "DescriptionStyleModel",
          "model_module_version": "1.5.0",
          "state": {
            "_model_module": "@jupyter-widgets/controls",
            "_model_module_version": "1.5.0",
            "_model_name": "DescriptionStyleModel",
            "_view_count": null,
            "_view_module": "@jupyter-widgets/base",
            "_view_module_version": "1.2.0",
            "_view_name": "StyleView",
            "description_width": ""
          }
        },
        "76b6f0035aae41389b088d053d5e900a": {
          "model_module": "@jupyter-widgets/controls",
          "model_name": "HBoxModel",
          "model_module_version": "1.5.0",
          "state": {
            "_dom_classes": [],
            "_model_module": "@jupyter-widgets/controls",
            "_model_module_version": "1.5.0",
            "_model_name": "HBoxModel",
            "_view_count": null,
            "_view_module": "@jupyter-widgets/controls",
            "_view_module_version": "1.5.0",
            "_view_name": "HBoxView",
            "box_style": "",
            "children": [
              "IPY_MODEL_4152457b30e848b9a291199c42ff3b61",
              "IPY_MODEL_7da300268db0434a9b9a59eced5dcee1",
              "IPY_MODEL_ca26043fc42649458a4e26c7e80c47be"
            ],
            "layout": "IPY_MODEL_2ed1673c0b8845849ab51e1d3e3e6433"
          }
        },
        "4152457b30e848b9a291199c42ff3b61": {
          "model_module": "@jupyter-widgets/controls",
          "model_name": "HTMLModel",
          "model_module_version": "1.5.0",
          "state": {
            "_dom_classes": [],
            "_model_module": "@jupyter-widgets/controls",
            "_model_module_version": "1.5.0",
            "_model_name": "HTMLModel",
            "_view_count": null,
            "_view_module": "@jupyter-widgets/controls",
            "_view_module_version": "1.5.0",
            "_view_name": "HTMLView",
            "description": "",
            "description_tooltip": null,
            "layout": "IPY_MODEL_4bf52995487b4900845923d29931e36e",
            "placeholder": "​",
            "style": "IPY_MODEL_65826b57ad3145fa95f8c48a67db350a",
            "value": "100%"
          }
        },
        "7da300268db0434a9b9a59eced5dcee1": {
          "model_module": "@jupyter-widgets/controls",
          "model_name": "FloatProgressModel",
          "model_module_version": "1.5.0",
          "state": {
            "_dom_classes": [],
            "_model_module": "@jupyter-widgets/controls",
            "_model_module_version": "1.5.0",
            "_model_name": "FloatProgressModel",
            "_view_count": null,
            "_view_module": "@jupyter-widgets/controls",
            "_view_module_version": "1.5.0",
            "_view_name": "ProgressView",
            "bar_style": "success",
            "description": "",
            "description_tooltip": null,
            "layout": "IPY_MODEL_c7d00e05e0cf451fb5c5ef441db14071",
            "max": 4422102,
            "min": 0,
            "orientation": "horizontal",
            "style": "IPY_MODEL_c2794c6861ce439d9fef6d1a25306c4d",
            "value": 4422102
          }
        },
        "ca26043fc42649458a4e26c7e80c47be": {
          "model_module": "@jupyter-widgets/controls",
          "model_name": "HTMLModel",
          "model_module_version": "1.5.0",
          "state": {
            "_dom_classes": [],
            "_model_module": "@jupyter-widgets/controls",
            "_model_module_version": "1.5.0",
            "_model_name": "HTMLModel",
            "_view_count": null,
            "_view_module": "@jupyter-widgets/controls",
            "_view_module_version": "1.5.0",
            "_view_name": "HTMLView",
            "description": "",
            "description_tooltip": null,
            "layout": "IPY_MODEL_88d0d34c8c044a33b0c6c7ea63703bc7",
            "placeholder": "​",
            "style": "IPY_MODEL_26c9a0ea25d041cdb4ded0e87bd7a838",
            "value": " 4422102/4422102 [00:00&lt;00:00, 46880330.27it/s]"
          }
        },
        "2ed1673c0b8845849ab51e1d3e3e6433": {
          "model_module": "@jupyter-widgets/base",
          "model_name": "LayoutModel",
          "model_module_version": "1.2.0",
          "state": {
            "_model_module": "@jupyter-widgets/base",
            "_model_module_version": "1.2.0",
            "_model_name": "LayoutModel",
            "_view_count": null,
            "_view_module": "@jupyter-widgets/base",
            "_view_module_version": "1.2.0",
            "_view_name": "LayoutView",
            "align_content": null,
            "align_items": null,
            "align_self": null,
            "border": null,
            "bottom": null,
            "display": null,
            "flex": null,
            "flex_flow": null,
            "grid_area": null,
            "grid_auto_columns": null,
            "grid_auto_flow": null,
            "grid_auto_rows": null,
            "grid_column": null,
            "grid_gap": null,
            "grid_row": null,
            "grid_template_areas": null,
            "grid_template_columns": null,
            "grid_template_rows": null,
            "height": null,
            "justify_content": null,
            "justify_items": null,
            "left": null,
            "margin": null,
            "max_height": null,
            "max_width": null,
            "min_height": null,
            "min_width": null,
            "object_fit": null,
            "object_position": null,
            "order": null,
            "overflow": null,
            "overflow_x": null,
            "overflow_y": null,
            "padding": null,
            "right": null,
            "top": null,
            "visibility": null,
            "width": null
          }
        },
        "4bf52995487b4900845923d29931e36e": {
          "model_module": "@jupyter-widgets/base",
          "model_name": "LayoutModel",
          "model_module_version": "1.2.0",
          "state": {
            "_model_module": "@jupyter-widgets/base",
            "_model_module_version": "1.2.0",
            "_model_name": "LayoutModel",
            "_view_count": null,
            "_view_module": "@jupyter-widgets/base",
            "_view_module_version": "1.2.0",
            "_view_name": "LayoutView",
            "align_content": null,
            "align_items": null,
            "align_self": null,
            "border": null,
            "bottom": null,
            "display": null,
            "flex": null,
            "flex_flow": null,
            "grid_area": null,
            "grid_auto_columns": null,
            "grid_auto_flow": null,
            "grid_auto_rows": null,
            "grid_column": null,
            "grid_gap": null,
            "grid_row": null,
            "grid_template_areas": null,
            "grid_template_columns": null,
            "grid_template_rows": null,
            "height": null,
            "justify_content": null,
            "justify_items": null,
            "left": null,
            "margin": null,
            "max_height": null,
            "max_width": null,
            "min_height": null,
            "min_width": null,
            "object_fit": null,
            "object_position": null,
            "order": null,
            "overflow": null,
            "overflow_x": null,
            "overflow_y": null,
            "padding": null,
            "right": null,
            "top": null,
            "visibility": null,
            "width": null
          }
        },
        "65826b57ad3145fa95f8c48a67db350a": {
          "model_module": "@jupyter-widgets/controls",
          "model_name": "DescriptionStyleModel",
          "model_module_version": "1.5.0",
          "state": {
            "_model_module": "@jupyter-widgets/controls",
            "_model_module_version": "1.5.0",
            "_model_name": "DescriptionStyleModel",
            "_view_count": null,
            "_view_module": "@jupyter-widgets/base",
            "_view_module_version": "1.2.0",
            "_view_name": "StyleView",
            "description_width": ""
          }
        },
        "c7d00e05e0cf451fb5c5ef441db14071": {
          "model_module": "@jupyter-widgets/base",
          "model_name": "LayoutModel",
          "model_module_version": "1.2.0",
          "state": {
            "_model_module": "@jupyter-widgets/base",
            "_model_module_version": "1.2.0",
            "_model_name": "LayoutModel",
            "_view_count": null,
            "_view_module": "@jupyter-widgets/base",
            "_view_module_version": "1.2.0",
            "_view_name": "LayoutView",
            "align_content": null,
            "align_items": null,
            "align_self": null,
            "border": null,
            "bottom": null,
            "display": null,
            "flex": null,
            "flex_flow": null,
            "grid_area": null,
            "grid_auto_columns": null,
            "grid_auto_flow": null,
            "grid_auto_rows": null,
            "grid_column": null,
            "grid_gap": null,
            "grid_row": null,
            "grid_template_areas": null,
            "grid_template_columns": null,
            "grid_template_rows": null,
            "height": null,
            "justify_content": null,
            "justify_items": null,
            "left": null,
            "margin": null,
            "max_height": null,
            "max_width": null,
            "min_height": null,
            "min_width": null,
            "object_fit": null,
            "object_position": null,
            "order": null,
            "overflow": null,
            "overflow_x": null,
            "overflow_y": null,
            "padding": null,
            "right": null,
            "top": null,
            "visibility": null,
            "width": null
          }
        },
        "c2794c6861ce439d9fef6d1a25306c4d": {
          "model_module": "@jupyter-widgets/controls",
          "model_name": "ProgressStyleModel",
          "model_module_version": "1.5.0",
          "state": {
            "_model_module": "@jupyter-widgets/controls",
            "_model_module_version": "1.5.0",
            "_model_name": "ProgressStyleModel",
            "_view_count": null,
            "_view_module": "@jupyter-widgets/base",
            "_view_module_version": "1.2.0",
            "_view_name": "StyleView",
            "bar_color": null,
            "description_width": ""
          }
        },
        "88d0d34c8c044a33b0c6c7ea63703bc7": {
          "model_module": "@jupyter-widgets/base",
          "model_name": "LayoutModel",
          "model_module_version": "1.2.0",
          "state": {
            "_model_module": "@jupyter-widgets/base",
            "_model_module_version": "1.2.0",
            "_model_name": "LayoutModel",
            "_view_count": null,
            "_view_module": "@jupyter-widgets/base",
            "_view_module_version": "1.2.0",
            "_view_name": "LayoutView",
            "align_content": null,
            "align_items": null,
            "align_self": null,
            "border": null,
            "bottom": null,
            "display": null,
            "flex": null,
            "flex_flow": null,
            "grid_area": null,
            "grid_auto_columns": null,
            "grid_auto_flow": null,
            "grid_auto_rows": null,
            "grid_column": null,
            "grid_gap": null,
            "grid_row": null,
            "grid_template_areas": null,
            "grid_template_columns": null,
            "grid_template_rows": null,
            "height": null,
            "justify_content": null,
            "justify_items": null,
            "left": null,
            "margin": null,
            "max_height": null,
            "max_width": null,
            "min_height": null,
            "min_width": null,
            "object_fit": null,
            "object_position": null,
            "order": null,
            "overflow": null,
            "overflow_x": null,
            "overflow_y": null,
            "padding": null,
            "right": null,
            "top": null,
            "visibility": null,
            "width": null
          }
        },
        "26c9a0ea25d041cdb4ded0e87bd7a838": {
          "model_module": "@jupyter-widgets/controls",
          "model_name": "DescriptionStyleModel",
          "model_module_version": "1.5.0",
          "state": {
            "_model_module": "@jupyter-widgets/controls",
            "_model_module_version": "1.5.0",
            "_model_name": "DescriptionStyleModel",
            "_view_count": null,
            "_view_module": "@jupyter-widgets/base",
            "_view_module_version": "1.2.0",
            "_view_name": "StyleView",
            "description_width": ""
          }
        },
        "9f2cdf460ffc4d028888095498e34960": {
          "model_module": "@jupyter-widgets/controls",
          "model_name": "HBoxModel",
          "model_module_version": "1.5.0",
          "state": {
            "_dom_classes": [],
            "_model_module": "@jupyter-widgets/controls",
            "_model_module_version": "1.5.0",
            "_model_name": "HBoxModel",
            "_view_count": null,
            "_view_module": "@jupyter-widgets/controls",
            "_view_module_version": "1.5.0",
            "_view_name": "HBoxView",
            "box_style": "",
            "children": [
              "IPY_MODEL_ba43e00c940d4d7ebed1d32a22b42e98",
              "IPY_MODEL_43a49bab63994dda8beb75a184a12839",
              "IPY_MODEL_30bc10dfee114ef6984e0014f4154189"
            ],
            "layout": "IPY_MODEL_25a07f3936cf4ddbaf773505e27804b2"
          }
        },
        "ba43e00c940d4d7ebed1d32a22b42e98": {
          "model_module": "@jupyter-widgets/controls",
          "model_name": "HTMLModel",
          "model_module_version": "1.5.0",
          "state": {
            "_dom_classes": [],
            "_model_module": "@jupyter-widgets/controls",
            "_model_module_version": "1.5.0",
            "_model_name": "HTMLModel",
            "_view_count": null,
            "_view_module": "@jupyter-widgets/controls",
            "_view_module_version": "1.5.0",
            "_view_name": "HTMLView",
            "description": "",
            "description_tooltip": null,
            "layout": "IPY_MODEL_aaf29194a8414e708f8f368b04eea516",
            "placeholder": "​",
            "style": "IPY_MODEL_49dfec579fbf4ae0ab49318b4a5f025e",
            "value": "100%"
          }
        },
        "43a49bab63994dda8beb75a184a12839": {
          "model_module": "@jupyter-widgets/controls",
          "model_name": "FloatProgressModel",
          "model_module_version": "1.5.0",
          "state": {
            "_dom_classes": [],
            "_model_module": "@jupyter-widgets/controls",
            "_model_module_version": "1.5.0",
            "_model_name": "FloatProgressModel",
            "_view_count": null,
            "_view_module": "@jupyter-widgets/controls",
            "_view_module_version": "1.5.0",
            "_view_name": "ProgressView",
            "bar_style": "success",
            "description": "",
            "description_tooltip": null,
            "layout": "IPY_MODEL_0fb301af3f6147899a602a502f89c654",
            "max": 5148,
            "min": 0,
            "orientation": "horizontal",
            "style": "IPY_MODEL_151037d6db354be192377917ffef3338",
            "value": 5148
          }
        },
        "30bc10dfee114ef6984e0014f4154189": {
          "model_module": "@jupyter-widgets/controls",
          "model_name": "HTMLModel",
          "model_module_version": "1.5.0",
          "state": {
            "_dom_classes": [],
            "_model_module": "@jupyter-widgets/controls",
            "_model_module_version": "1.5.0",
            "_model_name": "HTMLModel",
            "_view_count": null,
            "_view_module": "@jupyter-widgets/controls",
            "_view_module_version": "1.5.0",
            "_view_name": "HTMLView",
            "description": "",
            "description_tooltip": null,
            "layout": "IPY_MODEL_a3754a1195194084a050baefe08c04e3",
            "placeholder": "​",
            "style": "IPY_MODEL_7a182c848e1e4dfeac13d6879d5eb253",
            "value": " 5148/5148 [00:00&lt;00:00, 195740.02it/s]"
          }
        },
        "25a07f3936cf4ddbaf773505e27804b2": {
          "model_module": "@jupyter-widgets/base",
          "model_name": "LayoutModel",
          "model_module_version": "1.2.0",
          "state": {
            "_model_module": "@jupyter-widgets/base",
            "_model_module_version": "1.2.0",
            "_model_name": "LayoutModel",
            "_view_count": null,
            "_view_module": "@jupyter-widgets/base",
            "_view_module_version": "1.2.0",
            "_view_name": "LayoutView",
            "align_content": null,
            "align_items": null,
            "align_self": null,
            "border": null,
            "bottom": null,
            "display": null,
            "flex": null,
            "flex_flow": null,
            "grid_area": null,
            "grid_auto_columns": null,
            "grid_auto_flow": null,
            "grid_auto_rows": null,
            "grid_column": null,
            "grid_gap": null,
            "grid_row": null,
            "grid_template_areas": null,
            "grid_template_columns": null,
            "grid_template_rows": null,
            "height": null,
            "justify_content": null,
            "justify_items": null,
            "left": null,
            "margin": null,
            "max_height": null,
            "max_width": null,
            "min_height": null,
            "min_width": null,
            "object_fit": null,
            "object_position": null,
            "order": null,
            "overflow": null,
            "overflow_x": null,
            "overflow_y": null,
            "padding": null,
            "right": null,
            "top": null,
            "visibility": null,
            "width": null
          }
        },
        "aaf29194a8414e708f8f368b04eea516": {
          "model_module": "@jupyter-widgets/base",
          "model_name": "LayoutModel",
          "model_module_version": "1.2.0",
          "state": {
            "_model_module": "@jupyter-widgets/base",
            "_model_module_version": "1.2.0",
            "_model_name": "LayoutModel",
            "_view_count": null,
            "_view_module": "@jupyter-widgets/base",
            "_view_module_version": "1.2.0",
            "_view_name": "LayoutView",
            "align_content": null,
            "align_items": null,
            "align_self": null,
            "border": null,
            "bottom": null,
            "display": null,
            "flex": null,
            "flex_flow": null,
            "grid_area": null,
            "grid_auto_columns": null,
            "grid_auto_flow": null,
            "grid_auto_rows": null,
            "grid_column": null,
            "grid_gap": null,
            "grid_row": null,
            "grid_template_areas": null,
            "grid_template_columns": null,
            "grid_template_rows": null,
            "height": null,
            "justify_content": null,
            "justify_items": null,
            "left": null,
            "margin": null,
            "max_height": null,
            "max_width": null,
            "min_height": null,
            "min_width": null,
            "object_fit": null,
            "object_position": null,
            "order": null,
            "overflow": null,
            "overflow_x": null,
            "overflow_y": null,
            "padding": null,
            "right": null,
            "top": null,
            "visibility": null,
            "width": null
          }
        },
        "49dfec579fbf4ae0ab49318b4a5f025e": {
          "model_module": "@jupyter-widgets/controls",
          "model_name": "DescriptionStyleModel",
          "model_module_version": "1.5.0",
          "state": {
            "_model_module": "@jupyter-widgets/controls",
            "_model_module_version": "1.5.0",
            "_model_name": "DescriptionStyleModel",
            "_view_count": null,
            "_view_module": "@jupyter-widgets/base",
            "_view_module_version": "1.2.0",
            "_view_name": "StyleView",
            "description_width": ""
          }
        },
        "0fb301af3f6147899a602a502f89c654": {
          "model_module": "@jupyter-widgets/base",
          "model_name": "LayoutModel",
          "model_module_version": "1.2.0",
          "state": {
            "_model_module": "@jupyter-widgets/base",
            "_model_module_version": "1.2.0",
            "_model_name": "LayoutModel",
            "_view_count": null,
            "_view_module": "@jupyter-widgets/base",
            "_view_module_version": "1.2.0",
            "_view_name": "LayoutView",
            "align_content": null,
            "align_items": null,
            "align_self": null,
            "border": null,
            "bottom": null,
            "display": null,
            "flex": null,
            "flex_flow": null,
            "grid_area": null,
            "grid_auto_columns": null,
            "grid_auto_flow": null,
            "grid_auto_rows": null,
            "grid_column": null,
            "grid_gap": null,
            "grid_row": null,
            "grid_template_areas": null,
            "grid_template_columns": null,
            "grid_template_rows": null,
            "height": null,
            "justify_content": null,
            "justify_items": null,
            "left": null,
            "margin": null,
            "max_height": null,
            "max_width": null,
            "min_height": null,
            "min_width": null,
            "object_fit": null,
            "object_position": null,
            "order": null,
            "overflow": null,
            "overflow_x": null,
            "overflow_y": null,
            "padding": null,
            "right": null,
            "top": null,
            "visibility": null,
            "width": null
          }
        },
        "151037d6db354be192377917ffef3338": {
          "model_module": "@jupyter-widgets/controls",
          "model_name": "ProgressStyleModel",
          "model_module_version": "1.5.0",
          "state": {
            "_model_module": "@jupyter-widgets/controls",
            "_model_module_version": "1.5.0",
            "_model_name": "ProgressStyleModel",
            "_view_count": null,
            "_view_module": "@jupyter-widgets/base",
            "_view_module_version": "1.2.0",
            "_view_name": "StyleView",
            "bar_color": null,
            "description_width": ""
          }
        },
        "a3754a1195194084a050baefe08c04e3": {
          "model_module": "@jupyter-widgets/base",
          "model_name": "LayoutModel",
          "model_module_version": "1.2.0",
          "state": {
            "_model_module": "@jupyter-widgets/base",
            "_model_module_version": "1.2.0",
            "_model_name": "LayoutModel",
            "_view_count": null,
            "_view_module": "@jupyter-widgets/base",
            "_view_module_version": "1.2.0",
            "_view_name": "LayoutView",
            "align_content": null,
            "align_items": null,
            "align_self": null,
            "border": null,
            "bottom": null,
            "display": null,
            "flex": null,
            "flex_flow": null,
            "grid_area": null,
            "grid_auto_columns": null,
            "grid_auto_flow": null,
            "grid_auto_rows": null,
            "grid_column": null,
            "grid_gap": null,
            "grid_row": null,
            "grid_template_areas": null,
            "grid_template_columns": null,
            "grid_template_rows": null,
            "height": null,
            "justify_content": null,
            "justify_items": null,
            "left": null,
            "margin": null,
            "max_height": null,
            "max_width": null,
            "min_height": null,
            "min_width": null,
            "object_fit": null,
            "object_position": null,
            "order": null,
            "overflow": null,
            "overflow_x": null,
            "overflow_y": null,
            "padding": null,
            "right": null,
            "top": null,
            "visibility": null,
            "width": null
          }
        },
        "7a182c848e1e4dfeac13d6879d5eb253": {
          "model_module": "@jupyter-widgets/controls",
          "model_name": "DescriptionStyleModel",
          "model_module_version": "1.5.0",
          "state": {
            "_model_module": "@jupyter-widgets/controls",
            "_model_module_version": "1.5.0",
            "_model_name": "DescriptionStyleModel",
            "_view_count": null,
            "_view_module": "@jupyter-widgets/base",
            "_view_module_version": "1.2.0",
            "_view_name": "StyleView",
            "description_width": ""
          }
        }
      }
    }
  },
  "cells": [
    {
      "cell_type": "markdown",
      "metadata": {
        "id": "view-in-github",
        "colab_type": "text"
      },
      "source": [
        "<a href=\"https://colab.research.google.com/github/GoTudering/Final_Project_MTH3033/blob/main/MTH3033_Final_Project.ipynb\" target=\"_parent\"><img src=\"https://colab.research.google.com/assets/colab-badge.svg\" alt=\"Open In Colab\"/></a>"
      ]
    },
    {
      "cell_type": "code",
      "execution_count": null,
      "metadata": {
        "id": "58AogOtdL4Gy"
      },
      "outputs": [],
      "source": [
        "import os\n",
        "import torch\n",
        "import torch.nn as nn\n",
        "import torch.optim as optim\n",
        "import torch.nn.functional as F\n",
        "from torch.utils import data\n",
        "import torchvision.datasets as datasets\n",
        "import torchvision.transforms as transforms\n",
        "from tqdm import tqdm\n",
        "import numpy as np\n",
        "from glob import glob\n",
        "import cv2\n",
        "from google. colab.patches import cv2_imshow"
      ]
    },
    {
      "cell_type": "code",
      "source": [
        "device = 'cuda' if torch.cuda.is_available() else 'cpu'\n",
        "\n",
        "# for reproducibility\n",
        "torch.manual_seed(777)\n",
        "if device == 'cuda':\n",
        "    torch.cuda.manual_seed_all(777)"
      ],
      "metadata": {
        "id": "rcQn4RAfRfGg"
      },
      "execution_count": null,
      "outputs": []
    },
    {
      "cell_type": "markdown",
      "source": [
        "#Lenet"
      ],
      "metadata": {
        "id": "6aV87bwlRkVC"
      }
    },
    {
      "cell_type": "markdown",
      "source": [
        "#parameter\n",
        "learning_rate = 0.001\n",
        ", training_epochs = 30\n",
        ", batch_size = 100\n",
        ", [Epoch:   30] cost = 0.323462397\n",
        ", Accuracy: 0.8366000056266785"
      ],
      "metadata": {
        "id": "DC0ZIputXjMo"
      }
    },
    {
      "cell_type": "code",
      "source": [
        "# parameters\n",
        "learning_rate = 0.001\n",
        "training_epochs = 30\n",
        "batch_size = 100"
      ],
      "metadata": {
        "id": "iY_0d8R_Rp7N"
      },
      "execution_count": null,
      "outputs": []
    },
    {
      "cell_type": "code",
      "source": [
        "Fashion_mnist_train = datasets.FashionMNIST(root='FashionMNIST_data/',\n",
        "                          train=True,\n",
        "                          transform=transforms.ToTensor(),\n",
        "                          download=True)\n",
        "\n",
        "Fashion_mnist_test = datasets.FashionMNIST(root='FashionMNIST_data/',\n",
        "                         train=False,\n",
        "                         transform=transforms.ToTensor(),\n",
        "                         download=True)"
      ],
      "metadata": {
        "colab": {
          "base_uri": "https://localhost:8080/",
          "height": 423,
          "referenced_widgets": [
            "a4f9d3f99ac54b5c942a4578c64c4ded",
            "dd99089b96c74eaf99c75dc301a81db9",
            "75a8af0aa92b4e7bb56d70b140e9db81",
            "bb0d285330d04a979fd24382ee7e7e7d",
            "d399140c19db4598ac30a0a5a81427a2",
            "7ad6e2e16c494503bab5a2014a59aa2b",
            "5f7121c12ec841b9889f283ffabe2425",
            "5d654460159b496ea3746e13e1edecb2",
            "ef94c34afcce4683ad9a93ad36f85923",
            "5cf8cd0e162b43068a81fcc3cfa8931b",
            "0e972a1cc0ca4eb081b9346735e2c837",
            "833ff04e9f6b4241a2a149c0b775f2b1",
            "9c0622601bf349c78502f1d1238259d3",
            "849e710437b54fdcb92baef571382469",
            "de21f82b346d495e839e58530f2caca8",
            "94935177a61e43dca27441278f820757",
            "eae7511f5c714d8882a4f301241f77fd",
            "c9b1daf3bf9e4598b6d3f118fd3d3d9b",
            "b8b68f547ec6416d824056f0f184b597",
            "f9877d066f16446ba3f223e9fb52eb00",
            "8b822a67e9894566a083a34be2447ab3",
            "d87ca6bead464dac8ed6208d0a43eaea",
            "76b6f0035aae41389b088d053d5e900a",
            "4152457b30e848b9a291199c42ff3b61",
            "7da300268db0434a9b9a59eced5dcee1",
            "ca26043fc42649458a4e26c7e80c47be",
            "2ed1673c0b8845849ab51e1d3e3e6433",
            "4bf52995487b4900845923d29931e36e",
            "65826b57ad3145fa95f8c48a67db350a",
            "c7d00e05e0cf451fb5c5ef441db14071",
            "c2794c6861ce439d9fef6d1a25306c4d",
            "88d0d34c8c044a33b0c6c7ea63703bc7",
            "26c9a0ea25d041cdb4ded0e87bd7a838",
            "9f2cdf460ffc4d028888095498e34960",
            "ba43e00c940d4d7ebed1d32a22b42e98",
            "43a49bab63994dda8beb75a184a12839",
            "30bc10dfee114ef6984e0014f4154189",
            "25a07f3936cf4ddbaf773505e27804b2",
            "aaf29194a8414e708f8f368b04eea516",
            "49dfec579fbf4ae0ab49318b4a5f025e",
            "0fb301af3f6147899a602a502f89c654",
            "151037d6db354be192377917ffef3338",
            "a3754a1195194084a050baefe08c04e3",
            "7a182c848e1e4dfeac13d6879d5eb253"
          ]
        },
        "id": "Ohm3y7CDRrzA",
        "outputId": "d4e90247-c9f3-47df-dea2-623bd244f037"
      },
      "execution_count": null,
      "outputs": [
        {
          "output_type": "stream",
          "name": "stdout",
          "text": [
            "Downloading http://fashion-mnist.s3-website.eu-central-1.amazonaws.com/train-images-idx3-ubyte.gz\n",
            "Downloading http://fashion-mnist.s3-website.eu-central-1.amazonaws.com/train-images-idx3-ubyte.gz to FashionMNIST_data/FashionMNIST/raw/train-images-idx3-ubyte.gz\n"
          ]
        },
        {
          "output_type": "display_data",
          "data": {
            "text/plain": [
              "  0%|          | 0/26421880 [00:00<?, ?it/s]"
            ],
            "application/vnd.jupyter.widget-view+json": {
              "version_major": 2,
              "version_minor": 0,
              "model_id": "a4f9d3f99ac54b5c942a4578c64c4ded"
            }
          },
          "metadata": {}
        },
        {
          "output_type": "stream",
          "name": "stdout",
          "text": [
            "Extracting FashionMNIST_data/FashionMNIST/raw/train-images-idx3-ubyte.gz to FashionMNIST_data/FashionMNIST/raw\n",
            "\n",
            "Downloading http://fashion-mnist.s3-website.eu-central-1.amazonaws.com/train-labels-idx1-ubyte.gz\n",
            "Downloading http://fashion-mnist.s3-website.eu-central-1.amazonaws.com/train-labels-idx1-ubyte.gz to FashionMNIST_data/FashionMNIST/raw/train-labels-idx1-ubyte.gz\n"
          ]
        },
        {
          "output_type": "display_data",
          "data": {
            "text/plain": [
              "  0%|          | 0/29515 [00:00<?, ?it/s]"
            ],
            "application/vnd.jupyter.widget-view+json": {
              "version_major": 2,
              "version_minor": 0,
              "model_id": "833ff04e9f6b4241a2a149c0b775f2b1"
            }
          },
          "metadata": {}
        },
        {
          "output_type": "stream",
          "name": "stdout",
          "text": [
            "Extracting FashionMNIST_data/FashionMNIST/raw/train-labels-idx1-ubyte.gz to FashionMNIST_data/FashionMNIST/raw\n",
            "\n",
            "Downloading http://fashion-mnist.s3-website.eu-central-1.amazonaws.com/t10k-images-idx3-ubyte.gz\n",
            "Downloading http://fashion-mnist.s3-website.eu-central-1.amazonaws.com/t10k-images-idx3-ubyte.gz to FashionMNIST_data/FashionMNIST/raw/t10k-images-idx3-ubyte.gz\n"
          ]
        },
        {
          "output_type": "display_data",
          "data": {
            "text/plain": [
              "  0%|          | 0/4422102 [00:00<?, ?it/s]"
            ],
            "application/vnd.jupyter.widget-view+json": {
              "version_major": 2,
              "version_minor": 0,
              "model_id": "76b6f0035aae41389b088d053d5e900a"
            }
          },
          "metadata": {}
        },
        {
          "output_type": "stream",
          "name": "stdout",
          "text": [
            "Extracting FashionMNIST_data/FashionMNIST/raw/t10k-images-idx3-ubyte.gz to FashionMNIST_data/FashionMNIST/raw\n",
            "\n",
            "Downloading http://fashion-mnist.s3-website.eu-central-1.amazonaws.com/t10k-labels-idx1-ubyte.gz\n",
            "Downloading http://fashion-mnist.s3-website.eu-central-1.amazonaws.com/t10k-labels-idx1-ubyte.gz to FashionMNIST_data/FashionMNIST/raw/t10k-labels-idx1-ubyte.gz\n"
          ]
        },
        {
          "output_type": "display_data",
          "data": {
            "text/plain": [
              "  0%|          | 0/5148 [00:00<?, ?it/s]"
            ],
            "application/vnd.jupyter.widget-view+json": {
              "version_major": 2,
              "version_minor": 0,
              "model_id": "9f2cdf460ffc4d028888095498e34960"
            }
          },
          "metadata": {}
        },
        {
          "output_type": "stream",
          "name": "stdout",
          "text": [
            "Extracting FashionMNIST_data/FashionMNIST/raw/t10k-labels-idx1-ubyte.gz to FashionMNIST_data/FashionMNIST/raw\n",
            "\n"
          ]
        }
      ]
    },
    {
      "cell_type": "code",
      "source": [
        "# dataset loader\n",
        "data_loader = torch.utils.data.DataLoader(dataset=Fashion_mnist_train,\n",
        "                                          batch_size=batch_size,\n",
        "                                          shuffle=True,\n",
        "                                          drop_last=True)"
      ],
      "metadata": {
        "id": "sfAq3xNMRtZ8"
      },
      "execution_count": null,
      "outputs": []
    },
    {
      "cell_type": "code",
      "source": [
        "#Lenet Model\n",
        "class Lenet(torch.nn.Module):\n",
        "\n",
        "    def __init__(self):\n",
        "        super(Lenet, self).__init__()\n",
        "        self.keep_prob = 0.5 # for dropout\n",
        "        # L1 ImgIn shape=(?, 28, 28, 1)\n",
        "        #    Conv     -> (?, 28, 28, 6)\n",
        "        #    Pool     -> (?, 14, 14, 6)\n",
        "        self.layer1 = torch.nn.Sequential(\n",
        "            torch.nn.Conv2d(1, 6, kernel_size=5, stride=1, padding=2),\n",
        "            torch.nn.Sigmoid(),\n",
        "            torch.nn.AvgPool2d(kernel_size=2, stride=2))\n",
        "        # L2 ImgIn shape=(?, 14, 14, 6)\n",
        "        #    Conv      ->(?, 10, 10, 16)\n",
        "        #    Pool      ->(?, 5, 5, 16)\n",
        "        self.layer2 = torch.nn.Sequential(\n",
        "            torch.nn.Conv2d(6, 16, kernel_size=5, stride=1),\n",
        "            torch.nn.Sigmoid(),\n",
        "            torch.nn.AvgPool2d(kernel_size=2, stride=2))\n",
        "        # L3 ImgIn shape=(?, 5, 5, 16)\n",
        "        #    Conv      ->(?, 1, 1, 120)\n",
        "        self.layer3 = torch.nn.Sequential(\n",
        "            torch.nn.Conv2d(16, 120, kernel_size=5, stride=1),\n",
        "            torch.nn.Sigmoid(),\n",
        "            torch.nn.AvgPool2d(1,stride = 1))\n",
        "\n",
        "        # L4 FC 1x1x120 inputs -> 84 outputs\n",
        "        self.fc1 = torch.nn.Linear(1 * 1 * 120, 84, bias=True)\n",
        "        torch.nn.init.xavier_uniform_(self.fc1.weight)\n",
        "        self.layer4 = torch.nn.Sequential(\n",
        "            self.fc1,\n",
        "            torch.nn.Sigmoid(),\n",
        "            torch.nn.Dropout(p=1 - self.keep_prob))\n",
        "        # L5 Final FC 84 inputs -> 10 outputs\n",
        "        self.fc2 = torch.nn.Linear(84, 10, bias=True)\n",
        "        torch.nn.init.xavier_uniform_(self.fc2.weight)\n",
        "\n",
        "    def forward(self, x):\n",
        "        out = self.layer1(x)\n",
        "        out = self.layer2(out)\n",
        "        out = self.layer3(out)\n",
        "        out = out.view(out.size(0), -1)   # Flatten them for FC\n",
        "        out = self.layer4(out)\n",
        "        out = self.fc2(out)\n",
        "        return out"
      ],
      "metadata": {
        "id": "GXhnAfWYRvQ5"
      },
      "execution_count": null,
      "outputs": []
    },
    {
      "cell_type": "code",
      "source": [
        "# instantiate Lenet model\n",
        "model = Lenet().to(device)"
      ],
      "metadata": {
        "id": "V-P1FcVZSMkS"
      },
      "execution_count": null,
      "outputs": []
    },
    {
      "cell_type": "code",
      "source": [
        "# define cost/loss & optimizer\n",
        "criterion = torch.nn.CrossEntropyLoss().to(device)\n",
        "optimizer = torch.optim.Adam(model.parameters(), lr=learning_rate)"
      ],
      "metadata": {
        "id": "MA9lyBaYUz7N"
      },
      "execution_count": null,
      "outputs": []
    },
    {
      "cell_type": "code",
      "source": [
        "# train my model\n",
        "total_batch = len(data_loader)\n",
        "model.train()    # set the model to train mode (dropout=True)\n",
        "print('Learning started. It takes sometime.')\n",
        "for epoch in range(training_epochs):\n",
        "    avg_cost = 0\n",
        "\n",
        "    for X, Y in data_loader:\n",
        "        # image is already size of (28x28), no reshape\n",
        "        # label is not one-hot encoded\n",
        "        X = X.to(device)\n",
        "        Y = Y.to(device)\n",
        "\n",
        "        optimizer.zero_grad()\n",
        "        hypothesis = model(X)\n",
        "        cost = criterion(hypothesis, Y)\n",
        "        cost.backward()\n",
        "        optimizer.step()\n",
        "\n",
        "        avg_cost += cost / total_batch\n",
        "\n",
        "    print('[Epoch: {:>4}] cost = {:>.9}'.format(epoch + 1, avg_cost))\n",
        "\n",
        "print('Learning Finished!')"
      ],
      "metadata": {
        "colab": {
          "base_uri": "https://localhost:8080/"
        },
        "id": "mGRl2sYgVHxf",
        "outputId": "aebae7dd-af4a-44e5-942f-341df7f14694"
      },
      "execution_count": null,
      "outputs": [
        {
          "output_type": "stream",
          "name": "stdout",
          "text": [
            "Learning started. It takes sometime.\n",
            "[Epoch:    1] cost = 2.15115261\n",
            "[Epoch:    2] cost = 0.877756238\n",
            "[Epoch:    3] cost = 0.685352385\n",
            "[Epoch:    4] cost = 0.604842961\n",
            "[Epoch:    5] cost = 0.554653704\n",
            "[Epoch:    6] cost = 0.520786762\n",
            "[Epoch:    7] cost = 0.497597098\n",
            "[Epoch:    8] cost = 0.473749846\n",
            "[Epoch:    9] cost = 0.458807617\n",
            "[Epoch:   10] cost = 0.442183405\n",
            "[Epoch:   11] cost = 0.428528875\n",
            "[Epoch:   12] cost = 0.415935874\n",
            "[Epoch:   13] cost = 0.404099941\n",
            "[Epoch:   14] cost = 0.394946814\n",
            "[Epoch:   15] cost = 0.387440622\n",
            "[Epoch:   16] cost = 0.377506882\n",
            "[Epoch:   17] cost = 0.374180824\n",
            "[Epoch:   18] cost = 0.366705507\n",
            "[Epoch:   19] cost = 0.360116184\n",
            "[Epoch:   20] cost = 0.354147017\n",
            "[Epoch:   21] cost = 0.349397659\n",
            "[Epoch:   22] cost = 0.346335948\n",
            "[Epoch:   23] cost = 0.341950327\n",
            "[Epoch:   24] cost = 0.336171895\n",
            "[Epoch:   25] cost = 0.332300454\n",
            "[Epoch:   26] cost = 0.328953862\n",
            "[Epoch:   27] cost = 0.325327694\n",
            "[Epoch:   28] cost = 0.321541935\n",
            "[Epoch:   29] cost = 0.319386274\n",
            "[Epoch:   30] cost = 0.314717233\n",
            "Learning Finished!\n"
          ]
        }
      ]
    },
    {
      "cell_type": "code",
      "source": [
        "# Test model and check accuracy\n",
        "with torch.no_grad():\n",
        "    model.eval()    # set the model to evaluation mode (dropout=False)\n",
        "\n",
        "    X_test = Fashion_mnist_test.test_data.view(len(Fashion_mnist_test), 1, 28, 28).float().to(device)\n",
        "    Y_test = Fashion_mnist_test.test_labels.to(device)\n",
        "\n",
        "    prediction = model(X_test)\n",
        "    correct_prediction = torch.argmax(prediction, 1) == Y_test\n",
        "    accuracy = correct_prediction.float().mean()\n",
        "    print('Accuracy:', accuracy.item())"
      ],
      "metadata": {
        "colab": {
          "base_uri": "https://localhost:8080/"
        },
        "id": "bpZpf6ALVMeC",
        "outputId": "1c362916-cec1-49d1-cd19-43d4faf4f74b"
      },
      "execution_count": null,
      "outputs": [
        {
          "output_type": "stream",
          "name": "stderr",
          "text": [
            "/usr/local/lib/python3.8/dist-packages/torchvision/datasets/mnist.py:80: UserWarning: test_data has been renamed data\n",
            "  warnings.warn(\"test_data has been renamed data\")\n",
            "/usr/local/lib/python3.8/dist-packages/torchvision/datasets/mnist.py:70: UserWarning: test_labels has been renamed targets\n",
            "  warnings.warn(\"test_labels has been renamed targets\")\n"
          ]
        },
        {
          "output_type": "stream",
          "name": "stdout",
          "text": [
            "Accuracy: 0.8366000056266785\n"
          ]
        }
      ]
    },
    {
      "cell_type": "markdown",
      "source": [
        "#New parameter\n",
        "learning_rate = 0.0001\n",
        ", training_epochs = 30\n",
        ", batch_size = 100\n",
        ", [Epoch:   30] cost = 0.623933136\n",
        ", Accuracy: 0.5525999665260315"
      ],
      "metadata": {
        "id": "2MQJOVSvXKRY"
      }
    },
    {
      "cell_type": "code",
      "source": [
        "# parameters\n",
        "learning_rate = 0.0001\n",
        "training_epochs = 30\n",
        "batch_size = 100"
      ],
      "metadata": {
        "id": "5t3A1fsnXTmX"
      },
      "execution_count": null,
      "outputs": []
    },
    {
      "cell_type": "code",
      "source": [
        "# instantiate Lenet model\n",
        "model = Lenet().to(device)"
      ],
      "metadata": {
        "id": "odvDvbgMXsYH"
      },
      "execution_count": null,
      "outputs": []
    },
    {
      "cell_type": "code",
      "source": [
        "# define cost/loss & optimizer\n",
        "criterion = torch.nn.CrossEntropyLoss().to(device)\n",
        "optimizer = torch.optim.Adam(model.parameters(), lr=learning_rate)"
      ],
      "metadata": {
        "id": "4meL05pLXwUv"
      },
      "execution_count": null,
      "outputs": []
    },
    {
      "cell_type": "code",
      "source": [
        "# train my model\n",
        "total_batch = len(data_loader)\n",
        "model.train()    # set the model to train mode (dropout=True)\n",
        "print('Learning started. It takes sometime.')\n",
        "for epoch in range(training_epochs):\n",
        "    avg_cost = 0\n",
        "\n",
        "    for X, Y in data_loader:\n",
        "        # image is already size of (28x28), no reshape\n",
        "        # label is not one-hot encoded\n",
        "        X = X.to(device)\n",
        "        Y = Y.to(device)\n",
        "\n",
        "        optimizer.zero_grad()\n",
        "        hypothesis = model(X)\n",
        "        cost = criterion(hypothesis, Y)\n",
        "        cost.backward()\n",
        "        optimizer.step()\n",
        "\n",
        "        avg_cost += cost / total_batch\n",
        "\n",
        "    print('[Epoch: {:>4}] cost = {:>.9}'.format(epoch + 1, avg_cost))\n",
        "\n",
        "print('Learning Finished!')"
      ],
      "metadata": {
        "colab": {
          "base_uri": "https://localhost:8080/"
        },
        "id": "ZLULEkGXXyrT",
        "outputId": "53a3dfd6-0644-4154-f43e-fa622217fff1"
      },
      "execution_count": null,
      "outputs": [
        {
          "output_type": "stream",
          "name": "stdout",
          "text": [
            "Learning started. It takes sometime.\n",
            "[Epoch:    1] cost = 2.39469671\n",
            "[Epoch:    2] cost = 2.31946349\n",
            "[Epoch:    3] cost = 2.30897331\n",
            "[Epoch:    4] cost = 2.30618596\n",
            "[Epoch:    5] cost = 2.30424809\n",
            "[Epoch:    6] cost = 2.2460444\n",
            "[Epoch:    7] cost = 1.54393065\n",
            "[Epoch:    8] cost = 1.2250427\n",
            "[Epoch:    9] cost = 1.09752846\n",
            "[Epoch:   10] cost = 1.01866412\n",
            "[Epoch:   11] cost = 0.960630774\n",
            "[Epoch:   12] cost = 0.913552523\n",
            "[Epoch:   13] cost = 0.876106977\n",
            "[Epoch:   14] cost = 0.8450194\n",
            "[Epoch:   15] cost = 0.819303393\n",
            "[Epoch:   16] cost = 0.793267488\n",
            "[Epoch:   17] cost = 0.775165677\n",
            "[Epoch:   18] cost = 0.758197784\n",
            "[Epoch:   19] cost = 0.740191519\n",
            "[Epoch:   20] cost = 0.728469074\n",
            "[Epoch:   21] cost = 0.718380749\n",
            "[Epoch:   22] cost = 0.703110218\n",
            "[Epoch:   23] cost = 0.695911288\n",
            "[Epoch:   24] cost = 0.685301125\n",
            "[Epoch:   25] cost = 0.680478394\n",
            "[Epoch:   26] cost = 0.670229852\n",
            "[Epoch:   27] cost = 0.663645208\n",
            "[Epoch:   28] cost = 0.656231165\n",
            "[Epoch:   29] cost = 0.647695303\n",
            "[Epoch:   30] cost = 0.643338978\n",
            "Learning Finished!\n"
          ]
        }
      ]
    },
    {
      "cell_type": "code",
      "source": [
        "# Test model and check accuracy\n",
        "with torch.no_grad():\n",
        "    model.eval()    # set the model to evaluation mode (dropout=False)\n",
        "\n",
        "    X_test = Fashion_mnist_test.test_data.view(len(Fashion_mnist_test), 1, 28, 28).float().to(device)\n",
        "    Y_test = Fashion_mnist_test.test_labels.to(device)\n",
        "\n",
        "    prediction = model(X_test)\n",
        "    correct_prediction = torch.argmax(prediction, 1) == Y_test\n",
        "    accuracy = correct_prediction.float().mean()\n",
        "    print('Accuracy:', accuracy.item())"
      ],
      "metadata": {
        "colab": {
          "base_uri": "https://localhost:8080/"
        },
        "id": "I44bq2tZX1Pt",
        "outputId": "d3b2a4a5-718b-4e64-c852-47bc97cfb40c"
      },
      "execution_count": null,
      "outputs": [
        {
          "output_type": "stream",
          "name": "stdout",
          "text": [
            "Accuracy: 0.5497999787330627\n"
          ]
        }
      ]
    },
    {
      "cell_type": "markdown",
      "source": [
        "# parameters\n",
        "learning_rate = 0.01\n",
        ", training_epochs = 30\n",
        ", batch_size = 100\n",
        ", [Epoch:   30] cost = 0.231829226\n",
        ", Accuracy: 0.8578999638557434"
      ],
      "metadata": {
        "id": "WHtMcnfJX3T5"
      }
    },
    {
      "cell_type": "code",
      "source": [
        "# parameters\n",
        "learning_rate = 0.01\n",
        "training_epochs = 30\n",
        "batch_size = 100"
      ],
      "metadata": {
        "id": "hkpDXtCYX5pj"
      },
      "execution_count": null,
      "outputs": []
    },
    {
      "cell_type": "code",
      "source": [
        "# instantiate Lenet model\n",
        "model = Lenet().to(device)"
      ],
      "metadata": {
        "id": "7K7UNBCPX7Im"
      },
      "execution_count": null,
      "outputs": []
    },
    {
      "cell_type": "code",
      "source": [
        "# define cost/loss & optimizer\n",
        "criterion = torch.nn.CrossEntropyLoss().to(device)    # Softmax is internally computed.\n",
        "optimizer = torch.optim.Adam(model.parameters(), lr=learning_rate)"
      ],
      "metadata": {
        "id": "7a6KTMOzX9Cq"
      },
      "execution_count": null,
      "outputs": []
    },
    {
      "cell_type": "code",
      "source": [
        "# train my model\n",
        "total_batch = len(data_loader)\n",
        "model.train()    # set the model to train mode (dropout=True)\n",
        "print('Learning started. It takes sometime.')\n",
        "for epoch in range(training_epochs):\n",
        "    avg_cost = 0\n",
        "\n",
        "    for X, Y in data_loader:\n",
        "        # image is already size of (28x28), no reshape\n",
        "        # label is not one-hot encoded\n",
        "        X = X.to(device)\n",
        "        Y = Y.to(device)\n",
        "\n",
        "        optimizer.zero_grad()\n",
        "        hypothesis = model(X)\n",
        "        cost = criterion(hypothesis, Y)\n",
        "        cost.backward()\n",
        "        optimizer.step()\n",
        "\n",
        "        avg_cost += cost / total_batch\n",
        "\n",
        "    print('[Epoch: {:>4}] cost = {:>.9}'.format(epoch + 1, avg_cost))\n",
        "\n",
        "print('Learning Finished!')"
      ],
      "metadata": {
        "colab": {
          "base_uri": "https://localhost:8080/"
        },
        "id": "kR8PZxnLX-O-",
        "outputId": "5afa79ff-c500-4d9e-da96-297b1de3c14e"
      },
      "execution_count": null,
      "outputs": [
        {
          "output_type": "stream",
          "name": "stdout",
          "text": [
            "Learning started. It takes sometime.\n",
            "[Epoch:    1] cost = 2.30756021\n",
            "[Epoch:    2] cost = 2.30356026\n",
            "[Epoch:    3] cost = 2.30345726\n",
            "[Epoch:    4] cost = 2.30349779\n",
            "[Epoch:    5] cost = 2.30339789\n",
            "[Epoch:    6] cost = 2.3034389\n",
            "[Epoch:    7] cost = 2.30355382\n",
            "[Epoch:    8] cost = 2.30342555\n",
            "[Epoch:    9] cost = 2.30328703\n",
            "[Epoch:   10] cost = 2.30342317\n",
            "[Epoch:   11] cost = 2.30323267\n",
            "[Epoch:   12] cost = 2.30350018\n",
            "[Epoch:   13] cost = 2.30343294\n",
            "[Epoch:   14] cost = 1.59471321\n",
            "[Epoch:   15] cost = 0.688804567\n",
            "[Epoch:   16] cost = 0.564084053\n",
            "[Epoch:   17] cost = 0.513332903\n",
            "[Epoch:   18] cost = 0.484860986\n",
            "[Epoch:   19] cost = 0.456578344\n",
            "[Epoch:   20] cost = 0.44325164\n",
            "[Epoch:   21] cost = 0.426948994\n",
            "[Epoch:   22] cost = 0.412489414\n",
            "[Epoch:   23] cost = 0.400728256\n",
            "[Epoch:   24] cost = 0.393638879\n",
            "[Epoch:   25] cost = 0.380829006\n",
            "[Epoch:   26] cost = 0.378961533\n",
            "[Epoch:   27] cost = 0.36959669\n",
            "[Epoch:   28] cost = 0.365866542\n",
            "[Epoch:   29] cost = 0.359225631\n",
            "[Epoch:   30] cost = 0.359618425\n",
            "Learning Finished!\n"
          ]
        }
      ]
    },
    {
      "cell_type": "code",
      "source": [
        "# Test model and check accuracy\n",
        "with torch.no_grad():\n",
        "    model.eval()    # set the model to evaluation mode (dropout=False)\n",
        "\n",
        "    X_test = Fashion_mnist_test.test_data.view(len(Fashion_mnist_test), 1, 28, 28).float().to(device)\n",
        "    Y_test = Fashion_mnist_test.test_labels.to(device)\n",
        "\n",
        "    prediction = model(X_test)\n",
        "    correct_prediction = torch.argmax(prediction, 1) == Y_test\n",
        "    accuracy = correct_prediction.float().mean()\n",
        "    print('Accuracy:', accuracy.item())"
      ],
      "metadata": {
        "colab": {
          "base_uri": "https://localhost:8080/"
        },
        "id": "_x1OU3UIX_P_",
        "outputId": "3d58b4c1-7660-44c4-c987-0876ddd274ea"
      },
      "execution_count": null,
      "outputs": [
        {
          "output_type": "stream",
          "name": "stdout",
          "text": [
            "Accuracy: 0.8227999806404114\n"
          ]
        }
      ]
    },
    {
      "cell_type": "markdown",
      "source": [
        "#Alexnet\n",
        "\n",
        "Mean Time (per epoch): 02:01:54\n",
        "\n",
        "\n",
        "Acc: 0.9079"
      ],
      "metadata": {
        "id": "q2IsaGS0YAcJ"
      }
    },
    {
      "cell_type": "code",
      "source": [
        "NUM_EPOCHS = 20\n",
        "BATCH_SIZE = 128\n",
        "\n",
        "CHECKPOINTS_DIR = './Alexmodels'\n",
        "os.makedirs(CHECKPOINTS_DIR, exist_ok=True)"
      ],
      "metadata": {
        "id": "_J12e-8WYv9t"
      },
      "execution_count": null,
      "outputs": []
    },
    {
      "cell_type": "markdown",
      "source": [
        "다음 링크를 다운 받아 Alexmodels 디렉터리에 넣어주시기 바랍니다.\n",
        "\n",
        "https://drive.google.com/file/d/1A5hiM3fKj6ccd8tnE_xQ4rvQJi-_zeGk/view?usp=share_link"
      ],
      "metadata": {
        "id": "uWnjRBUkD3PM"
      }
    },
    {
      "cell_type": "markdown",
      "source": [
        "한 Epoch 당 Colab으로 2시간이 걸려 지인의 RTX 4090 GPU를 빌려 학습을 수행하였습니다.\n",
        "\n",
        "해당 GPU로 돌리니 한 Epoch 당 20초밖에 걸리지 않아 충분한 횟수의 학습을 진행하였습니다.\n",
        "\n",
        "이를 통해 얻은 최선의 가중치 결과 파일을 첨부하였습니다."
      ],
      "metadata": {
        "id": "M0P3r9CzCYB-"
      }
    },
    {
      "cell_type": "code",
      "source": [
        "normalize = transforms.Normalize(mean=[0.485, 0.456, 0.406],\n",
        "                                std=[0.229, 0.224, 0.225])\n",
        "to_rgb = transforms.Lambda(lambda image: image.convert('RGB'))\n",
        "resize = transforms.Resize((224, 224))\n",
        "oh_my_eyes_transform = transforms.Compose([resize, to_rgb, transforms.ToTensor(), normalize])\n",
        "\n",
        "train_set = datasets.FashionMNIST(root='FashionMNIST_data/',\n",
        "                                  train=True,\n",
        "                                  transform=oh_my_eyes_transform,\n",
        "                                  download=True)\n",
        "test_set = datasets.FashionMNIST(root='FashionMNIST_data/',\n",
        "                                 train=False,\n",
        "                                 transform=oh_my_eyes_transform,\n",
        "                                 download=True)"
      ],
      "metadata": {
        "id": "Yyn9WmU4Ywjf"
      },
      "execution_count": null,
      "outputs": []
    },
    {
      "cell_type": "code",
      "source": [
        "class AlexNet(nn.Module):\n",
        "    def __init__(self) -> None:\n",
        "        super().__init__()\n",
        "\n",
        "        num_classes: int = 1000\n",
        "        dropout: float = 0.5\n",
        "\n",
        "        # Input: (N, 3, 224, 224)\n",
        "        self.features = nn.Sequential(\n",
        "            nn.Conv2d(3, 96, kernel_size=11, stride=4, padding=0),  # (N, 54, 54, 96)\n",
        "            nn.ReLU(inplace=True),\n",
        "            nn.MaxPool2d(kernel_size=3, stride=2, padding=0),  # (N, 26, 26, 96)\n",
        "            nn.Conv2d(96, 256, kernel_size=5, stride=1, padding=2),  # (N, 26, 26, 256)\n",
        "            nn.ReLU(inplace=True),\n",
        "            nn.MaxPool2d(kernel_size=3, stride=2, padding=0),  # (N, 12, 12, 256)\n",
        "            nn.Conv2d(256, 384, kernel_size=3, stride=1, padding=1),  # (N, 12, 12, 384)\n",
        "            nn.ReLU(inplace=True),\n",
        "            nn.Conv2d(384, 384, kernel_size=3, stride=1, padding=1),  # (N, 12, 12, 384)\n",
        "            nn.ReLU(inplace=True),\n",
        "            nn.Conv2d(384, 256, kernel_size=3, stride=1, padding=1),  # (N, 12, 12, 384)\n",
        "            nn.ReLU(inplace=True),\n",
        "            nn.MaxPool2d(kernel_size=3, stride=2, padding=0),  # (N, 5, 5, 256)\n",
        "        ) # Output: (N, 256)\n",
        "\n",
        "        # Input: (N, 256)\n",
        "        self.classifier = nn.Sequential(\n",
        "            nn.Dropout(p=dropout),\n",
        "            nn.Linear(256 * 5 * 5, 4096),\n",
        "            nn.ReLU(inplace=True),\n",
        "            nn.Dropout(p=dropout),\n",
        "            nn.Linear(4096, 4096),\n",
        "            nn.ReLU(inplace=True),\n",
        "            nn.Linear(4096, num_classes),\n",
        "        ) # Output: (N, 1000)\n",
        "\n",
        "    def _initialize(self):\n",
        "        for layer in self.features:\n",
        "            if isinstance(layer, nn.Conv2d):\n",
        "                nn.init.normal_(layer.weigh, mean=0, std=0.01)\n",
        "                nn.init.constant_(layer.bias, 0)\n",
        "        for i in (3, 8, 10):\n",
        "            nn.init.constant_(self.features[i].bias, 1)\n",
        "\n",
        "    def forward(self, x: torch.Tensor) -> torch.Tensor:\n",
        "        x = self.features(x)\n",
        "        x = x.view(-1, 5 * 5 * 256)\n",
        "        x = self.classifier(x)\n",
        "        return x"
      ],
      "metadata": {
        "id": "Poe7V7ZWY7vZ"
      },
      "execution_count": null,
      "outputs": []
    },
    {
      "cell_type": "code",
      "source": [
        "seed = torch.initial_seed()\n",
        "print(f\"Seed: {seed}\")\n",
        "\n",
        "model = AlexNet()\n",
        "# print(summary(model, torch.zeros((1, 3, 224, 224))))\n",
        "model = model.to(device)\n",
        "\n",
        "optimizer = optim.Adam(model.parameters(), lr=0.001, betas=(0.9, 0.999))\n",
        "lr_scheduler = optim.lr_scheduler.StepLR(optimizer, step_size=30, gamma=0.1)\n",
        "train_loader = data.DataLoader(train_set, shuffle=True,\n",
        "                               pin_memory=True, num_workers=2,\n",
        "                               drop_last=True, batch_size=BATCH_SIZE)"
      ],
      "metadata": {
        "colab": {
          "base_uri": "https://localhost:8080/"
        },
        "id": "mtALpu_O7r94",
        "outputId": "09e8156a-9cd2-4d22-e991-78c523c0c281"
      },
      "execution_count": null,
      "outputs": [
        {
          "output_type": "stream",
          "name": "stdout",
          "text": [
            "Seed: 777\n"
          ]
        }
      ]
    },
    {
      "cell_type": "code",
      "source": [
        "print(\"Start training...\")\n",
        "total_steps = 1\n",
        "for epoch in range(NUM_EPOCHS):\n",
        "    pbar = tqdm(train_loader, ascii=True, ncols=80)\n",
        "    loss_records = []\n",
        "    for imgs, classes in pbar:\n",
        "        imgs, classes = imgs.to(device), classes.to(device)\n",
        "\n",
        "        # Calculate the loss\n",
        "        output = model(imgs)\n",
        "        loss = F.cross_entropy(output, classes)\n",
        "\n",
        "        # Update the parameters\n",
        "        optimizer.zero_grad()\n",
        "        loss.backward()\n",
        "        optimizer.step()\n",
        "        \n",
        "        loss_records.append(loss.item())\n",
        "\n",
        "        # Log\n",
        "#         if total_steps % 50 == 0:\n",
        "#             with torch.no_grad():\n",
        "#                 model.eval()\n",
        "#                 _, preds = torch.max(output, 1)\n",
        "#                 accuracy = torch.sum(preds == classes)\n",
        "\n",
        "#                 print(f\"Epoch: {epoch + 1} \\tStep: {total_steps} \\tLoss: {loss.item():.4f} \\tAcc: {accuracy.item()}/{BATCH_SIZE}\")\n",
        "#                 model.train()\n",
        "        total_steps += 1\n",
        "    loss_mean = np.mean(loss_records)\n",
        "    print(f\"Epoch: {epoch + 1} \\tStep: {total_steps} \\tLoss: {loss_mean:.4f}\")\n",
        "    lr_scheduler.step()\n",
        "\n",
        "    checkpoint_path = os.path.join(CHECKPOINTS_DIR, f\"alexnet_states_e{epoch + 1:04d}.pkl\")\n",
        "    state = {\n",
        "        'epoch': epoch,\n",
        "        'total_steps': total_steps,\n",
        "        'optimizer': optimizer.state_dict(),\n",
        "        'model': model.state_dict(),\n",
        "        'seed': seed,\n",
        "    }\n",
        "    torch.save(state, checkpoint_path)"
      ],
      "metadata": {
        "id": "WyuIGPaTZUHe"
      },
      "execution_count": null,
      "outputs": []
    },
    {
      "cell_type": "code",
      "source": [
        "test_loader = data.DataLoader(test_set, shuffle=True,\n",
        "                              pin_memory=True, num_workers=2,\n",
        "                              batch_size=BATCH_SIZE)"
      ],
      "metadata": {
        "id": "uniV-vn8ZWNN"
      },
      "execution_count": null,
      "outputs": []
    },
    {
      "cell_type": "code",
      "source": [
        "model_paths = glob(os.path.join(CHECKPOINTS_DIR, 'alexnet_states_e????.pkl'))\n",
        "model_paths.sort()\n",
        "\n",
        "accuracy_records = []\n",
        "\n",
        "for model_path in model_paths:\n",
        "    print(model_path)\n",
        "    chk = torch.load(model_path)\n",
        "    epoch = chk['epoch']\n",
        "    \n",
        "    model = AlexNet()\n",
        "    model.load_state_dict(chk['model'])  # Load parameters from the checkpoint\n",
        "    model = model.to(device)\n",
        "  \n",
        "    correct_coutner = 0\n",
        "    pbar = tqdm(test_loader, ascii=True, ncols=80, total=len(test_set))\n",
        "    for imgs, labels in pbar:\n",
        "        imgs, labels = imgs.to(device), labels.to(device)\n",
        "        \n",
        "        with torch.no_grad():\n",
        "            output = model(imgs)\n",
        "            model.eval()\n",
        "            _, preds = torch.max(output, 1)\n",
        "            accuracy = torch.sum(preds == labels)\n",
        "            correct_coutner += accuracy.item()\n",
        "        pbar.update(BATCH_SIZE)\n",
        "\n",
        "    print(f\"Epoch: {epoch + 1} \\tAcc: {correct_coutner}/{len(test_set)}\")\n",
        "    accuracy_records.append(dict(epoch=(epoch + 1), correct = correct_coutner, path=model_path))\n",
        "\n",
        "accuracy_records.sort(reverse=True, key=lambda x: x['correct'])\n",
        "print(accuracy_records)    "
      ],
      "metadata": {
        "colab": {
          "base_uri": "https://localhost:8080/"
        },
        "id": "_ReMsD8temPv",
        "outputId": "4ca67914-7e12-4d04-ea4e-7331b16627e6"
      },
      "execution_count": null,
      "outputs": [
        {
          "output_type": "stream",
          "name": "stdout",
          "text": [
            "./Alexmodels/alexnet_states_e0024.pkl\n"
          ]
        },
        {
          "output_type": "stream",
          "name": "stderr",
          "text": [
            "  1%|3                                       | 79/10000 [00:21<44:12,  3.74it/s]"
          ]
        },
        {
          "output_type": "stream",
          "name": "stdout",
          "text": [
            "Epoch: 24 \tAcc: 9079/10000\n",
            "[{'epoch': 24, 'correct': 9079, 'path': './Alexmodels/alexnet_states_e0024.pkl'}]\n"
          ]
        },
        {
          "output_type": "stream",
          "name": "stderr",
          "text": [
            "\n"
          ]
        }
      ]
    },
    {
      "cell_type": "markdown",
      "source": [
        "#Simplyifing Alexnet"
      ],
      "metadata": {
        "id": "mAIFJBXjmEV8"
      }
    },
    {
      "cell_type": "code",
      "source": [
        "NUM_EPOCHS = 20\n",
        "BATCH_SIZE = 128"
      ],
      "metadata": {
        "id": "cd_7muibz0Co"
      },
      "execution_count": null,
      "outputs": []
    },
    {
      "cell_type": "code",
      "source": [
        "train_set = datasets.FashionMNIST(root='FashionMNIST_data/',\n",
        "                                  train=True,\n",
        "                                  transform=transforms.ToTensor(),\n",
        "                                  download=True)\n",
        "test_set = datasets.FashionMNIST(root='FashionMNIST_data/',\n",
        "                                 train=False,\n",
        "                                 transform=transforms.ToTensor(),\n",
        "                                 download=True)"
      ],
      "metadata": {
        "id": "-8PhzyI9mDHT"
      },
      "execution_count": null,
      "outputs": []
    },
    {
      "cell_type": "markdown",
      "source": [
        "#Simplified Alexnet 1\n",
        "\n",
        "Mean Time (per epoch): 00:02:30\n",
        "\n",
        "Arr: 0.8830"
      ],
      "metadata": {
        "id": "ayW_MyG3mJwp"
      }
    },
    {
      "cell_type": "code",
      "source": [
        "CHECKPOINTS_DIR = './SAlexmodels.1'\n",
        "os.makedirs(CHECKPOINTS_DIR, exist_ok=True)"
      ],
      "metadata": {
        "id": "5JDFnBFpnGmA"
      },
      "execution_count": null,
      "outputs": []
    },
    {
      "cell_type": "code",
      "source": [
        "class SAlexNet1(nn.Module):\n",
        "    def __init__(self) -> None:\n",
        "        super().__init__()\n",
        "\n",
        "        num_classes: int = 100\n",
        "        dropout: float = 0.5\n",
        "\n",
        "        # Input: (N, 1, 28, 28)\n",
        "        self.features = nn.Sequential(\n",
        "            nn.Conv2d(1, 32, kernel_size=6, stride=2, padding=0),  # (N, 12, 12, 32)\n",
        "            nn.ReLU(inplace=True),\n",
        "            nn.MaxPool2d(kernel_size=5, stride=1, padding=0),  # (N, 8, 8, 32)\n",
        "            nn.Conv2d(32, 96, kernel_size=5, stride=1, padding=2),  # (N, 8, 8, 96)\n",
        "            nn.ReLU(inplace=True),\n",
        "            nn.MaxPool2d(kernel_size=4, stride=1, padding=0),  # (N, 5, 5, 32)\n",
        "            nn.Conv2d(96, 128, kernel_size=3, stride=1, padding=1),  # (N, 5, 5, 128)\n",
        "            nn.ReLU(inplace=True),\n",
        "            nn.Conv2d(128, 128, kernel_size=3, stride=1, padding=1),  # (N, 5, 5, 128)\n",
        "            nn.ReLU(inplace=True),\n",
        "            nn.Conv2d(128, 96, kernel_size=3, stride=1, padding=1),  # (N, 5, 5, 96)\n",
        "            nn.ReLU(inplace=True),\n",
        "            nn.MaxPool2d(kernel_size=3, stride=2, padding=0),  # (N, 2, 2, 96)\n",
        "        ) # Output: (N, 2, 2, 96)\n",
        "\n",
        "        # Input: (N, 2, 2, 96)\n",
        "        self.classifier = nn.Sequential(\n",
        "            nn.Dropout(p=dropout),\n",
        "            nn.Linear(96 * 2 * 2, 256),\n",
        "            nn.ReLU(inplace=True),\n",
        "            nn.Dropout(p=dropout),\n",
        "            nn.Linear(256, 256),\n",
        "            nn.ReLU(inplace=True),\n",
        "            nn.Linear(256, num_classes),\n",
        "        ) # Output: (N, 100)\n",
        "\n",
        "    def _initialize(self):\n",
        "        for layer in self.features:\n",
        "            if isinstance(layer, nn.Conv2d):\n",
        "                nn.init.normal_(layer.weigh, mean=0, std=0.01)\n",
        "                nn.init.constant_(layer.bias, 0)\n",
        "        for i in (3, 8, 10):\n",
        "            nn.init.constant_(self.features[i].bias, 1)\n",
        "\n",
        "    def forward(self, x: torch.Tensor) -> torch.Tensor:\n",
        "        x = self.features(x)\n",
        "        x = x.view(-1, 2 * 2 * 96)\n",
        "        x = self.classifier(x)\n",
        "        return x"
      ],
      "metadata": {
        "id": "wtwyhc8omMy-"
      },
      "execution_count": null,
      "outputs": []
    },
    {
      "cell_type": "code",
      "source": [
        "seed = torch.initial_seed()\n",
        "print(f\"Seed: {seed}\")\n",
        "\n",
        "model = SAlexNet1()\n",
        "model = model.to(device)\n",
        "\n",
        "optimizer = optim.Adam(model.parameters(), lr=0.001, betas=(0.9, 0.999))\n",
        "lr_scheduler = optim.lr_scheduler.StepLR(optimizer, step_size=30, gamma=0.1)\n",
        "train_loader = data.DataLoader(train_set, shuffle=True,\n",
        "                               pin_memory=True, num_workers=2,\n",
        "                               drop_last=True, batch_size=BATCH_SIZE)\n",
        "\n",
        "print(\"Start training...\")\n",
        "total_steps = 1\n",
        "for epoch in range(NUM_EPOCHS):\n",
        "    pbar = tqdm(train_loader, ascii=True, ncols=80)\n",
        "    loss_records = []\n",
        "    for imgs, classes in pbar:\n",
        "        imgs, classes = imgs.to(device), classes.to(device)\n",
        "\n",
        "        # Calculate the loss\n",
        "        output = model(imgs)\n",
        "        loss = F.cross_entropy(output, classes)\n",
        "\n",
        "        # Update the parameters\n",
        "        optimizer.zero_grad()\n",
        "        loss.backward()\n",
        "        optimizer.step()\n",
        "        \n",
        "        loss_records.append(loss.item())\n",
        "\n",
        "        # Log\n",
        "#         if total_steps % 50 == 0:\n",
        "#             with torch.no_grad():\n",
        "#                 model.eval()\n",
        "#                 _, preds = torch.max(output, 1)\n",
        "#                 accuracy = torch.sum(preds == classes)\n",
        "\n",
        "#                 print(f\"Epoch: {epoch + 1} \\tStep: {total_steps} \\tLoss: {loss.item():.4f} \\tAcc: {accuracy.item()}/{BATCH_SIZE}\")\n",
        "#                 model.train()\n",
        "        total_steps += 1\n",
        "    loss_mean = np.mean(loss_records)\n",
        "    print(f\"Epoch: {epoch + 1} \\tStep: {total_steps} \\tLoss: {loss_mean:.4f}\")\n",
        "    lr_scheduler.step()\n",
        "\n",
        "    checkpoint_path = os.path.join(CHECKPOINTS_DIR, f\"salexnet_states1_e{epoch + 1:04d}.pkl\")\n",
        "    state = {\n",
        "        'epoch': epoch,\n",
        "        'total_steps': total_steps,\n",
        "        'optimizer': optimizer.state_dict(),\n",
        "        'model': model.state_dict(),\n",
        "        'seed': seed,\n",
        "    }\n",
        "    torch.save(state, checkpoint_path)"
      ],
      "metadata": {
        "id": "oLo-dQkpmVnJ"
      },
      "execution_count": null,
      "outputs": []
    },
    {
      "cell_type": "code",
      "source": [
        "test_loader = data.DataLoader(test_set, shuffle=True,\n",
        "                              pin_memory=True, num_workers=2,\n",
        "                              batch_size=BATCH_SIZE)\n",
        "model_paths = glob(os.path.join(CHECKPOINTS_DIR, 'salexnet_states1_e????.pkl'))\n",
        "model_paths.sort()\n",
        "\n",
        "accuracy_records = []\n",
        "\n",
        "for model_path in model_paths:\n",
        "    chk = torch.load(model_path)\n",
        "    epoch = chk['epoch']\n",
        "    \n",
        "    model = SAlexNet1()\n",
        "    model.load_state_dict(chk['model'])  # Load parameters from the checkpoint\n",
        "    model = model.to(device)\n",
        "  \n",
        "    correct_coutner = 0\n",
        "    pbar = tqdm(test_loader, ascii=True, ncols=80, total=len(test_set))\n",
        "    for imgs, labels in pbar:\n",
        "        imgs, labels = imgs.to(device), labels.to(device)\n",
        "        \n",
        "        with torch.no_grad():\n",
        "            output = model(imgs)\n",
        "            model.eval()\n",
        "            _, preds = torch.max(output, 1)\n",
        "            accuracy = torch.sum(preds == labels)\n",
        "            correct_coutner += accuracy.item()\n",
        "        pbar.update(BATCH_SIZE)\n",
        "\n",
        "    print(f\"Epoch: {epoch + 1} \\tAcc: {correct_coutner}/{len(test_set)}\")\n",
        "    accuracy_records.append(dict(epoch=(epoch + 1), correct = correct_coutner, path=model_path))\n",
        "\n",
        "accuracy_records.sort(reverse=True, key=lambda x: x['correct'])\n",
        "print(accuracy_records[0])    "
      ],
      "metadata": {
        "id": "RluTlRlBmXMs"
      },
      "execution_count": null,
      "outputs": []
    },
    {
      "cell_type": "markdown",
      "source": [
        "#Simplified Alexnet 2\n",
        "\n",
        "Mean Time (per epoch): 00:01:15\n",
        "\n",
        "\n",
        "Arr: 0.8770\n",
        "\n",
        "\n"
      ],
      "metadata": {
        "id": "v7icp7wmivWM"
      }
    },
    {
      "cell_type": "code",
      "source": [
        "CHECKPOINTS_DIR = './Salexmodels.2'\n",
        "os.makedirs(CHECKPOINTS_DIR, exist_ok=True)"
      ],
      "metadata": {
        "id": "3lRi5QfNngry"
      },
      "execution_count": null,
      "outputs": []
    },
    {
      "cell_type": "code",
      "source": [
        "class SAlexNet2(nn.Module):\n",
        "    def __init__(self) -> None:\n",
        "        super().__init__()\n",
        "\n",
        "        num_classes: int = 100\n",
        "        dropout: float = 0.5\n",
        "\n",
        "        # Input: (N, 1, 28, 28)\n",
        "        self.features = nn.Sequential(\n",
        "            nn.Conv2d(1, 16, kernel_size=6, stride=2, padding=0),  # (N, 12, 12, 16)\n",
        "            nn.ReLU(inplace=True),\n",
        "            nn.MaxPool2d(kernel_size=5, stride=1, padding=0),  # (N, 8, 8, 16)\n",
        "            nn.Conv2d(16, 32, kernel_size=5, stride=1, padding=2),  # (N, 8, 8, 32)\n",
        "            nn.ReLU(inplace=True),\n",
        "            nn.MaxPool2d(kernel_size=4, stride=1, padding=0),  # (N, 5, 5, 32)\n",
        "            nn.Conv2d(32, 64, kernel_size=3, stride=1, padding=1),  # (N, 5, 5, 64)\n",
        "            nn.ReLU(inplace=True),\n",
        "            nn.Conv2d(64, 64, kernel_size=3, stride=1, padding=1),  # (N, 5, 5, 64)\n",
        "            nn.ReLU(inplace=True),\n",
        "            nn.Conv2d(64, 32, kernel_size=3, stride=1, padding=1),  # (N, 5, 5, 32)\n",
        "            nn.ReLU(inplace=True),\n",
        "            nn.MaxPool2d(kernel_size=3, stride=2, padding=0),  # (N, 2, 2, 32)\n",
        "        ) # Output: (N, 32)\n",
        "\n",
        "        # Input: (N, 32)\n",
        "        self.classifier = nn.Sequential(\n",
        "            nn.Dropout(p=dropout),\n",
        "            nn.Linear(32 * 2 * 2, 512),\n",
        "            nn.ReLU(inplace=True),\n",
        "            nn.Dropout(p=dropout),\n",
        "            nn.Linear(512, 512),\n",
        "            nn.ReLU(inplace=True),\n",
        "            nn.Linear(512, num_classes),\n",
        "        ) # Output: (N, 100)\n",
        "\n",
        "    def _initialize(self):\n",
        "        for layer in self.features:\n",
        "            if isinstance(layer, nn.Conv2d):\n",
        "                nn.init.normal_(layer.weigh, mean=0, std=0.01)\n",
        "                nn.init.constant_(layer.bias, 0)\n",
        "        for i in (3, 8, 10):\n",
        "            nn.init.constant_(self.features[i].bias, 1)\n",
        "\n",
        "    def forward(self, x: torch.Tensor) -> torch.Tensor:\n",
        "        x = self.features(x)\n",
        "        x = x.view(-1, 2 * 2 * 32)\n",
        "        x = self.classifier(x)\n",
        "        return x"
      ],
      "metadata": {
        "id": "5CzoTKy6lo8u"
      },
      "execution_count": null,
      "outputs": []
    },
    {
      "cell_type": "code",
      "source": [
        "seed = torch.initial_seed()\n",
        "print(f\"Seed: {seed}\")\n",
        "\n",
        "model = SAlexNet2()\n",
        "model = model.to(device)\n",
        "\n",
        "optimizer = optim.Adam(model.parameters(), lr=0.001, betas=(0.9, 0.999))\n",
        "lr_scheduler = optim.lr_scheduler.StepLR(optimizer, step_size=30, gamma=0.1)\n",
        "train_loader = data.DataLoader(train_set, shuffle=True,\n",
        "                               pin_memory=True, num_workers=2,\n",
        "                               drop_last=True, batch_size=BATCH_SIZE)\n",
        "\n",
        "print(\"Start training...\")\n",
        "total_steps = 1\n",
        "for epoch in range(NUM_EPOCHS):\n",
        "    pbar = tqdm(train_loader, ascii=True, ncols=80)\n",
        "    loss_records = []\n",
        "    for imgs, classes in pbar:\n",
        "        imgs, classes = imgs.to(device), classes.to(device)\n",
        "\n",
        "        # Calculate the loss\n",
        "        output = model(imgs)\n",
        "        loss = F.cross_entropy(output, classes)\n",
        "\n",
        "        # Update the parameters\n",
        "        optimizer.zero_grad()\n",
        "        loss.backward()\n",
        "        optimizer.step()\n",
        "        \n",
        "        loss_records.append(loss.item())\n",
        "\n",
        "        # Log\n",
        "#         if total_steps % 50 == 0:\n",
        "#             with torch.no_grad():\n",
        "#                 model.eval()\n",
        "#                 _, preds = torch.max(output, 1)\n",
        "#                 accuracy = torch.sum(preds == classes)\n",
        "\n",
        "#                 print(f\"Epoch: {epoch + 1} \\tStep: {total_steps} \\tLoss: {loss.item():.4f} \\tAcc: {accuracy.item()}/{BATCH_SIZE}\")\n",
        "#                 model.train()\n",
        "        total_steps += 1\n",
        "    loss_mean = np.mean(loss_records)\n",
        "    print(f\"Epoch: {epoch + 1} \\tStep: {total_steps} \\tLoss: {loss_mean:.4f}\")\n",
        "    lr_scheduler.step()\n",
        "\n",
        "    checkpoint_path = os.path.join(CHECKPOINTS_DIR, f\"salexnet_states2_e{epoch + 1:04d}.pkl\")\n",
        "    state = {\n",
        "        'epoch': epoch,\n",
        "        'total_steps': total_steps,\n",
        "        'optimizer': optimizer.state_dict(),\n",
        "        'model': model.state_dict(),\n",
        "        'seed': seed,\n",
        "    }\n",
        "    torch.save(state, checkpoint_path)"
      ],
      "metadata": {
        "id": "nwrXC_oFltAl"
      },
      "execution_count": null,
      "outputs": []
    },
    {
      "cell_type": "code",
      "source": [
        "test_loader = data.DataLoader(test_set, shuffle=True,\n",
        "                              pin_memory=True, num_workers=2,\n",
        "                              batch_size=BATCH_SIZE)\n",
        "model_paths = glob(os.path.join(CHECKPOINTS_DIR, 'salexnet_states2_e????.pkl'))\n",
        "model_paths.sort()\n",
        "\n",
        "accuracy_records = []\n",
        "\n",
        "for model_path in model_paths:\n",
        "    chk = torch.load(model_path)\n",
        "    epoch = chk['epoch']\n",
        "    \n",
        "    model = SAlexNet2()\n",
        "    model.load_state_dict(chk['model'])  # Load parameters from the checkpoint\n",
        "    model = model.to(device)\n",
        "  \n",
        "    correct_coutner = 0\n",
        "    pbar = tqdm(test_loader, ascii=True, ncols=80, total=len(test_set))\n",
        "    for imgs, labels in pbar:\n",
        "        imgs, labels = imgs.to(device), labels.to(device)\n",
        "        \n",
        "        with torch.no_grad():\n",
        "            output = model(imgs)\n",
        "            model.eval()\n",
        "            _, preds = torch.max(output, 1)\n",
        "            accuracy = torch.sum(preds == labels)\n",
        "            correct_coutner += accuracy.item()\n",
        "        pbar.update(BATCH_SIZE)\n",
        "\n",
        "    print(f\"Epoch: {epoch + 1} \\tAcc: {correct_coutner}/{len(test_set)}\")\n",
        "    accuracy_records.append(dict(epoch=(epoch + 1), correct = correct_coutner, path=model_path))\n",
        "\n",
        "accuracy_records.sort(reverse=True, key=lambda x: x['correct'])\n",
        "print(accuracy_records[0])    "
      ],
      "metadata": {
        "id": "k3-tRHcRl98_"
      },
      "execution_count": null,
      "outputs": []
    },
    {
      "cell_type": "markdown",
      "source": [
        "#Architecture"
      ],
      "metadata": {
        "id": "QfLihiyABxt6"
      }
    },
    {
      "cell_type": "code",
      "source": [
        "img='./Alexnet.PNG'\n",
        "img2='./Salexnet_1.PNG'\n",
        "img3='./Salexnet_2.PNG'"
      ],
      "metadata": {
        "id": "hUSOVndX3k1b"
      },
      "execution_count": null,
      "outputs": []
    },
    {
      "cell_type": "code",
      "source": [
        "im=cv2.imread(img)\n",
        "im2=cv2.imread(img2)\n",
        "im3=cv2.imread(img3)"
      ],
      "metadata": {
        "id": "C4TcOwLN3md0"
      },
      "execution_count": null,
      "outputs": []
    },
    {
      "cell_type": "code",
      "source": [
        "cv2_imshow(cv2.hconcat([im, im2, im3]))"
      ],
      "metadata": {
        "colab": {
          "base_uri": "https://localhost:8080/",
          "height": 817
        },
        "id": "bVWworly4Y58",
        "outputId": "7c3712e2-f806-44da-a709-569a694a5fc2"
      },
      "execution_count": null,
      "outputs": [
        {
          "output_type": "display_data",
          "data": {
            "text/plain": [
              "<PIL.Image.Image image mode=RGB size=1134x1058 at 0x7FA6323B3970>"
            ],
            "image/png": "[encoded data removed]"
          },
          "metadata": {}
        }
      ]
    },
    {
      "cell_type": "markdown",
      "source": [],
      "metadata": {
        "id": "fV49Kin9GuU7"
      }
    }
  ]
}