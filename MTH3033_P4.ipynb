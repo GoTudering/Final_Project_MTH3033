{
  "cells": [
    {
      "cell_type": "markdown",
      "metadata": {
        "id": "view-in-github",
        "colab_type": "text"
      },
      "source": [
        "<a href=\"https://colab.research.google.com/github/GoTudering/Final_Project_MTH3033/blob/main/MTH3033_P4.ipynb\" target=\"_parent\"><img src=\"https://colab.research.google.com/assets/colab-badge.svg\" alt=\"Open In Colab\"/></a>"
      ]
    },
    {
      "cell_type": "markdown",
      "metadata": {
        "id": "r9TVruyGmy_p"
      },
      "source": [
        "**Problem 1**: 20pts\n",
        "\n",
        "The first modern CNN (Krizhevsky et al., 2012), named AlexNet after one of its inventors, Alex Krizhevsky, is largely an evolutionary improvement over LeNet. It achieved excellent performance in the 2012 ImageNet challenge.\n",
        "\n",
        "AlexNet (2012) and its precursor LeNet (1995) share many architectural elements. This begs the question: why did it take so long? A key difference is that over the past two decades, the amount of data and computing power available had increased significantly. As such AlexNet was much larger: it was trained on much more data, and on much faster GPUs, compared to the CPUs available in 1995.\n",
        "\n",
        "AlexNet, which employed an 8-layer CNN, won the ImageNet Large Scale Visual Recognition Challenge 2012 by a large margin (Russakovsky et al., 2013). This network showed, for the first time, that the features obtained by learning can transcend manually-designed features, breaking the previous paradigm in computer vision.\n",
        "\n",
        "The architectures of AlexNet and LeNet are strikingly similar illustrates. Note that we provide a slightly streamlined version of AlexNet removing some of the design quirks that were needed in 2012 to make the model fit on two small GPUs."
      ]
    },
    {
      "cell_type": "markdown",
      "metadata": {
        "id": "IdE8jzWKmy_t"
      },
      "source": [
        "![alexnet.svg](attachment:alexnet.svg)"
      ]
    },
    {
      "cell_type": "markdown",
      "metadata": {
        "id": "x4UC8Vw-my_v"
      },
      "source": [
        "There are also significant differences between AlexNet and LeNet. First, AlexNet is much deeper than the comparatively small LeNet5. AlexNet consists of eight layers: five convolutional layers, two fully connected hidden layers, and one fully connected output layer. Second, AlexNet used the ReLU instead of the sigmoid as its activation function."
      ]
    },
    {
      "cell_type": "markdown",
      "metadata": {
        "id": "PaYMPouKmy_w"
      },
      "source": [
        "a. Implement LeNet-5 and AlexNet models on Fashion-MNIST dataset, and compare their performance. \n",
        "\n",
        "b. AlexNet may be too complex for the Fashion-MNIST dataset, in particular due to the low resolution of the initial images. Try simplifying the model to make the training faster, while ensuring that the accuracy does not drop significantly."
      ]
    },
    {
      "cell_type": "code",
      "execution_count": null,
      "metadata": {
        "id": "XYbZs8Qnmy_x"
      },
      "outputs": [],
      "source": []
    }
  ],
  "metadata": {
    "kernelspec": {
      "display_name": "Python 3 (ipykernel)",
      "language": "python",
      "name": "python3"
    },
    "language_info": {
      "codemirror_mode": {
        "name": "ipython",
        "version": 3
      },
      "file_extension": ".py",
      "mimetype": "text/x-python",
      "name": "python",
      "nbconvert_exporter": "python",
      "pygments_lexer": "ipython3",
      "version": "3.10.6"
    },
    "colab": {
      "provenance": [],
      "include_colab_link": true
    }
  },
  "nbformat": 4,
  "nbformat_minor": 0
}