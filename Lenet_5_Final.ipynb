{
  "nbformat": 4,
  "nbformat_minor": 0,
  "metadata": {
    "colab": {
      "provenance": [],
      "collapsed_sections": [
        "C9GC2drTLqSz",
        "k5GkdSOPdTHb"
      ],
      "authorship_tag": "ABX9TyPWLaL/NTS0nMMRq22yEahz",
      "include_colab_link": true
    },
    "kernelspec": {
      "name": "python3",
      "display_name": "Python 3"
    },
    "language_info": {
      "name": "python"
    },
    "accelerator": "GPU",
    "gpuClass": "standard"
  },
  "cells": [
    {
      "cell_type": "markdown",
      "metadata": {
        "id": "view-in-github",
        "colab_type": "text"
      },
      "source": [
        "<a href=\"https://colab.research.google.com/github/GoTudering/Final_Project_MTH3033/blob/main/Lenet_5_Final.ipynb\" target=\"_parent\"><img src=\"https://colab.research.google.com/assets/colab-badge.svg\" alt=\"Open In Colab\"/></a>"
      ]
    },
    {
      "cell_type": "markdown",
      "source": [
        "# **Low Level**"
      ],
      "metadata": {
        "id": "2cWr95vxq6qb"
      }
    },
    {
      "cell_type": "code",
      "source": [
        "inputs = torch.Tensor(1,1,28,28)\n",
        "print('Tensor shape : {}'.format(inputs.shape))"
      ],
      "metadata": {
        "colab": {
          "base_uri": "https://localhost:8080/"
        },
        "id": "WfklwZ0aXMgL",
        "outputId": "e69c321f-a82c-413c-ae00-278319169e37"
      },
      "execution_count": null,
      "outputs": [
        {
          "output_type": "stream",
          "name": "stdout",
          "text": [
            "Tensor shape : torch.Size([1, 1, 28, 28])\n"
          ]
        }
      ]
    },
    {
      "cell_type": "code",
      "source": [
        "conv1 = nn.Conv2d(1,6,kernel_size = 5,padding= 2, stride = 1 )\n",
        "print(conv1)"
      ],
      "metadata": {
        "colab": {
          "base_uri": "https://localhost:8080/"
        },
        "id": "_KC6lZMgWXmg",
        "outputId": "59847288-7ef9-4fc4-80ee-ae4f7597b494"
      },
      "execution_count": null,
      "outputs": [
        {
          "output_type": "stream",
          "name": "stdout",
          "text": [
            "Conv2d(1, 6, kernel_size=(5, 5), stride=(1, 1), padding=(2, 2))\n"
          ]
        }
      ]
    },
    {
      "cell_type": "code",
      "source": [
        "conv2 = nn.Conv2d(6,16,kernel_size = 5, stride = 1)\n",
        "print(conv2)"
      ],
      "metadata": {
        "colab": {
          "base_uri": "https://localhost:8080/"
        },
        "id": "jnR3D9aLWhIL",
        "outputId": "751c114d-a9da-47a9-d487-359aaa1a9963"
      },
      "execution_count": null,
      "outputs": [
        {
          "output_type": "stream",
          "name": "stdout",
          "text": [
            "Conv2d(6, 16, kernel_size=(5, 5), stride=(1, 1))\n"
          ]
        }
      ]
    },
    {
      "cell_type": "code",
      "source": [
        "conv3 = nn.Conv2d(16,120,kernel_size = 5, stride = 1)\n",
        "print(conv3)"
      ],
      "metadata": {
        "colab": {
          "base_uri": "https://localhost:8080/"
        },
        "id": "cw1Xh9krXxQ_",
        "outputId": "94e00a19-aa4a-44c0-ba56-03f1e68c4e0e"
      },
      "execution_count": null,
      "outputs": [
        {
          "output_type": "stream",
          "name": "stdout",
          "text": [
            "Conv2d(16, 120, kernel_size=(5, 5), stride=(1, 1))\n"
          ]
        }
      ]
    },
    {
      "cell_type": "code",
      "source": [
        "pool = nn.AvgPool2d(2,stride = 2)\n",
        "print(pool)"
      ],
      "metadata": {
        "colab": {
          "base_uri": "https://localhost:8080/"
        },
        "id": "N1NUykoFW6ja",
        "outputId": "cf185750-1630-4cca-e46e-e0817a1400b1"
      },
      "execution_count": null,
      "outputs": [
        {
          "output_type": "stream",
          "name": "stdout",
          "text": [
            "AvgPool2d(kernel_size=2, stride=2, padding=0)\n"
          ]
        }
      ]
    },
    {
      "cell_type": "code",
      "source": [
        "\n",
        "out = conv1(inputs)\n",
        "print(out.shape)"
      ],
      "metadata": {
        "colab": {
          "base_uri": "https://localhost:8080/"
        },
        "id": "HDs1d6UsXEfq",
        "outputId": "92d677eb-26aa-476c-f0f9-76b5978e0927"
      },
      "execution_count": null,
      "outputs": [
        {
          "output_type": "stream",
          "name": "stdout",
          "text": [
            "torch.Size([1, 6, 28, 28])\n"
          ]
        }
      ]
    },
    {
      "cell_type": "code",
      "source": [
        "out = pool(out)\n",
        "print(out.shape)"
      ],
      "metadata": {
        "colab": {
          "base_uri": "https://localhost:8080/"
        },
        "id": "UxUpUrqmXbH4",
        "outputId": "92ff8090-f8d0-4613-fdad-f58f9fcae503"
      },
      "execution_count": null,
      "outputs": [
        {
          "output_type": "stream",
          "name": "stdout",
          "text": [
            "torch.Size([1, 6, 14, 14])\n"
          ]
        }
      ]
    },
    {
      "cell_type": "code",
      "source": [
        "out = conv2(out)\n",
        "print(out.shape)"
      ],
      "metadata": {
        "colab": {
          "base_uri": "https://localhost:8080/"
        },
        "id": "Y0C5shGLXjMw",
        "outputId": "bb00914d-ffe0-4a27-992f-c895c6412d2d"
      },
      "execution_count": null,
      "outputs": [
        {
          "output_type": "stream",
          "name": "stdout",
          "text": [
            "torch.Size([1, 16, 10, 10])\n"
          ]
        }
      ]
    },
    {
      "cell_type": "code",
      "source": [
        "out = pool(out)\n",
        "print(out.shape)"
      ],
      "metadata": {
        "colab": {
          "base_uri": "https://localhost:8080/"
        },
        "id": "_0DKPZ4tX8HC",
        "outputId": "90e024d3-92fc-47b5-98a5-f9c0f2a21016"
      },
      "execution_count": null,
      "outputs": [
        {
          "output_type": "stream",
          "name": "stdout",
          "text": [
            "torch.Size([1, 16, 5, 5])\n"
          ]
        }
      ]
    },
    {
      "cell_type": "code",
      "source": [
        "out = conv3(out)\n",
        "print(out.shape)"
      ],
      "metadata": {
        "colab": {
          "base_uri": "https://localhost:8080/"
        },
        "id": "GIWkej_AXmoe",
        "outputId": "0a43efc9-5f46-45c1-89a7-126539cd0a43"
      },
      "execution_count": null,
      "outputs": [
        {
          "output_type": "stream",
          "name": "stdout",
          "text": [
            "torch.Size([1, 120, 1, 1])\n"
          ]
        }
      ]
    },
    {
      "cell_type": "code",
      "source": [
        "out.size(0)"
      ],
      "metadata": {
        "colab": {
          "base_uri": "https://localhost:8080/"
        },
        "id": "im10EIdJYq2i",
        "outputId": "7d79b666-9d3c-40cb-9738-07fcbf3233bc"
      },
      "execution_count": null,
      "outputs": [
        {
          "output_type": "execute_result",
          "data": {
            "text/plain": [
              "1"
            ]
          },
          "metadata": {},
          "execution_count": 12
        }
      ]
    },
    {
      "cell_type": "code",
      "source": [
        "out.size(1)"
      ],
      "metadata": {
        "colab": {
          "base_uri": "https://localhost:8080/"
        },
        "id": "IxqO-CAUYyvE",
        "outputId": "f34251df-e99e-4ecd-c116-bd76b29f4eb7"
      },
      "execution_count": null,
      "outputs": [
        {
          "output_type": "execute_result",
          "data": {
            "text/plain": [
              "120"
            ]
          },
          "metadata": {},
          "execution_count": 13
        }
      ]
    },
    {
      "cell_type": "code",
      "source": [
        "out = out.view(out.size(0),-1)\n",
        "print(out.shape)"
      ],
      "metadata": {
        "colab": {
          "base_uri": "https://localhost:8080/"
        },
        "id": "4PhVbqXaYz-2",
        "outputId": "c02b4f0a-4a89-4ed5-b1f2-45b416291715"
      },
      "execution_count": null,
      "outputs": [
        {
          "output_type": "stream",
          "name": "stdout",
          "text": [
            "torch.Size([1, 120])\n"
          ]
        }
      ]
    },
    {
      "cell_type": "code",
      "source": [
        "fc1 = nn.Linear(120,84)\n",
        "out = fc1(out)\n",
        "print(out.shape)"
      ],
      "metadata": {
        "colab": {
          "base_uri": "https://localhost:8080/"
        },
        "id": "jFDG_Nh6ZALU",
        "outputId": "7e59b688-041c-4731-dfc8-e178b8a4ff0d"
      },
      "execution_count": null,
      "outputs": [
        {
          "output_type": "stream",
          "name": "stdout",
          "text": [
            "torch.Size([1, 84])\n"
          ]
        }
      ]
    },
    {
      "cell_type": "code",
      "source": [
        "fc2 = nn.Linear(84,10)\n",
        "out = fc2(out)\n",
        "print(out.shape)"
      ],
      "metadata": {
        "colab": {
          "base_uri": "https://localhost:8080/"
        },
        "id": "QNi_jAnrZPUP",
        "outputId": "3cfc6839-237c-4fc3-deea-f23e9eb42089"
      },
      "execution_count": null,
      "outputs": [
        {
          "output_type": "stream",
          "name": "stdout",
          "text": [
            "torch.Size([1, 10])\n"
          ]
        }
      ]
    },
    {
      "cell_type": "markdown",
      "source": [
        "# **최종**"
      ],
      "metadata": {
        "id": "b4bB9aSUuZ-5"
      }
    },
    {
      "cell_type": "code",
      "source": [
        "import torch\n",
        "import torchvision.datasets as dsets\n",
        "import torchvision.transforms as transforms\n",
        "import torch.nn.init"
      ],
      "metadata": {
        "id": "eeV3RITGuce8"
      },
      "execution_count": 1,
      "outputs": []
    },
    {
      "cell_type": "code",
      "source": [
        "device = 'cuda' if torch.cuda.is_available() else 'cpu'\n",
        "\n",
        "# for reproducibility\n",
        "torch.manual_seed(777)\n",
        "if device == 'cuda':\n",
        "    torch.cuda.manual_seed_all(777)"
      ],
      "metadata": {
        "id": "vDMpXsz-uf1q"
      },
      "execution_count": 2,
      "outputs": []
    },
    {
      "cell_type": "code",
      "source": [
        "# parameters\n",
        "learning_rate = 0.001\n",
        "training_epochs = 30\n",
        "batch_size = 100"
      ],
      "metadata": {
        "id": "bPmK3r0VuhH7"
      },
      "execution_count": 3,
      "outputs": []
    },
    {
      "cell_type": "code",
      "source": [
        "Fashion_mnist_train = dsets.FashionMNIST(root='FashionMNIST_data/',\n",
        "                          train=True,\n",
        "                          transform=transforms.ToTensor(),\n",
        "                          download=True)\n",
        "\n",
        "Fashion_mnist_test = dsets.FashionMNIST(root='FashionMNIST_data/',\n",
        "                         train=False,\n",
        "                         transform=transforms.ToTensor(),\n",
        "                         download=True)"
      ],
      "metadata": {
        "id": "MNxWWg0R5ws-"
      },
      "execution_count": 5,
      "outputs": []
    },
    {
      "cell_type": "code",
      "source": [
        "# dataset loader\n",
        "data_loader = torch.utils.data.DataLoader(dataset=Fashion_mnist_train,\n",
        "                                          batch_size=batch_size,\n",
        "                                          shuffle=True,\n",
        "                                          drop_last=True)"
      ],
      "metadata": {
        "id": "mVUB_hLKunGc"
      },
      "execution_count": 6,
      "outputs": []
    },
    {
      "cell_type": "code",
      "source": [
        "# CNN Model\n",
        "class Lenet(torch.nn.Module):\n",
        "\n",
        "    def __init__(self):\n",
        "        super(Lenet, self).__init__()\n",
        "        self.keep_prob = 0.5 # for dropout\n",
        "        # L1 ImgIn shape=(?, 28, 28, 1)\n",
        "        #    Conv     -> (?, 28, 28, 6)\n",
        "        #    Pool     -> (?, 14, 14, 6)\n",
        "        self.layer1 = torch.nn.Sequential(\n",
        "            torch.nn.Conv2d(1, 6, kernel_size=5, stride=1, padding=2),\n",
        "            torch.nn.Sigmoid(),\n",
        "            torch.nn.AvgPool2d(kernel_size=2, stride=2))\n",
        "        # L2 ImgIn shape=(?, 14, 14, 6)\n",
        "        #    Conv      ->(?, 10, 10, 16)\n",
        "        #    Pool      ->(?, 5, 5, 16)\n",
        "        self.layer2 = torch.nn.Sequential(\n",
        "            torch.nn.Conv2d(6, 16, kernel_size=5, stride=1),\n",
        "            torch.nn.Sigmoid(),\n",
        "            torch.nn.AvgPool2d(kernel_size=2, stride=2))\n",
        "        # L3 ImgIn shape=(?, 5, 5, 16)\n",
        "        #    Conv      ->(?, 1, 1, 120)\n",
        "        self.layer3 = torch.nn.Sequential(\n",
        "            torch.nn.Conv2d(16, 120, kernel_size=5, stride=1),\n",
        "            torch.nn.Sigmoid(),\n",
        "            torch.nn.AvgPool2d(1,stride = 1))\n",
        "\n",
        "        # L4 FC 1x1x120 inputs -> 84 outputs\n",
        "        self.fc1 = torch.nn.Linear(1 * 1 * 120, 84, bias=True)\n",
        "        torch.nn.init.xavier_uniform_(self.fc1.weight)\n",
        "        self.layer4 = torch.nn.Sequential(\n",
        "            self.fc1,\n",
        "            torch.nn.Sigmoid(),\n",
        "            torch.nn.Dropout(p=1 - self.keep_prob))\n",
        "        # L5 Final FC 84 inputs -> 10 outputs\n",
        "        self.fc2 = torch.nn.Linear(84, 10, bias=True)\n",
        "        torch.nn.init.xavier_uniform_(self.fc2.weight)\n",
        "\n",
        "    def forward(self, x):\n",
        "        out = self.layer1(x)\n",
        "        out = self.layer2(out)\n",
        "        out = self.layer3(out)\n",
        "        out = out.view(out.size(0), -1)   # Flatten them for FC\n",
        "        out = self.layer4(out)\n",
        "        out = self.fc2(out)\n",
        "        return out"
      ],
      "metadata": {
        "id": "CZJqLq1KurlH"
      },
      "execution_count": 7,
      "outputs": []
    },
    {
      "cell_type": "code",
      "source": [
        "# instantiate CNN model\n",
        "model = Lenet().to(device)"
      ],
      "metadata": {
        "id": "aaKTY2NoxiZK"
      },
      "execution_count": 8,
      "outputs": []
    },
    {
      "cell_type": "code",
      "source": [
        "# define cost/loss & optimizer\n",
        "criterion = torch.nn.CrossEntropyLoss().to(device)    # Softmax is internally computed.\n",
        "optimizer = torch.optim.Adam(model.parameters(), lr=learning_rate)"
      ],
      "metadata": {
        "id": "DurOYqnaxleb"
      },
      "execution_count": 9,
      "outputs": []
    },
    {
      "cell_type": "code",
      "source": [
        "# train my model\n",
        "total_batch = len(data_loader)\n",
        "model.train()    # set the model to train mode (dropout=True)\n",
        "print('Learning started. It takes sometime.')\n",
        "for epoch in range(training_epochs):\n",
        "    avg_cost = 0\n",
        "\n",
        "    for X, Y in data_loader:\n",
        "        # image is already size of (28x28), no reshape\n",
        "        # label is not one-hot encoded\n",
        "        X = X.to(device)\n",
        "        Y = Y.to(device)\n",
        "\n",
        "        optimizer.zero_grad()\n",
        "        hypothesis = model(X)\n",
        "        cost = criterion(hypothesis, Y)\n",
        "        cost.backward()\n",
        "        optimizer.step()\n",
        "\n",
        "        avg_cost += cost / total_batch\n",
        "\n",
        "    print('[Epoch: {:>4}] cost = {:>.9}'.format(epoch + 1, avg_cost))\n",
        "\n",
        "print('Learning Finished!')"
      ],
      "metadata": {
        "colab": {
          "base_uri": "https://localhost:8080/"
        },
        "id": "3-il_hDNxngd",
        "outputId": "d9b2fa21-2c82-4c62-d1cd-23800ea02d27"
      },
      "execution_count": 10,
      "outputs": [
        {
          "output_type": "stream",
          "name": "stdout",
          "text": [
            "Learning started. It takes sometime.\n",
            "[Epoch:    1] cost = 2.30245304\n",
            "[Epoch:    2] cost = 0.972695947\n",
            "[Epoch:    3] cost = 0.693885922\n",
            "[Epoch:    4] cost = 0.623212397\n",
            "[Epoch:    5] cost = 0.573274791\n",
            "[Epoch:    6] cost = 0.538884699\n",
            "[Epoch:    7] cost = 0.51257062\n",
            "[Epoch:    8] cost = 0.490554631\n",
            "[Epoch:    9] cost = 0.471953362\n",
            "[Epoch:   10] cost = 0.455653012\n",
            "[Epoch:   11] cost = 0.442127824\n",
            "[Epoch:   12] cost = 0.429072648\n",
            "[Epoch:   13] cost = 0.417727232\n",
            "[Epoch:   14] cost = 0.409175992\n",
            "[Epoch:   15] cost = 0.400433362\n",
            "[Epoch:   16] cost = 0.39276734\n",
            "[Epoch:   17] cost = 0.383944154\n",
            "[Epoch:   18] cost = 0.378917366\n",
            "[Epoch:   19] cost = 0.371140301\n",
            "[Epoch:   20] cost = 0.363427758\n",
            "[Epoch:   21] cost = 0.359794468\n",
            "[Epoch:   22] cost = 0.35398984\n",
            "[Epoch:   23] cost = 0.351800352\n",
            "[Epoch:   24] cost = 0.344941616\n",
            "[Epoch:   25] cost = 0.342905879\n",
            "[Epoch:   26] cost = 0.337796867\n",
            "[Epoch:   27] cost = 0.335869342\n",
            "[Epoch:   28] cost = 0.333348364\n",
            "[Epoch:   29] cost = 0.326170534\n",
            "[Epoch:   30] cost = 0.323462427\n",
            "Learning Finished!\n"
          ]
        }
      ]
    },
    {
      "cell_type": "code",
      "source": [
        "# Test model and check accuracy\n",
        "with torch.no_grad():\n",
        "    model.eval()    # set the model to evaluation mode (dropout=False)\n",
        "\n",
        "    X_test = Fashion_mnist_test.test_data.view(len(Fashion_mnist_test), 1, 28, 28).float().to(device)\n",
        "    Y_test = Fashion_mnist_test.test_labels.to(device)\n",
        "\n",
        "    prediction = model(X_test)\n",
        "    correct_prediction = torch.argmax(prediction, 1) == Y_test\n",
        "    accuracy = correct_prediction.float().mean()\n",
        "    print('Accuracy:', accuracy.item())"
      ],
      "metadata": {
        "colab": {
          "base_uri": "https://localhost:8080/"
        },
        "id": "IDh6Q5STxpwS",
        "outputId": "d51299e1-2466-4f13-efc3-31ea8566c7f4"
      },
      "execution_count": 11,
      "outputs": [
        {
          "output_type": "stream",
          "name": "stdout",
          "text": [
            "Accuracy: 0.8366000056266785\n"
          ]
        },
        {
          "output_type": "stream",
          "name": "stderr",
          "text": [
            "/usr/local/lib/python3.8/dist-packages/torchvision/datasets/mnist.py:80: UserWarning: test_data has been renamed data\n",
            "  warnings.warn(\"test_data has been renamed data\")\n",
            "/usr/local/lib/python3.8/dist-packages/torchvision/datasets/mnist.py:70: UserWarning: test_labels has been renamed targets\n",
            "  warnings.warn(\"test_labels has been renamed targets\")\n"
          ]
        }
      ]
    },
    {
      "cell_type": "markdown",
      "source": [
        "# parameters\n",
        "learning_rate = 0.001\n",
        ", training_epochs = 30\n",
        ", batch_size = 100\n",
        ", [Epoch:   30] cost = 0.323462397\n",
        ", Accuracy: 0.8366000056266785"
      ],
      "metadata": {
        "id": "E22tXvWqLY-3"
      }
    },
    {
      "cell_type": "markdown",
      "source": [
        "# parameters\n",
        "learning_rate = 0.0001\n",
        ", training_epochs = 30\n",
        ", batch_size = 100\n",
        ", [Epoch:   30] cost = 0.623933136\n",
        ", Accuracy: 0.5525999665260315"
      ],
      "metadata": {
        "id": "C9GC2drTLqSz"
      }
    },
    {
      "cell_type": "code",
      "source": [
        "# parameters\n",
        "learning_rate = 0.0001\n",
        "training_epochs = 30\n",
        "batch_size = 100"
      ],
      "metadata": {
        "id": "76CPdA-0LwqF"
      },
      "execution_count": 13,
      "outputs": []
    },
    {
      "cell_type": "code",
      "source": [
        "# instantiate CNN model\n",
        "model = Lenet().to(device)"
      ],
      "metadata": {
        "id": "7kXYlEb8L2sw"
      },
      "execution_count": 14,
      "outputs": []
    },
    {
      "cell_type": "code",
      "source": [
        "# define cost/loss & optimizer\n",
        "criterion = torch.nn.CrossEntropyLoss().to(device)    # Softmax is internally computed.\n",
        "optimizer = torch.optim.Adam(model.parameters(), lr=learning_rate)"
      ],
      "metadata": {
        "id": "6N3yTYPOL4wZ"
      },
      "execution_count": 15,
      "outputs": []
    },
    {
      "cell_type": "code",
      "source": [
        "# train my model\n",
        "total_batch = len(data_loader)\n",
        "model.train()    # set the model to train mode (dropout=True)\n",
        "print('Learning started. It takes sometime.')\n",
        "for epoch in range(training_epochs):\n",
        "    avg_cost = 0\n",
        "\n",
        "    for X, Y in data_loader:\n",
        "        # image is already size of (28x28), no reshape\n",
        "        # label is not one-hot encoded\n",
        "        X = X.to(device)\n",
        "        Y = Y.to(device)\n",
        "\n",
        "        optimizer.zero_grad()\n",
        "        hypothesis = model(X)\n",
        "        cost = criterion(hypothesis, Y)\n",
        "        cost.backward()\n",
        "        optimizer.step()\n",
        "\n",
        "        avg_cost += cost / total_batch\n",
        "\n",
        "    print('[Epoch: {:>4}] cost = {:>.9}'.format(epoch + 1, avg_cost))\n",
        "\n",
        "print('Learning Finished!')"
      ],
      "metadata": {
        "colab": {
          "base_uri": "https://localhost:8080/"
        },
        "id": "vYzJ8OPeL7kJ",
        "outputId": "667af5aa-2a39-4896-b8f2-8b17a1878711"
      },
      "execution_count": 16,
      "outputs": [
        {
          "output_type": "stream",
          "name": "stdout",
          "text": [
            "Learning started. It takes sometime.\n",
            "[Epoch:    1] cost = 2.39497805\n",
            "[Epoch:    2] cost = 2.31842113\n",
            "[Epoch:    3] cost = 2.30986357\n",
            "[Epoch:    4] cost = 2.30571485\n",
            "[Epoch:    5] cost = 2.30316854\n",
            "[Epoch:    6] cost = 2.06571603\n",
            "[Epoch:    7] cost = 1.47964895\n",
            "[Epoch:    8] cost = 1.2263447\n",
            "[Epoch:    9] cost = 1.08970022\n",
            "[Epoch:   10] cost = 0.998242736\n",
            "[Epoch:   11] cost = 0.933161914\n",
            "[Epoch:   12] cost = 0.887539864\n",
            "[Epoch:   13] cost = 0.851607442\n",
            "[Epoch:   14] cost = 0.822056592\n",
            "[Epoch:   15] cost = 0.796923995\n",
            "[Epoch:   16] cost = 0.775072396\n",
            "[Epoch:   17] cost = 0.754238248\n",
            "[Epoch:   18] cost = 0.735512793\n",
            "[Epoch:   19] cost = 0.723216832\n",
            "[Epoch:   20] cost = 0.711005986\n",
            "[Epoch:   21] cost = 0.698223293\n",
            "[Epoch:   22] cost = 0.686553776\n",
            "[Epoch:   23] cost = 0.676157534\n",
            "[Epoch:   24] cost = 0.667972147\n",
            "[Epoch:   25] cost = 0.659668386\n",
            "[Epoch:   26] cost = 0.652582765\n",
            "[Epoch:   27] cost = 0.642806351\n",
            "[Epoch:   28] cost = 0.636498094\n",
            "[Epoch:   29] cost = 0.630700886\n",
            "[Epoch:   30] cost = 0.623933136\n",
            "Learning Finished!\n"
          ]
        }
      ]
    },
    {
      "cell_type": "code",
      "source": [
        "# Test model and check accuracy\n",
        "with torch.no_grad():\n",
        "    model.eval()    # set the model to evaluation mode (dropout=False)\n",
        "\n",
        "    X_test = Fashion_mnist_test.test_data.view(len(Fashion_mnist_test), 1, 28, 28).float().to(device)\n",
        "    Y_test = Fashion_mnist_test.test_labels.to(device)\n",
        "\n",
        "    prediction = model(X_test)\n",
        "    correct_prediction = torch.argmax(prediction, 1) == Y_test\n",
        "    accuracy = correct_prediction.float().mean()\n",
        "    print('Accuracy:', accuracy.item())"
      ],
      "metadata": {
        "colab": {
          "base_uri": "https://localhost:8080/"
        },
        "id": "67nri2V4L_N3",
        "outputId": "bb1891b8-2532-4402-cfb7-14907723c8e4"
      },
      "execution_count": 17,
      "outputs": [
        {
          "output_type": "stream",
          "name": "stdout",
          "text": [
            "Accuracy: 0.5525999665260315\n"
          ]
        }
      ]
    },
    {
      "cell_type": "markdown",
      "source": [
        "# parameters\n",
        "learning_rate = 0.01\n",
        ", training_epochs = 30\n",
        ", batch_size = 100\n",
        ", [Epoch:   30] cost = 0.231829226\n",
        ", Accuracy: 0.8578999638557434"
      ],
      "metadata": {
        "id": "k5GkdSOPdTHb"
      }
    },
    {
      "cell_type": "code",
      "source": [
        "# parameters\n",
        "learning_rate = 0.01\n",
        "training_epochs = 30\n",
        "batch_size = 100"
      ],
      "metadata": {
        "id": "WZnmpblhMc0p"
      },
      "execution_count": 18,
      "outputs": []
    },
    {
      "cell_type": "code",
      "source": [
        "# instantiate CNN model\n",
        "model = Lenet().to(device)"
      ],
      "metadata": {
        "id": "F9-JVNXhMe5_"
      },
      "execution_count": 19,
      "outputs": []
    },
    {
      "cell_type": "code",
      "source": [
        "# define cost/loss & optimizer\n",
        "criterion = torch.nn.CrossEntropyLoss().to(device)    # Softmax is internally computed.\n",
        "optimizer = torch.optim.Adam(model.parameters(), lr=learning_rate)"
      ],
      "metadata": {
        "id": "jtdkBQHmMgVv"
      },
      "execution_count": 20,
      "outputs": []
    },
    {
      "cell_type": "code",
      "source": [
        "# train my model\n",
        "total_batch = len(data_loader)\n",
        "model.train()    # set the model to train mode (dropout=True)\n",
        "print('Learning started. It takes sometime.')\n",
        "for epoch in range(training_epochs):\n",
        "    avg_cost = 0\n",
        "\n",
        "    for X, Y in data_loader:\n",
        "        # image is already size of (28x28), no reshape\n",
        "        # label is not one-hot encoded\n",
        "        X = X.to(device)\n",
        "        Y = Y.to(device)\n",
        "\n",
        "        optimizer.zero_grad()\n",
        "        hypothesis = model(X)\n",
        "        cost = criterion(hypothesis, Y)\n",
        "        cost.backward()\n",
        "        optimizer.step()\n",
        "\n",
        "        avg_cost += cost / total_batch\n",
        "\n",
        "    print('[Epoch: {:>4}] cost = {:>.9}'.format(epoch + 1, avg_cost))\n",
        "\n",
        "print('Learning Finished!')"
      ],
      "metadata": {
        "colab": {
          "base_uri": "https://localhost:8080/"
        },
        "id": "8-9XIglEMiDC",
        "outputId": "9f55578b-4abf-43f5-cf7a-5d31b19d663f"
      },
      "execution_count": 21,
      "outputs": [
        {
          "output_type": "stream",
          "name": "stdout",
          "text": [
            "Learning started. It takes sometime.\n",
            "[Epoch:    1] cost = 1.13151336\n",
            "[Epoch:    2] cost = 0.536779404\n",
            "[Epoch:    3] cost = 0.45770672\n",
            "[Epoch:    4] cost = 0.414605141\n",
            "[Epoch:    5] cost = 0.389588058\n",
            "[Epoch:    6] cost = 0.370925039\n",
            "[Epoch:    7] cost = 0.349725723\n",
            "[Epoch:    8] cost = 0.338615268\n",
            "[Epoch:    9] cost = 0.326311082\n",
            "[Epoch:   10] cost = 0.316673011\n",
            "[Epoch:   11] cost = 0.309342921\n",
            "[Epoch:   12] cost = 0.305294544\n",
            "[Epoch:   13] cost = 0.29808566\n",
            "[Epoch:   14] cost = 0.290970802\n",
            "[Epoch:   15] cost = 0.285872281\n",
            "[Epoch:   16] cost = 0.276337892\n",
            "[Epoch:   17] cost = 0.275457233\n",
            "[Epoch:   18] cost = 0.271694392\n",
            "[Epoch:   19] cost = 0.266388208\n",
            "[Epoch:   20] cost = 0.260963947\n",
            "[Epoch:   21] cost = 0.259329498\n",
            "[Epoch:   22] cost = 0.256788671\n",
            "[Epoch:   23] cost = 0.253836364\n",
            "[Epoch:   24] cost = 0.252434939\n",
            "[Epoch:   25] cost = 0.246303022\n",
            "[Epoch:   26] cost = 0.241216257\n",
            "[Epoch:   27] cost = 0.239887923\n",
            "[Epoch:   28] cost = 0.242459029\n",
            "[Epoch:   29] cost = 0.23643057\n",
            "[Epoch:   30] cost = 0.231829226\n",
            "Learning Finished!\n"
          ]
        }
      ]
    },
    {
      "cell_type": "code",
      "source": [
        "# Test model and check accuracy\n",
        "with torch.no_grad():\n",
        "    model.eval()    # set the model to evaluation mode (dropout=False)\n",
        "\n",
        "    X_test = Fashion_mnist_test.test_data.view(len(Fashion_mnist_test), 1, 28, 28).float().to(device)\n",
        "    Y_test = Fashion_mnist_test.test_labels.to(device)\n",
        "\n",
        "    prediction = model(X_test)\n",
        "    correct_prediction = torch.argmax(prediction, 1) == Y_test\n",
        "    accuracy = correct_prediction.float().mean()\n",
        "    print('Accuracy:', accuracy.item())"
      ],
      "metadata": {
        "colab": {
          "base_uri": "https://localhost:8080/"
        },
        "id": "8vFTKBSmMjzk",
        "outputId": "2d5cb045-28cf-4f25-f9b2-253713abc3f4"
      },
      "execution_count": 22,
      "outputs": [
        {
          "output_type": "stream",
          "name": "stdout",
          "text": [
            "Accuracy: 0.8578999638557434\n"
          ]
        }
      ]
    },
    {
      "cell_type": "code",
      "source": [],
      "metadata": {
        "id": "fod26P2uOKSs"
      },
      "execution_count": null,
      "outputs": []
    }
  ]
}